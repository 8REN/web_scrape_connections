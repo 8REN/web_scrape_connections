{
 "cells": [
  {
   "cell_type": "code",
   "execution_count": 40,
   "metadata": {},
   "outputs": [],
   "source": [
    "from selenium import webdriver\n",
    "from selenium.webdriver.common.keys import Keys\n",
    "from selenium.common.exceptions import NoSuchElementException\n",
    "from selenium.webdriver.support.ui import Select\n",
    "from selenium.webdriver.support.ui import WebDriverWait\n",
    "from selenium.webdriver.support import expected_conditions as EC\n",
    "from selenium.webdriver.common.by import By\n",
    "from selenium.webdriver import ActionChains\n",
    "from selenium.webdriver.common.desired_capabilities import DesiredCapabilities\n",
    "from selenium.webdriver.chrome.options import Options"
   ]
  },
  {
   "cell_type": "code",
   "execution_count": 41,
   "metadata": {},
   "outputs": [],
   "source": [
    "import time\n",
    "import csv\n",
    "import numpy as np\n",
    "import pandas as pd\n",
    "import requests\n",
    "import re\n",
    "\n",
    "from IPython.core.display import HTML"
   ]
  },
  {
   "cell_type": "code",
   "execution_count": 42,
   "metadata": {},
   "outputs": [],
   "source": [
    "import login"
   ]
  },
  {
   "cell_type": "markdown",
   "metadata": {},
   "source": [
    "# create webdriver instance"
   ]
  },
  {
   "cell_type": "code",
   "execution_count": 44,
   "metadata": {},
   "outputs": [],
   "source": [
    "PATH = \"C:\\Program Files (x86)\\chromedriver.exe\"\n",
    "driver = webdriver.Chrome(PATH)"
   ]
  },
  {
   "cell_type": "code",
   "execution_count": 45,
   "metadata": {},
   "outputs": [],
   "source": [
    "def sign_in(email, password):\n",
    "#     this function automates login process on linkedin, \n",
    "#     provide email and password as strings\n",
    "    time.sleep(2)\n",
    "    # webdriver gets page\n",
    "    driver.get(\"https://www.linkedin.com/\")\n",
    "    # pause for page to load\n",
    "    time.sleep(3)\n",
    "    # locate and send login email and password\n",
    "    driver.find_element_by_id(\"session_key\").send_keys(email)\n",
    "    driver.find_element_by_id(\"session_password\").send_keys(password)\n",
    "    driver.find_element_by_class_name(\"sign-in-form__submit-button\").click()"
   ]
  },
  {
   "cell_type": "code",
   "execution_count": 47,
   "metadata": {},
   "outputs": [],
   "source": [
    "sign_in(user, pw)"
   ]
  },
  {
   "cell_type": "code",
   "execution_count": 22,
   "metadata": {},
   "outputs": [],
   "source": [
    "def get_profile(url):\n",
    "    return driver.get(url)"
   ]
  },
  {
   "cell_type": "code",
   "execution_count": 48,
   "metadata": {},
   "outputs": [],
   "source": [
    "driver.get('https://www.linkedin.com/in/brennanmathis/')"
   ]
  },
  {
   "cell_type": "code",
   "execution_count": 24,
   "metadata": {},
   "outputs": [],
   "source": [
    "get_profile(profile)"
   ]
  },
  {
   "cell_type": "code",
   "execution_count": 54,
   "metadata": {},
   "outputs": [
    {
     "data": {
      "text/plain": [
       "'Brennan'"
      ]
     },
     "execution_count": 54,
     "metadata": {},
     "output_type": "execute_result"
    }
   ],
   "source": [
    "get_f_name()"
   ]
  },
  {
   "cell_type": "code",
   "execution_count": 53,
   "metadata": {},
   "outputs": [],
   "source": [
    "def get_f_name():\n",
    "    profile_header = driver.find_element_by_css_selector(\"ul.pv-top-card--list\")\n",
    "    first_name = profile_header.find_element_by_tag_name(\"li\").text.split(' ', 1)[0]\n",
    "    return first_name"
   ]
  },
  {
   "cell_type": "code",
   "execution_count": 26,
   "metadata": {},
   "outputs": [],
   "source": [
    "def get_first_name():\n",
    "    full_name = get_name()\n",
    "    name = full_name.split(' ', 1)\n",
    "    first_name = name[0]\n",
    "    return first_name"
   ]
  },
  {
   "cell_type": "code",
   "execution_count": 27,
   "metadata": {},
   "outputs": [],
   "source": [
    "def get_education():\n",
    "    # wait for element to proceed\n",
    "    w = WebDriverWait(driver, 10)\n",
    "    w.until(EC.presence_of_element_located((By.CSS_SELECTOR,\"div.profile-detail\")))\n",
    "    # background container\n",
    "    background = driver.find_element_by_css_selector(\n",
    "        \"div[id='oc-background-section']\")\n",
    "    #print(\"here\" + str(background))\n",
    "    driver.execute_script(\"arguments[0].scrollIntoView();\", background)\n",
    "    time.sleep(8)\n",
    "    # locate education section\n",
    "    try:\n",
    "        education = background.find_element_by_css_selector(\n",
    "            \"section[id='education-section']\")\n",
    "        time.sleep(5)\n",
    "        schools = education.find_elements_by_css_selector(\n",
    "            \"a[data-control-name='background_details_school']\")\n",
    "        school = schools[0]\n",
    "        school_name = get_school_name(school)\n",
    "    except NoSuchElementException:\n",
    "        school_name =  'nan'\n",
    "    return school_name"
   ]
  },
  {
   "cell_type": "code",
   "execution_count": 76,
   "metadata": {},
   "outputs": [
    {
     "name": "stdout",
     "output_type": "stream",
     "text": [
      "Brennan\n"
     ]
    }
   ],
   "source": [
    "f_name = get_f_name()\n",
    "print(f_name)"
   ]
  },
  {
   "cell_type": "code",
   "execution_count": 82,
   "metadata": {},
   "outputs": [
    {
     "name": "stdout",
     "output_type": "stream",
     "text": [
      "Flatiron School\n"
     ]
    }
   ],
   "source": [
    "school = get_education()\n",
    "print(school)"
   ]
  },
  {
   "cell_type": "code",
   "execution_count": 84,
   "metadata": {},
   "outputs": [],
   "source": [
    "driver.execute_script(\"window.scrollTo(0, 0);\")"
   ]
  },
  {
   "cell_type": "code",
   "execution_count": 87,
   "metadata": {},
   "outputs": [],
   "source": [
    "driver.find_element_by_class_name('pv-s-profile-actions--connect').click()"
   ]
  },
  {
   "cell_type": "code",
   "execution_count": 86,
   "metadata": {},
   "outputs": [],
   "source": [
    "driver.find_element_by_class_name('mr1').click()"
   ]
  },
  {
   "cell_type": "code",
   "execution_count": 13,
   "metadata": {},
   "outputs": [
    {
     "name": "stdout",
     "output_type": "stream",
     "text": [
      "Hi Brennan, I am a data scientist in the DC area & wanted to connect with you, as I also went to Flatiron School\n"
     ]
    }
   ],
   "source": [
    "message = f\"\"\"Hi {first_name}, I am a data scientist in the DC area &\n",
    "wanted to connect with you,\n",
    "as I also went to {school}\"\"\".replace('\\n',' ')\n",
    "print(message)"
   ]
  },
  {
   "cell_type": "code",
   "execution_count": 48,
   "metadata": {},
   "outputs": [],
   "source": [
    "add_message_button = driver.find_element_by_css_selector(\n",
    "                            \"button[aria-label='Add a note']\")\n",
    "add_message_button.click()"
   ]
  },
  {
   "cell_type": "code",
   "execution_count": 37,
   "metadata": {},
   "outputs": [],
   "source": [
    "message_input = driver.find_element_by_tag_name('button')"
   ]
  },
  {
   "cell_type": "code",
   "execution_count": 38,
   "metadata": {},
   "outputs": [],
   "source": [
    "message_input.click()"
   ]
  },
  {
   "cell_type": "code",
   "execution_count": 49,
   "metadata": {},
   "outputs": [],
   "source": [
    "message_input = driver.find_element_by_id('custom-message').send_keys(message)"
   ]
  },
  {
   "cell_type": "code",
   "execution_count": 50,
   "metadata": {},
   "outputs": [],
   "source": [
    "driver.find_element_by_class_name('ml1').click()"
   ]
  },
  {
   "cell_type": "code",
   "execution_count": 38,
   "metadata": {},
   "outputs": [],
   "source": [
    "def profile_connect(url):\n",
    "    get_profile(url)\n",
    "    time.sleep(5)\n",
    "    # scroll to top of profile to ensure elements can be found by webdriver\n",
    "    driver.execute_script(\"window.scrollTo(0, 0);\")\n",
    "    # obtain name to personalize message\n",
    "    f_name = get_first_name()\n",
    "    time.sleep(2)\n",
    "    # locate & click 'Connect' button located at top of profile\n",
    "    driver.find_element_by_class_name('pv-s-profile-actions--connect').click()\n",
    "    action_bar = driver.find_element_by_css_selector(\"div.artdeco-modal__actionbar\")\n",
    "    # locate 'Add a note' button by class\n",
    "    action_bar.find_element_by_class_name('mr1').click()\n",
    "    # create message using information scraped from profile\n",
    "    message = f'''Hi {f_name}, I am a data scientist in the DC area. \n",
    "    I wanted to reach out, say hi, and connect with you'''.replace('\\n',' ')\n",
    "    time.sleep(3)\n",
    "    # action to send text from message to input box\n",
    "    message_input = driver.find_element_by_id('custom-message').send_keys(message)\n",
    "    # send the message & connection request\n",
    "    driver.find_element_by_class_name('ml1').click()"
   ]
  },
  {
   "cell_type": "code",
   "execution_count": null,
   "metadata": {},
   "outputs": [],
   "source": [
    "driver.forward()\n",
    "driver.back()"
   ]
  },
  {
   "cell_type": "code",
   "execution_count": null,
   "metadata": {},
   "outputs": [],
   "source": [
    "driver.quit()"
   ]
  },
  {
   "cell_type": "code",
   "execution_count": null,
   "metadata": {},
   "outputs": [],
   "source": []
  },
  {
   "cell_type": "code",
   "execution_count": null,
   "metadata": {},
   "outputs": [],
   "source": []
  }
 ],
 "metadata": {
  "kernelspec": {
   "display_name": "Python 3",
   "language": "python",
   "name": "python3"
  },
  "language_info": {
   "codemirror_mode": {
    "name": "ipython",
    "version": 3
   },
   "file_extension": ".py",
   "mimetype": "text/x-python",
   "name": "python",
   "nbconvert_exporter": "python",
   "pygments_lexer": "ipython3",
   "version": "3.8.5"
  }
 },
 "nbformat": 4,
 "nbformat_minor": 4
}
