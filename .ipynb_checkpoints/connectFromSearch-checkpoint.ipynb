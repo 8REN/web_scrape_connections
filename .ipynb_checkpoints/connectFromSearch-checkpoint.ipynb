{
 "cells": [
  {
   "cell_type": "code",
   "execution_count": 1,
   "metadata": {},
   "outputs": [],
   "source": [
    "from selenium import webdriver\n",
    "from selenium.webdriver.common.keys import Keys\n",
    "from selenium.common.exceptions import NoSuchElementException, ElementNotInteractableException\n",
    "from selenium.webdriver.support.ui import WebDriverWait\n",
    "from selenium.webdriver.support import expected_conditions as EC\n",
    "from selenium.webdriver.common.by import By\n",
    "import time\n",
    "import csv\n",
    "import numpy as np\n",
    "import pandas as pd\n",
    "import re\n",
    "from auto_login import get_driver_login\n",
    "from core_scrape_functions import goto_next_page, profile_connect, get_job_company\n",
    "from people_search import people_scrape"
   ]
  },
  {
   "cell_type": "code",
   "execution_count": 45,
   "metadata": {},
   "outputs": [],
   "source": [
    "def connect(search_df):   \n",
    "# use to complete connection process when timeout errors occur mid process for scrape part of function\n",
    "#  use df obtained from search function as search_df \n",
    "    url_name_dict = dict(zip(list(search_df.name), list(search_df.fetch)))\n",
    "    for name, url in url_name_dict.items():\n",
    "        driver.get(url)\n",
    "   # first name derived from name\n",
    "        fname = name.split(' ')[0]\n",
    "\n",
    "        job_info = get_job_company()\n",
    "        current_job = job_info[0]\n",
    "        current_company = job_info[1]\n",
    "        if current_job != 'nan':\n",
    "            if current_company != 'nan':\n",
    "                message = (\"Hi \" + fname +\", I am a data scientist in the DC area. My background is in video editing. \",\n",
    "                                                               \"I am transitioning into the DS/ML career field, hoping to segue into AI.\", \n",
    "                                                               \" How do you like your role as \" + current_job + \" at \"+ current_company+\"?\",\n",
    "                                                               \"Anyway, I just wanted to reach out, connect, and say hello!\")  \n",
    "\n",
    "\n",
    "                profile_connect(message)\n",
    "                print(f'Connection complete: {name} // {current_company} // {current_job} ')\n",
    "    driver.quit()"
   ]
  },
  {
   "cell_type": "code",
   "execution_count": 49,
   "metadata": {},
   "outputs": [
    {
     "name": "stdout",
     "output_type": "stream",
     "text": [
      "Connection complete: Shiang // Apple // Machine Learning Engineer \n",
      "Connection complete: Birender // Zscaler Full-time // Machine Learning Engineer \n",
      "Connection complete: Jialing // Apple // Machine Learning Engineer \n",
      "Connection complete: Saurav // Unity Technologies Full-time // Machine Learning Engineer \n",
      "Connection complete: Qiuze // Apple Full-time // Machine Learning Engineer \n",
      "Connection complete: Michael // DispatchHealth Full-time // Jr. Machine Learning Engineer \n",
      "Connection complete: Ibrahim // Flatiron School Full-time // Data Science Immersive Program Student \n"
     ]
    }
   ],
   "source": [
    "# driver = get_driver_login('email@gmail.com', 'password1!', PATH = \"C:\\Program Files (x86)\\chromedriver.exe\")\n",
    "# df = people_scrape('machine learning engineer', 10)\n",
    "# connect(df[66:76])"
   ]
  }
 ],
 "metadata": {
  "kernelspec": {
   "display_name": "Python 3",
   "language": "python",
   "name": "python3"
  },
  "language_info": {
   "codemirror_mode": {
    "name": "ipython",
    "version": 3
   },
   "file_extension": ".py",
   "mimetype": "text/x-python",
   "name": "python",
   "nbconvert_exporter": "python",
   "pygments_lexer": "ipython3",
   "version": "3.8.5"
  }
 },
 "nbformat": 4,
 "nbformat_minor": 4
}
