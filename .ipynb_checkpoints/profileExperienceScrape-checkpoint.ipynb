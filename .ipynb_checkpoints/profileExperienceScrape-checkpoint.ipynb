{
 "cells": [
  {
   "cell_type": "code",
   "execution_count": 166,
   "metadata": {},
   "outputs": [],
   "source": [
    "from selenium import webdriver\n",
    "from selenium.webdriver.common.keys import Keys\n",
    "from selenium.webdriver.support.ui import Select\n",
    "from selenium.webdriver.support.ui import WebDriverWait\n",
    "from selenium.webdriver.support.ui import WebDriverWait\n",
    "from selenium.webdriver.support import expected_conditions as EC\n",
    "from selenium.webdriver.common.by import By\n",
    "from selenium.webdriver import ActionChains\n",
    "from selenium.webdriver.common.desired_capabilities import DesiredCapabilities\n",
    "from selenium.webdriver.chrome.options import Options"
   ]
  },
  {
   "cell_type": "code",
   "execution_count": 167,
   "metadata": {},
   "outputs": [],
   "source": [
    "import time\n",
    "import csv\n",
    "import numpy as np\n",
    "import pandas as pd\n",
    "import requests\n",
    "import re\n",
    "import bs4\n",
    "from bs4 import BeautifulSoup as bs\n",
    "from IPython.core.display import HTML"
   ]
  },
  {
   "cell_type": "markdown",
   "metadata": {},
   "source": [
    "# create webdriver instance"
   ]
  },
  {
   "cell_type": "code",
   "execution_count": 168,
   "metadata": {},
   "outputs": [],
   "source": [
    "PATH = \"C:\\Program Files (x86)\\chromedriver.exe\"\n",
    "driver = webdriver.Chrome(PATH)"
   ]
  },
  {
   "cell_type": "markdown",
   "metadata": {},
   "source": [
    "# automate login "
   ]
  },
  {
   "cell_type": "code",
   "execution_count": 169,
   "metadata": {},
   "outputs": [],
   "source": [
    "user = \"mn@gmail.com\"\n",
    "pw = \"S\""
   ]
  },
  {
   "cell_type": "code",
   "execution_count": 170,
   "metadata": {},
   "outputs": [],
   "source": [
    "def link_log(email, password):\n",
    "    driver.get(\"https://www.linkedin.com/\")\n",
    "    time.sleep(3)\n",
    "    driver.find_element_by_id(\"session_key\").send_keys(email)\n",
    "    driver.find_element_by_id(\"session_password\").send_keys(password)\n",
    "    driver.find_element_by_class_name(\"sign-in-form__submit-button\").click()"
   ]
  },
  {
   "cell_type": "code",
   "execution_count": 171,
   "metadata": {},
   "outputs": [],
   "source": [
    "link_log(user, pw)"
   ]
  },
  {
   "cell_type": "code",
   "execution_count": 172,
   "metadata": {},
   "outputs": [],
   "source": [
    "df = pd.read_csv('data_scientist_connections.csv')"
   ]
  },
  {
   "cell_type": "code",
   "execution_count": 249,
   "metadata": {},
   "outputs": [],
   "source": [
    "# create list of profile urls to iterate and scrape through individual profiles\n",
    "profile_urls = df.fetch[:100]\n"
   ]
  },
  {
   "cell_type": "code",
   "execution_count": 250,
   "metadata": {},
   "outputs": [],
   "source": [
    "# create empty lists to hold info scraped\n",
    "firstName = []\n",
    "lastName = []\n",
    "locList = []"
   ]
  },
  {
   "cell_type": "code",
   "execution_count": 252,
   "metadata": {},
   "outputs": [],
   "source": [
    "def get_profile_name(url):\n",
    "    driver.get(url)\n",
    "    # pause to allow page time to load\n",
    "    time.sleep(7)\n",
    "    # find name element from profile header portion\n",
    "    name = driver.find_element_by_css_selector(\"li.inline\")\n",
    "    time.sleep(3)\n",
    "    name = name.text.strip()\n",
    "    # split first and last name\n",
    "    name = name.split(' ', 1)\n",
    "    first_name = name[0]\n",
    "    firstName.append(first_name)\n",
    "    last_name = name[-1]\n",
    "    lastName.append(last_name)\n",
    "    time.sleep(3)"
   ]
  },
  {
   "cell_type": "code",
   "execution_count": 253,
   "metadata": {},
   "outputs": [],
   "source": [
    "for x in profile_urls:\n",
    "    get_profile_name(x)"
   ]
  },
  {
   "cell_type": "code",
   "execution_count": 161,
   "metadata": {},
   "outputs": [
    {
     "name": "stdout",
     "output_type": "stream",
     "text": [
      "10\n"
     ]
    }
   ],
   "source": [
    "print(len(lastName))"
   ]
  },
  {
   "cell_type": "code",
   "execution_count": null,
   "metadata": {},
   "outputs": [],
   "source": [
    "pro_df = pd.DataFrame()\n",
    "pro_df['first'] = firstName\n",
    "pro_df['last'] = lastName\n",
    "pro_df['loc2'] = locList\n",
    "pro_df.to_csv('.csv')"
   ]
  },
  {
   "cell_type": "code",
   "execution_count": 246,
   "metadata": {},
   "outputs": [],
   "source": [
    "job_list = []\n",
    "job_list2 = []\n",
    "company_list = []\n",
    "company_list2 = []\n",
    "date_list =[]\n",
    "date_list2 = []\n",
    "loc_list = []\n",
    "loc_list2 = []\n",
    "school_list = []\n",
    "school_list2 = []"
   ]
  },
  {
   "cell_type": "code",
   "execution_count": 174,
   "metadata": {},
   "outputs": [],
   "source": [
    "driver.get(profile_urls[7])"
   ]
  },
  {
   "cell_type": "code",
   "execution_count": null,
   "metadata": {},
   "outputs": [],
   "source": [
    "# find element / container \n",
    "background = driver.find_element_by_css_selector(\"div[id='oc-background-section']\")"
   ]
  },
  {
   "cell_type": "code",
   "execution_count": null,
   "metadata": {},
   "outputs": [],
   "source": [
    "driver.execute_script(\"arguments[0].scrollIntoView();\", background)"
   ]
  },
  {
   "cell_type": "code",
   "execution_count": null,
   "metadata": {},
   "outputs": [],
   "source": [
    "edu = background.find_element_by_css_selector(\"section[id='education-section']\")"
   ]
  },
  {
   "cell_type": "code",
   "execution_count": null,
   "metadata": {},
   "outputs": [],
   "source": [
    "school = edu.find_elements_by_css_selector(\"a[data-control-name='background_details_school']\")"
   ]
  },
  {
   "cell_type": "code",
   "execution_count": null,
   "metadata": {},
   "outputs": [],
   "source": [
    "school1 = school[0].find_element_by_tag_name('h3')\n",
    "print(school1.text)"
   ]
  },
  {
   "cell_type": "code",
   "execution_count": null,
   "metadata": {},
   "outputs": [],
   "source": [
    "school2 = school[1].find_element_by_tag_name('h3')\n",
    "print(school2.text)"
   ]
  },
  {
   "cell_type": "code",
   "execution_count": null,
   "metadata": {},
   "outputs": [],
   "source": [
    "background = driver.find_element_by_css_selector(\"div[id='oc-background-section']\")\n",
    "print(\"here\" + str(background))\n",
    "driver.execute_script(\"arguments[0].scrollIntoView();\", background)\n",
    "time.sleep(3)\n",
    "\n",
    "exp = background.find_element_by_css_selector(\"section[id='experience-section']\")\n",
    "deets = exp.find_element_by_css_selector(\"a[data-control-name='background_details_company']\")\n",
    "jobs = deets.find_elements_by_tag_name('h3')\n",
    "pos = jobs[0].text\n",
    "print(pos)\n",
    "company_name = deets.find_elements_by_tag_name('p')\n",
    "company = company_name[1].text.split(' ', 1)[0]\n",
    "print(company)\n",
    "h4_tags = deets.find_elements_by_tag_name('h4')\n",
    "location = h4_tags[1].text\n",
    "print(location)\n",
    "dates = h4_tags[0].text\n",
    "print(dates)\n",
    "#job_list.append(job)\n",
    "##company_list.append(company)\n",
    "#date_list.append(dates)\n",
    "#loc_list.append(location)\n",
    "    "
   ]
  },
  {
   "cell_type": "code",
   "execution_count": 244,
   "metadata": {},
   "outputs": [],
   "source": [
    "def get_background(url):\n",
    "    driver.get(url)\n",
    "    time.sleep(3)\n",
    "    # background container\n",
    "    background = driver.find_element_by_css_selector(\"div[id='oc-background-section']\")\n",
    "    #print(\"here\" + str(background))\n",
    "    driver.execute_script(\"arguments[0].scrollIntoView();\", background)\n",
    "    time.sleep(5)\n",
    "    # experience\n",
    "    exp = background.find_element_by_css_selector(\"section[id='experience-section']\")\n",
    "    time.sleep(2)\n",
    "    history = exp.find_elements_by_css_selector(\"a[data-control-name='background_details_company']\")\n",
    "    details = history[0]\n",
    "    jobs = details.find_elements_by_tag_name('h3')\n",
    "    pos = jobs[0].text\n",
    "    #print(pos)\n",
    "    company_name = details.find_elements_by_tag_name('p')\n",
    "    company = company_name[1].text\n",
    "    #print(company)\n",
    "    location = details.find_element_by_css_selector('h4.pv-entity__location').get_attribute('innerText')\n",
    "    location = location.split(' ', 1)[1]\n",
    "    #print(location)\n",
    "    dates = details.find_element_by_css_selector(\"h4.pv-entity__date-range\").get_attribute('innerText')\n",
    "    dates = dates.split(' ', 2)[-1]\n",
    "    #print(dates)\n",
    "    job_list.append(pos)\n",
    "    company_list.append(company)\n",
    "    date_list.append(dates)\n",
    "    loc_list.append(location)\n",
    "    if (len(history)) >=2:\n",
    "        details = history[1]\n",
    "        jobs = details.find_elements_by_tag_name('h3')\n",
    "        pos = jobs[0].text\n",
    "        #print(pos)\n",
    "        time.sleep(2)\n",
    "        company_name = details.find_elements_by_tag_name('p')\n",
    "        company = company_name[1].text\n",
    "        #print(company)\n",
    "        location = details.find_element_by_css_selector('h4.pv-entity__location').get_attribute('innerText')\n",
    "        location = location.split(' ', 1)[1]\n",
    "        time.sleep(3)\n",
    "        #print(location)\n",
    "        dates = details.find_element_by_css_selector(\"h4.pv-entity__date-range\").get_attribute('innerText')\n",
    "        dates = dates.split(' ', 2)[-1]\n",
    "        #print(dates)\n",
    "\n",
    "    if (len(history)) < 2:\n",
    "        pos = 'nan'\n",
    "        company  ='nan'\n",
    "        location  ='nan'\n",
    "        dates = 'nan'\n",
    "    job_list2.append(pos)\n",
    "    company_list2.append(company)\n",
    "    date_list2.append(dates)\n",
    "    loc_list2.append(location)\n",
    "        \n",
    "    \n",
    "    time.sleep(4)\n",
    "    # education\n",
    "    edu = background.find_element_by_css_selector(\"section[id='education-section']\")\n",
    "    time.sleep(5)\n",
    "    schools = edu.find_elements_by_css_selector(\"a[data-control-name='background_details_school']\")\n",
    "    school = school[0].find_element_by_tag_name('h3')\n",
    "    school_list.append(school)\n",
    "    #print(school.text)\n",
    "    if (len(schools)) >=2:\n",
    "        school = school[1].find_element_by_tag_name('h3')\n",
    "    else:\n",
    "        school = 'nan'\n",
    "    school_list2.append(school)\n",
    "    "
   ]
  },
  {
   "cell_type": "code",
   "execution_count": 245,
   "metadata": {},
   "outputs": [
    {
     "name": "stdout",
     "output_type": "stream",
     "text": [
      "Founder\n",
      "Snow Data Science\n",
      "Houston\n",
      "2021 – Present\n",
      "Freelance Data Scientist\n",
      "Freelance\n",
      "Texas, United States\n",
      "2019 – Present\n",
      "Georgia Institute of Technology\n",
      "University of Utah\n"
     ]
    }
   ],
   "source": [
    "get_background(profile)"
   ]
  },
  {
   "cell_type": "code",
   "execution_count": 236,
   "metadata": {},
   "outputs": [],
   "source": [
    "def get_edu(url):\n",
    "    edu = background.find_element_by_css_selector(\"section[id='education-section']\")\n",
    "    school = edu.find_elements_by_css_selector(\"a[data-control-name='background_details_school']\")\n",
    "    school1 = school[0].find_element_by_tag_name('h3')\n",
    "    print(school1.text)\n",
    "    school2 = school[1].find_element_by_tag_name('h3')\n",
    "    print(school2.text)"
   ]
  },
  {
   "cell_type": "code",
   "execution_count": null,
   "metadata": {},
   "outputs": [],
   "source": [
    "background = driver.find_element_by_css_selector(\"div[id='oc-background-section']\")\n",
    "print(\"here\" + str(background))\n",
    "driver.execute_script(\"arguments[0].scrollIntoView();\", background)\n",
    "time.sleep(3)\n",
    "\n",
    "education = background.find_element_by_css_selector(\"section[id='education-section']\")\n",
    "deets = exp.find_element_by_css_selector(\"a[data-control-name='background_details_company']\")\n",
    "jobs = deets.find_elements_by_tag_name('h3')\n",
    "pos = jobs[0].text\n",
    "print(pos)\n",
    "company_name = deets.find_elements_by_tag_name('p')\n",
    "company = company_name[1].text.split(' ', 1)[0]\n",
    "print(company)\n",
    "h4_tags = deets.find_elements_by_tag_name('h4')\n",
    "location = h4_tags[1].text\n",
    "print(location)\n",
    "dates = h4_tags[0].text\n",
    "print(dates)"
   ]
  },
  {
   "cell_type": "code",
   "execution_count": null,
   "metadata": {},
   "outputs": [],
   "source": [
    "def load_profile(url):\n",
    "    driver.get(url)\n",
    "    \n",
    "    w = WebDriverWait(driver, 8)\n",
    "    w.until(EC.presence_of_element_located((By.CLASS_NAME,\"profile-detail\")))\n",
    "    driver.execute_script(\"window.scrollTo(0, document.body.scrollHeight);\")"
   ]
  },
  {
   "cell_type": "code",
   "execution_count": null,
   "metadata": {},
   "outputs": [],
   "source": [
    "if len(job_titles) >= 2:\n",
    "    job_title2 = job_titles[1].get_text().strip()\n",
    "    company_name2 = company_names[3].get_text().strip()\n",
    "    emp_dates2 = emp_dates[3].find_all('span')[1].get_text().strip()\n",
    "# if only one job listed, since i am getting the first two jobs for each person, i want my data to be formatted \n",
    "else:\n",
    "    job_title2 = 'nan'\n",
    "    company_name2  ='nan'\n",
    "    emp_dates2  ='nan'"
   ]
  },
  {
   "cell_type": "code",
   "execution_count": null,
   "metadata": {},
   "outputs": [],
   "source": [
    "print(company_name2, emp_dates2, job_title2)"
   ]
  },
  {
   "cell_type": "code",
   "execution_count": null,
   "metadata": {},
   "outputs": [],
   "source": [
    "education = soup.find('section', {'id': 'education-section'})\n",
    "college_names = education.find_all('h3')\n",
    "college1 = college_names[0].get_text().strip()"
   ]
  },
  {
   "cell_type": "code",
   "execution_count": null,
   "metadata": {},
   "outputs": [],
   "source": [
    "college1"
   ]
  },
  {
   "cell_type": "code",
   "execution_count": null,
   "metadata": {},
   "outputs": [],
   "source": [
    "if len(college_names) >= 2:\n",
    "    college2 = college_names[1].get_text().strip()\n",
    "else:\n",
    "    college2 = 'nan'\n",
    "print(college2)"
   ]
  },
  {
   "cell_type": "code",
   "execution_count": null,
   "metadata": {},
   "outputs": [],
   "source": [
    "college_names = education.find_all('h3')\n",
    "college1 = college_names[1].get_text().strip()\n",
    "college2 = college_names[1].get_text().strip()"
   ]
  },
  {
   "cell_type": "code",
   "execution_count": null,
   "metadata": {},
   "outputs": [],
   "source": []
  },
  {
   "cell_type": "code",
   "execution_count": null,
   "metadata": {},
   "outputs": [],
   "source": [
    "firstList = []\n",
    "lastList = []\n",
    "locList = []\n",
    "title_job1_list = []\n",
    "title_job2_list = []\n",
    "dates_job1_list = []\n",
    "dates_job2_list = []\n",
    "company_job1_list = []\n",
    "company_job2_list = []\n",
    "school1_list = []\n",
    "school2_list = []"
   ]
  },
  {
   "cell_type": "code",
   "execution_count": null,
   "metadata": {},
   "outputs": [],
   "source": [
    "profile_urls = fetchList[0:10]"
   ]
  },
  {
   "cell_type": "code",
   "execution_count": null,
   "metadata": {},
   "outputs": [],
   "source": [
    "profile_urls"
   ]
  },
  {
   "cell_type": "code",
   "execution_count": null,
   "metadata": {},
   "outputs": [],
   "source": [
    "scrape_exp_edu(profile_urls)"
   ]
  },
  {
   "cell_type": "code",
   "execution_count": null,
   "metadata": {},
   "outputs": [],
   "source": []
  },
  {
   "cell_type": "code",
   "execution_count": null,
   "metadata": {},
   "outputs": [],
   "source": [
    "title_job1_list"
   ]
  },
  {
   "cell_type": "code",
   "execution_count": null,
   "metadata": {},
   "outputs": [],
   "source": [
    "driver.switch_to.window(window_handle)"
   ]
  },
  {
   "cell_type": "code",
   "execution_count": null,
   "metadata": {},
   "outputs": [],
   "source": [
    "connect_button = driver.find_element_by_link_text('Connect')\n",
    "driver.execute_script('arguments[0].click();',connect_button)"
   ]
  },
  {
   "cell_type": "code",
   "execution_count": null,
   "metadata": {},
   "outputs": [],
   "source": [
    "driver.current_url"
   ]
  },
  {
   "cell_type": "code",
   "execution_count": null,
   "metadata": {},
   "outputs": [],
   "source": []
  },
  {
   "cell_type": "code",
   "execution_count": null,
   "metadata": {},
   "outputs": [],
   "source": [
    "driver.forward()\n",
    "driver.back()"
   ]
  },
  {
   "cell_type": "code",
   "execution_count": null,
   "metadata": {},
   "outputs": [],
   "source": [
    "driver.quit()"
   ]
  },
  {
   "cell_type": "code",
   "execution_count": null,
   "metadata": {},
   "outputs": [],
   "source": []
  },
  {
   "cell_type": "code",
   "execution_count": null,
   "metadata": {},
   "outputs": [],
   "source": []
  }
 ],
 "metadata": {
  "kernelspec": {
   "display_name": "Python 3",
   "language": "python",
   "name": "python3"
  },
  "language_info": {
   "codemirror_mode": {
    "name": "ipython",
    "version": 3
   },
   "file_extension": ".py",
   "mimetype": "text/x-python",
   "name": "python",
   "nbconvert_exporter": "python",
   "pygments_lexer": "ipython3",
   "version": "3.8.5"
  }
 },
 "nbformat": 4,
 "nbformat_minor": 4
}
