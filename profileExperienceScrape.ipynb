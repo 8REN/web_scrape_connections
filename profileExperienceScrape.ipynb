{
 "cells": [
  {
   "cell_type": "code",
   "execution_count": 2,
   "metadata": {},
   "outputs": [],
   "source": [
    "from selenium import webdriver\n",
    "from selenium.webdriver.common.keys import Keys\n",
    "from selenium.webdriver.support.ui import Select\n",
    "from selenium.webdriver.support.ui import WebDriverWait\n",
    "from selenium.webdriver.support.ui import WebDriverWait\n",
    "from selenium.webdriver.support import expected_conditions as EC\n",
    "from selenium.webdriver.common.by import By\n",
    "from selenium.webdriver import ActionChains\n",
    "from selenium.webdriver.common.desired_capabilities import DesiredCapabilities\n",
    "from selenium.webdriver.chrome.options import Options"
   ]
  },
  {
   "cell_type": "code",
   "execution_count": 3,
   "metadata": {},
   "outputs": [],
   "source": [
    "import time\n",
    "import csv\n",
    "import numpy as np\n",
    "import pandas as pd\n",
    "import requests\n",
    "import re\n",
    "import bs4\n",
    "from bs4 import BeautifulSoup as bs\n",
    "from IPython.core.display import HTML"
   ]
  },
  {
   "cell_type": "markdown",
   "metadata": {},
   "source": [
    "# create webdriver instance"
   ]
  },
  {
   "cell_type": "code",
   "execution_count": 21,
   "metadata": {},
   "outputs": [],
   "source": [
    "PATH = \"C:\\Program Files (x86)\\chromedriver.exe\"\n",
    "driver = webdriver.Chrome(PATH)"
   ]
  },
  {
   "cell_type": "markdown",
   "metadata": {},
   "source": [
    "# automate login "
   ]
  },
  {
   "cell_type": "code",
   "execution_count": 22,
   "metadata": {},
   "outputs": [],
   "source": [
    "user = \"mathis.brennan@gmail.com\"\n",
    "pw = \"Shitballs1!\""
   ]
  },
  {
   "cell_type": "markdown",
   "metadata": {},
   "source": [
    "### create function"
   ]
  },
  {
   "cell_type": "code",
   "execution_count": 7,
   "metadata": {},
   "outputs": [],
   "source": [
    "def link_log(email, password):\n",
    "    driver.get(\"https://www.linkedin.com/\")\n",
    "    time.sleep(3)\n",
    "    driver.find_element_by_id(\"session_key\").send_keys(email)\n",
    "    driver.find_element_by_id(\"session_password\").send_keys(password)\n",
    "    driver.find_element_by_class_name(\"sign-in-form__submit-button\").click()\n"
   ]
  },
  {
   "cell_type": "code",
   "execution_count": 23,
   "metadata": {},
   "outputs": [],
   "source": [
    "link_log(user, pw)"
   ]
  },
  {
   "cell_type": "code",
   "execution_count": null,
   "metadata": {},
   "outputs": [],
   "source": []
  },
  {
   "cell_type": "code",
   "execution_count": 24,
   "metadata": {},
   "outputs": [],
   "source": [
    "name_link_df = pd.read_csv('data_scientist_connections.csv')"
   ]
  },
  {
   "cell_type": "code",
   "execution_count": 30,
   "metadata": {},
   "outputs": [],
   "source": [
    "driver.execute_script(\"window.scrollTo(0, document.body.scrollHeight);\")"
   ]
  },
  {
   "cell_type": "code",
   "execution_count": null,
   "metadata": {},
   "outputs": [],
   "source": [
    "nameList = []\n",
    "locList = []"
   ]
  },
  {
   "cell_type": "code",
   "execution_count": 34,
   "metadata": {
    "scrolled": false
   },
   "outputs": [
    {
     "name": "stdout",
     "output_type": "stream",
     "text": [
      "Rohan Singh Rajput Los Angeles, California, United States\n"
     ]
    }
   ],
   "source": [
    "name_loc_class = soup.find('div', {'class': 'display-flex mt2'})\n",
    "name_loc = name_loc_class.find_all('ul')\n",
    "n = name_loc[0].find('li').get_text().strip()\n",
    "l = name_loc[1].find('li').get_text().strip()\n",
    "print(n, l)"
   ]
  },
  {
   "cell_type": "code",
   "execution_count": 624,
   "metadata": {},
   "outputs": [],
   "source": [
    "name = driver.find_element_by_css_selector(\"li.inline\")\n",
    "name = name.text.strip()\n",
    "name = name.split(' ', 1)\n",
    "first_name = name[0]\n",
    "last_name = name[-1]\n",
    "location = driver.find_elements_by_css_selector(\"li.t-16\")\n",
    "location = location[1].text.strip()"
   ]
  },
  {
   "cell_type": "code",
   "execution_count": 621,
   "metadata": {
    "scrolled": true
   },
   "outputs": [
    {
     "data": {
      "text/plain": [
       "'Singh Rajput'"
      ]
     },
     "execution_count": 621,
     "metadata": {},
     "output_type": "execute_result"
    }
   ],
   "source": [
    "last_name"
   ]
  },
  {
   "cell_type": "code",
   "execution_count": 391,
   "metadata": {},
   "outputs": [],
   "source": [
    "job_list = []\n",
    "job_list2 = []\n",
    "company_list = []\n",
    "company_list2 = []\n",
    "date_list =[]\n",
    "date_list2 = []\n",
    "loc_list = []\n",
    "loc_list2 = []"
   ]
  },
  {
   "cell_type": "code",
   "execution_count": 819,
   "metadata": {},
   "outputs": [
    {
     "data": {
      "text/plain": [
       "0              https://www.linkedin.com/in/averyjsmith\n",
       "1                   https://www.linkedin.com/in/rohan3\n",
       "2                 https://www.linkedin.com/in/thomives\n",
       "3            https://www.linkedin.com/in/lu-michellepy\n",
       "4    https://www.linkedin.com/in/jalal-kiani-045721122\n",
       "5         https://www.linkedin.com/in/tscottclendaniel\n",
       "6              https://www.linkedin.com/in/nevinyilmaz\n",
       "7    https://www.linkedin.com/in/boi-n-moriba-85103...\n",
       "8                   https://www.linkedin.com/in/zouxin\n",
       "9               https://www.linkedin.com/in/isaacfaber\n",
       "Name: fetch, dtype: object"
      ]
     },
     "execution_count": 819,
     "metadata": {},
     "output_type": "execute_result"
    }
   ],
   "source": [
    "profile_urls"
   ]
  },
  {
   "cell_type": "code",
   "execution_count": 441,
   "metadata": {},
   "outputs": [],
   "source": [
    "profile_urls = fetchList[:10]"
   ]
  },
  {
   "cell_type": "code",
   "execution_count": 299,
   "metadata": {},
   "outputs": [],
   "source": [
    "\n",
    "driver.execute_script(\"window.scrollTo(0, document.body.scrollHeight);\")"
   ]
  },
  {
   "cell_type": "code",
   "execution_count": 150,
   "metadata": {},
   "outputs": [],
   "source": [
    "driver.refresh()"
   ]
  },
  {
   "cell_type": "code",
   "execution_count": 193,
   "metadata": {},
   "outputs": [],
   "source": [
    "def experience_scrape(profile):\n",
    "    driver.get(profile)\n",
    "    \n",
    "    w = WebDriverWait(driver, 8)\n",
    "    w.until(EC.presence_of_element_located((By.CLASS_NAME,\"profile-detail\")))\n",
    "    exp = driver.find_element_by_class_name(\"pv-profile-section experience-section\")\n",
    "    \n",
    "    jobs = exp.find_elements_by_class_name(\"pv-profile-section__card-item-v2\")\n",
    "    print(jobs)\n",
    "    job = jobs[0].text\n",
    "    print(job)\n",
    "    position = job.split('\\n', 1)[0]\n",
    "    company = job.split('\\n', 3)[2]\n",
    "    dates = job.split('\\n', 5)[4]\n",
    "    location = job.split('\\n', 7)[6]\n",
    "\n",
    "    job_list.append(job)\n",
    "    company_list.append(company)\n",
    "    date_list.append(dates)\n",
    "    loc_list.append(location)\n",
    "    \n",
    "    if len(jobs) >= 2:\n",
    "        job = jobs[1].text\n",
    "        position = job.split('\\n', 1)[0]\n",
    "        company = job.split('\\n', 3)[2]\n",
    "        dates = job.split('\\n', 5)[4]\n",
    "        location = job.split('\\n', 7)[6]\n",
    "\n",
    "    job_list2.append(job)\n",
    "    company_list2.append(company)\n",
    "    date_list2.append(dates)\n",
    "    loc_list2.append(location)\n",
    "# if only one job listed, since i am getting the first two jobs for each person, i want my data to be formatted \n",
    "    if len(job_titles) <=1:\n",
    "        job = 'nan'\n",
    "        company  ='nan'\n",
    "        dates  ='nan'\n",
    "        locatoin = 'nan'\n",
    "    job_list2.append(job_title)\n",
    "    company_list2.append(company_name)\n",
    "    date_list2.append(emp_date)\n",
    "    print(profile + \" complete\")"
   ]
  },
  {
   "cell_type": "code",
   "execution_count": 194,
   "metadata": {},
   "outputs": [
    {
     "ename": "NoSuchElementException",
     "evalue": "Message: no such element: Unable to locate element: {\"method\":\"css selector\",\"selector\":\".pv-profile-section experience-section\"}\n  (Session info: chrome=87.0.4280.141)\n",
     "output_type": "error",
     "traceback": [
      "\u001b[1;31m---------------------------------------------------------------------------\u001b[0m",
      "\u001b[1;31mNoSuchElementException\u001b[0m                    Traceback (most recent call last)",
      "\u001b[1;32m<ipython-input-194-d7e82e63b0f2>\u001b[0m in \u001b[0;36m<module>\u001b[1;34m\u001b[0m\n\u001b[1;32m----> 1\u001b[1;33m \u001b[0mexperience_scrape\u001b[0m\u001b[1;33m(\u001b[0m\u001b[0mfetchList\u001b[0m\u001b[1;33m[\u001b[0m\u001b[1;36m5\u001b[0m\u001b[1;33m]\u001b[0m\u001b[1;33m)\u001b[0m\u001b[1;33m\u001b[0m\u001b[1;33m\u001b[0m\u001b[0m\n\u001b[0m",
      "\u001b[1;32m<ipython-input-193-371ebd9adc9f>\u001b[0m in \u001b[0;36mexperience_scrape\u001b[1;34m(profile)\u001b[0m\n\u001b[0;32m      4\u001b[0m     \u001b[0mw\u001b[0m \u001b[1;33m=\u001b[0m \u001b[0mWebDriverWait\u001b[0m\u001b[1;33m(\u001b[0m\u001b[0mdriver\u001b[0m\u001b[1;33m,\u001b[0m \u001b[1;36m8\u001b[0m\u001b[1;33m)\u001b[0m\u001b[1;33m\u001b[0m\u001b[1;33m\u001b[0m\u001b[0m\n\u001b[0;32m      5\u001b[0m     \u001b[0mw\u001b[0m\u001b[1;33m.\u001b[0m\u001b[0muntil\u001b[0m\u001b[1;33m(\u001b[0m\u001b[0mEC\u001b[0m\u001b[1;33m.\u001b[0m\u001b[0mpresence_of_element_located\u001b[0m\u001b[1;33m(\u001b[0m\u001b[1;33m(\u001b[0m\u001b[0mBy\u001b[0m\u001b[1;33m.\u001b[0m\u001b[0mCLASS_NAME\u001b[0m\u001b[1;33m,\u001b[0m\u001b[1;34m\"profile-detail\"\u001b[0m\u001b[1;33m)\u001b[0m\u001b[1;33m)\u001b[0m\u001b[1;33m)\u001b[0m\u001b[1;33m\u001b[0m\u001b[1;33m\u001b[0m\u001b[0m\n\u001b[1;32m----> 6\u001b[1;33m     \u001b[0mexp\u001b[0m \u001b[1;33m=\u001b[0m \u001b[0mdriver\u001b[0m\u001b[1;33m.\u001b[0m\u001b[0mfind_element_by_class_name\u001b[0m\u001b[1;33m(\u001b[0m\u001b[1;34m\"pv-profile-section experience-section\"\u001b[0m\u001b[1;33m)\u001b[0m\u001b[1;33m\u001b[0m\u001b[1;33m\u001b[0m\u001b[0m\n\u001b[0m\u001b[0;32m      7\u001b[0m \u001b[1;33m\u001b[0m\u001b[0m\n\u001b[0;32m      8\u001b[0m     \u001b[0mjobs\u001b[0m \u001b[1;33m=\u001b[0m \u001b[0mexp\u001b[0m\u001b[1;33m.\u001b[0m\u001b[0mfind_elements_by_class_name\u001b[0m\u001b[1;33m(\u001b[0m\u001b[1;34m\"pv-profile-section__card-item-v2\"\u001b[0m\u001b[1;33m)\u001b[0m\u001b[1;33m\u001b[0m\u001b[1;33m\u001b[0m\u001b[0m\n",
      "\u001b[1;32m~\\anaconda3\\lib\\site-packages\\selenium\\webdriver\\remote\\webdriver.py\u001b[0m in \u001b[0;36mfind_element_by_class_name\u001b[1;34m(self, name)\u001b[0m\n\u001b[0;32m    562\u001b[0m             \u001b[0melement\u001b[0m \u001b[1;33m=\u001b[0m \u001b[0mdriver\u001b[0m\u001b[1;33m.\u001b[0m\u001b[0mfind_element_by_class_name\u001b[0m\u001b[1;33m(\u001b[0m\u001b[1;34m'foo'\u001b[0m\u001b[1;33m)\u001b[0m\u001b[1;33m\u001b[0m\u001b[1;33m\u001b[0m\u001b[0m\n\u001b[0;32m    563\u001b[0m         \"\"\"\n\u001b[1;32m--> 564\u001b[1;33m         \u001b[1;32mreturn\u001b[0m \u001b[0mself\u001b[0m\u001b[1;33m.\u001b[0m\u001b[0mfind_element\u001b[0m\u001b[1;33m(\u001b[0m\u001b[0mby\u001b[0m\u001b[1;33m=\u001b[0m\u001b[0mBy\u001b[0m\u001b[1;33m.\u001b[0m\u001b[0mCLASS_NAME\u001b[0m\u001b[1;33m,\u001b[0m \u001b[0mvalue\u001b[0m\u001b[1;33m=\u001b[0m\u001b[0mname\u001b[0m\u001b[1;33m)\u001b[0m\u001b[1;33m\u001b[0m\u001b[1;33m\u001b[0m\u001b[0m\n\u001b[0m\u001b[0;32m    565\u001b[0m \u001b[1;33m\u001b[0m\u001b[0m\n\u001b[0;32m    566\u001b[0m     \u001b[1;32mdef\u001b[0m \u001b[0mfind_elements_by_class_name\u001b[0m\u001b[1;33m(\u001b[0m\u001b[0mself\u001b[0m\u001b[1;33m,\u001b[0m \u001b[0mname\u001b[0m\u001b[1;33m)\u001b[0m\u001b[1;33m:\u001b[0m\u001b[1;33m\u001b[0m\u001b[1;33m\u001b[0m\u001b[0m\n",
      "\u001b[1;32m~\\anaconda3\\lib\\site-packages\\selenium\\webdriver\\remote\\webdriver.py\u001b[0m in \u001b[0;36mfind_element\u001b[1;34m(self, by, value)\u001b[0m\n\u001b[0;32m    974\u001b[0m                 \u001b[0mby\u001b[0m \u001b[1;33m=\u001b[0m \u001b[0mBy\u001b[0m\u001b[1;33m.\u001b[0m\u001b[0mCSS_SELECTOR\u001b[0m\u001b[1;33m\u001b[0m\u001b[1;33m\u001b[0m\u001b[0m\n\u001b[0;32m    975\u001b[0m                 \u001b[0mvalue\u001b[0m \u001b[1;33m=\u001b[0m \u001b[1;34m'[name=\"%s\"]'\u001b[0m \u001b[1;33m%\u001b[0m \u001b[0mvalue\u001b[0m\u001b[1;33m\u001b[0m\u001b[1;33m\u001b[0m\u001b[0m\n\u001b[1;32m--> 976\u001b[1;33m         return self.execute(Command.FIND_ELEMENT, {\n\u001b[0m\u001b[0;32m    977\u001b[0m             \u001b[1;34m'using'\u001b[0m\u001b[1;33m:\u001b[0m \u001b[0mby\u001b[0m\u001b[1;33m,\u001b[0m\u001b[1;33m\u001b[0m\u001b[1;33m\u001b[0m\u001b[0m\n\u001b[0;32m    978\u001b[0m             'value': value})['value']\n",
      "\u001b[1;32m~\\anaconda3\\lib\\site-packages\\selenium\\webdriver\\remote\\webdriver.py\u001b[0m in \u001b[0;36mexecute\u001b[1;34m(self, driver_command, params)\u001b[0m\n\u001b[0;32m    319\u001b[0m         \u001b[0mresponse\u001b[0m \u001b[1;33m=\u001b[0m \u001b[0mself\u001b[0m\u001b[1;33m.\u001b[0m\u001b[0mcommand_executor\u001b[0m\u001b[1;33m.\u001b[0m\u001b[0mexecute\u001b[0m\u001b[1;33m(\u001b[0m\u001b[0mdriver_command\u001b[0m\u001b[1;33m,\u001b[0m \u001b[0mparams\u001b[0m\u001b[1;33m)\u001b[0m\u001b[1;33m\u001b[0m\u001b[1;33m\u001b[0m\u001b[0m\n\u001b[0;32m    320\u001b[0m         \u001b[1;32mif\u001b[0m \u001b[0mresponse\u001b[0m\u001b[1;33m:\u001b[0m\u001b[1;33m\u001b[0m\u001b[1;33m\u001b[0m\u001b[0m\n\u001b[1;32m--> 321\u001b[1;33m             \u001b[0mself\u001b[0m\u001b[1;33m.\u001b[0m\u001b[0merror_handler\u001b[0m\u001b[1;33m.\u001b[0m\u001b[0mcheck_response\u001b[0m\u001b[1;33m(\u001b[0m\u001b[0mresponse\u001b[0m\u001b[1;33m)\u001b[0m\u001b[1;33m\u001b[0m\u001b[1;33m\u001b[0m\u001b[0m\n\u001b[0m\u001b[0;32m    322\u001b[0m             response['value'] = self._unwrap_value(\n\u001b[0;32m    323\u001b[0m                 response.get('value', None))\n",
      "\u001b[1;32m~\\anaconda3\\lib\\site-packages\\selenium\\webdriver\\remote\\errorhandler.py\u001b[0m in \u001b[0;36mcheck_response\u001b[1;34m(self, response)\u001b[0m\n\u001b[0;32m    240\u001b[0m                 \u001b[0malert_text\u001b[0m \u001b[1;33m=\u001b[0m \u001b[0mvalue\u001b[0m\u001b[1;33m[\u001b[0m\u001b[1;34m'alert'\u001b[0m\u001b[1;33m]\u001b[0m\u001b[1;33m.\u001b[0m\u001b[0mget\u001b[0m\u001b[1;33m(\u001b[0m\u001b[1;34m'text'\u001b[0m\u001b[1;33m)\u001b[0m\u001b[1;33m\u001b[0m\u001b[1;33m\u001b[0m\u001b[0m\n\u001b[0;32m    241\u001b[0m             \u001b[1;32mraise\u001b[0m \u001b[0mexception_class\u001b[0m\u001b[1;33m(\u001b[0m\u001b[0mmessage\u001b[0m\u001b[1;33m,\u001b[0m \u001b[0mscreen\u001b[0m\u001b[1;33m,\u001b[0m \u001b[0mstacktrace\u001b[0m\u001b[1;33m,\u001b[0m \u001b[0malert_text\u001b[0m\u001b[1;33m)\u001b[0m\u001b[1;33m\u001b[0m\u001b[1;33m\u001b[0m\u001b[0m\n\u001b[1;32m--> 242\u001b[1;33m         \u001b[1;32mraise\u001b[0m \u001b[0mexception_class\u001b[0m\u001b[1;33m(\u001b[0m\u001b[0mmessage\u001b[0m\u001b[1;33m,\u001b[0m \u001b[0mscreen\u001b[0m\u001b[1;33m,\u001b[0m \u001b[0mstacktrace\u001b[0m\u001b[1;33m)\u001b[0m\u001b[1;33m\u001b[0m\u001b[1;33m\u001b[0m\u001b[0m\n\u001b[0m\u001b[0;32m    243\u001b[0m \u001b[1;33m\u001b[0m\u001b[0m\n\u001b[0;32m    244\u001b[0m     \u001b[1;32mdef\u001b[0m \u001b[0m_value_or_default\u001b[0m\u001b[1;33m(\u001b[0m\u001b[0mself\u001b[0m\u001b[1;33m,\u001b[0m \u001b[0mobj\u001b[0m\u001b[1;33m,\u001b[0m \u001b[0mkey\u001b[0m\u001b[1;33m,\u001b[0m \u001b[0mdefault\u001b[0m\u001b[1;33m)\u001b[0m\u001b[1;33m:\u001b[0m\u001b[1;33m\u001b[0m\u001b[1;33m\u001b[0m\u001b[0m\n",
      "\u001b[1;31mNoSuchElementException\u001b[0m: Message: no such element: Unable to locate element: {\"method\":\"css selector\",\"selector\":\".pv-profile-section experience-section\"}\n  (Session info: chrome=87.0.4280.141)\n"
     ]
    }
   ],
   "source": [
    "experience_scrape(fetchList[5])"
   ]
  },
  {
   "cell_type": "code",
   "execution_count": 436,
   "metadata": {},
   "outputs": [],
   "source": [
    "driver.refresh()"
   ]
  },
  {
   "cell_type": "code",
   "execution_count": 439,
   "metadata": {},
   "outputs": [
    {
     "ename": "KeyError",
     "evalue": "5",
     "output_type": "error",
     "traceback": [
      "\u001b[1;31m---------------------------------------------------------------------------\u001b[0m",
      "\u001b[1;31mValueError\u001b[0m                                Traceback (most recent call last)",
      "\u001b[1;32m~\\anaconda3\\lib\\site-packages\\pandas\\core\\indexes\\range.py\u001b[0m in \u001b[0;36mget_loc\u001b[1;34m(self, key, method, tolerance)\u001b[0m\n\u001b[0;32m    354\u001b[0m                 \u001b[1;32mtry\u001b[0m\u001b[1;33m:\u001b[0m\u001b[1;33m\u001b[0m\u001b[1;33m\u001b[0m\u001b[0m\n\u001b[1;32m--> 355\u001b[1;33m                     \u001b[1;32mreturn\u001b[0m \u001b[0mself\u001b[0m\u001b[1;33m.\u001b[0m\u001b[0m_range\u001b[0m\u001b[1;33m.\u001b[0m\u001b[0mindex\u001b[0m\u001b[1;33m(\u001b[0m\u001b[0mnew_key\u001b[0m\u001b[1;33m)\u001b[0m\u001b[1;33m\u001b[0m\u001b[1;33m\u001b[0m\u001b[0m\n\u001b[0m\u001b[0;32m    356\u001b[0m                 \u001b[1;32mexcept\u001b[0m \u001b[0mValueError\u001b[0m \u001b[1;32mas\u001b[0m \u001b[0merr\u001b[0m\u001b[1;33m:\u001b[0m\u001b[1;33m\u001b[0m\u001b[1;33m\u001b[0m\u001b[0m\n",
      "\u001b[1;31mValueError\u001b[0m: 5 is not in range",
      "\nThe above exception was the direct cause of the following exception:\n",
      "\u001b[1;31mKeyError\u001b[0m                                  Traceback (most recent call last)",
      "\u001b[1;32m<ipython-input-439-1d3c0c133ce2>\u001b[0m in \u001b[0;36m<module>\u001b[1;34m\u001b[0m\n\u001b[1;32m----> 1\u001b[1;33m \u001b[0mdriver\u001b[0m\u001b[1;33m.\u001b[0m\u001b[0mget\u001b[0m\u001b[1;33m(\u001b[0m\u001b[0mprofile_urls\u001b[0m\u001b[1;33m[\u001b[0m\u001b[1;36m5\u001b[0m\u001b[1;33m]\u001b[0m\u001b[1;33m)\u001b[0m\u001b[1;33m\u001b[0m\u001b[1;33m\u001b[0m\u001b[0m\n\u001b[0m",
      "\u001b[1;32m~\\anaconda3\\lib\\site-packages\\pandas\\core\\series.py\u001b[0m in \u001b[0;36m__getitem__\u001b[1;34m(self, key)\u001b[0m\n\u001b[0;32m    880\u001b[0m \u001b[1;33m\u001b[0m\u001b[0m\n\u001b[0;32m    881\u001b[0m         \u001b[1;32melif\u001b[0m \u001b[0mkey_is_scalar\u001b[0m\u001b[1;33m:\u001b[0m\u001b[1;33m\u001b[0m\u001b[1;33m\u001b[0m\u001b[0m\n\u001b[1;32m--> 882\u001b[1;33m             \u001b[1;32mreturn\u001b[0m \u001b[0mself\u001b[0m\u001b[1;33m.\u001b[0m\u001b[0m_get_value\u001b[0m\u001b[1;33m(\u001b[0m\u001b[0mkey\u001b[0m\u001b[1;33m)\u001b[0m\u001b[1;33m\u001b[0m\u001b[1;33m\u001b[0m\u001b[0m\n\u001b[0m\u001b[0;32m    883\u001b[0m \u001b[1;33m\u001b[0m\u001b[0m\n\u001b[0;32m    884\u001b[0m         \u001b[1;32mif\u001b[0m \u001b[0mis_hashable\u001b[0m\u001b[1;33m(\u001b[0m\u001b[0mkey\u001b[0m\u001b[1;33m)\u001b[0m\u001b[1;33m:\u001b[0m\u001b[1;33m\u001b[0m\u001b[1;33m\u001b[0m\u001b[0m\n",
      "\u001b[1;32m~\\anaconda3\\lib\\site-packages\\pandas\\core\\series.py\u001b[0m in \u001b[0;36m_get_value\u001b[1;34m(self, label, takeable)\u001b[0m\n\u001b[0;32m    987\u001b[0m \u001b[1;33m\u001b[0m\u001b[0m\n\u001b[0;32m    988\u001b[0m         \u001b[1;31m# Similar to Index.get_value, but we do not fall back to positional\u001b[0m\u001b[1;33m\u001b[0m\u001b[1;33m\u001b[0m\u001b[1;33m\u001b[0m\u001b[0m\n\u001b[1;32m--> 989\u001b[1;33m         \u001b[0mloc\u001b[0m \u001b[1;33m=\u001b[0m \u001b[0mself\u001b[0m\u001b[1;33m.\u001b[0m\u001b[0mindex\u001b[0m\u001b[1;33m.\u001b[0m\u001b[0mget_loc\u001b[0m\u001b[1;33m(\u001b[0m\u001b[0mlabel\u001b[0m\u001b[1;33m)\u001b[0m\u001b[1;33m\u001b[0m\u001b[1;33m\u001b[0m\u001b[0m\n\u001b[0m\u001b[0;32m    990\u001b[0m         \u001b[1;32mreturn\u001b[0m \u001b[0mself\u001b[0m\u001b[1;33m.\u001b[0m\u001b[0mindex\u001b[0m\u001b[1;33m.\u001b[0m\u001b[0m_get_values_for_loc\u001b[0m\u001b[1;33m(\u001b[0m\u001b[0mself\u001b[0m\u001b[1;33m,\u001b[0m \u001b[0mloc\u001b[0m\u001b[1;33m,\u001b[0m \u001b[0mlabel\u001b[0m\u001b[1;33m)\u001b[0m\u001b[1;33m\u001b[0m\u001b[1;33m\u001b[0m\u001b[0m\n\u001b[0;32m    991\u001b[0m \u001b[1;33m\u001b[0m\u001b[0m\n",
      "\u001b[1;32m~\\anaconda3\\lib\\site-packages\\pandas\\core\\indexes\\range.py\u001b[0m in \u001b[0;36mget_loc\u001b[1;34m(self, key, method, tolerance)\u001b[0m\n\u001b[0;32m    355\u001b[0m                     \u001b[1;32mreturn\u001b[0m \u001b[0mself\u001b[0m\u001b[1;33m.\u001b[0m\u001b[0m_range\u001b[0m\u001b[1;33m.\u001b[0m\u001b[0mindex\u001b[0m\u001b[1;33m(\u001b[0m\u001b[0mnew_key\u001b[0m\u001b[1;33m)\u001b[0m\u001b[1;33m\u001b[0m\u001b[1;33m\u001b[0m\u001b[0m\n\u001b[0;32m    356\u001b[0m                 \u001b[1;32mexcept\u001b[0m \u001b[0mValueError\u001b[0m \u001b[1;32mas\u001b[0m \u001b[0merr\u001b[0m\u001b[1;33m:\u001b[0m\u001b[1;33m\u001b[0m\u001b[1;33m\u001b[0m\u001b[0m\n\u001b[1;32m--> 357\u001b[1;33m                     \u001b[1;32mraise\u001b[0m \u001b[0mKeyError\u001b[0m\u001b[1;33m(\u001b[0m\u001b[0mkey\u001b[0m\u001b[1;33m)\u001b[0m \u001b[1;32mfrom\u001b[0m \u001b[0merr\u001b[0m\u001b[1;33m\u001b[0m\u001b[1;33m\u001b[0m\u001b[0m\n\u001b[0m\u001b[0;32m    358\u001b[0m             \u001b[1;32mraise\u001b[0m \u001b[0mKeyError\u001b[0m\u001b[1;33m(\u001b[0m\u001b[0mkey\u001b[0m\u001b[1;33m)\u001b[0m\u001b[1;33m\u001b[0m\u001b[1;33m\u001b[0m\u001b[0m\n\u001b[0;32m    359\u001b[0m         \u001b[1;32mreturn\u001b[0m \u001b[0msuper\u001b[0m\u001b[1;33m(\u001b[0m\u001b[1;33m)\u001b[0m\u001b[1;33m.\u001b[0m\u001b[0mget_loc\u001b[0m\u001b[1;33m(\u001b[0m\u001b[0mkey\u001b[0m\u001b[1;33m,\u001b[0m \u001b[0mmethod\u001b[0m\u001b[1;33m=\u001b[0m\u001b[0mmethod\u001b[0m\u001b[1;33m,\u001b[0m \u001b[0mtolerance\u001b[0m\u001b[1;33m=\u001b[0m\u001b[0mtolerance\u001b[0m\u001b[1;33m)\u001b[0m\u001b[1;33m\u001b[0m\u001b[1;33m\u001b[0m\u001b[0m\n",
      "\u001b[1;31mKeyError\u001b[0m: 5"
     ]
    }
   ],
   "source": [
    "driver.get(profile_urls[5])"
   ]
  },
  {
   "cell_type": "code",
   "execution_count": 440,
   "metadata": {},
   "outputs": [
    {
     "ename": "NoSuchElementException",
     "evalue": "Message: no such element: Unable to locate element: {\"method\":\"css selector\",\"selector\":\"section[id='experience-section']\"}\n  (Session info: chrome=87.0.4280.141)\n",
     "output_type": "error",
     "traceback": [
      "\u001b[1;31m---------------------------------------------------------------------------\u001b[0m",
      "\u001b[1;31mNoSuchElementException\u001b[0m                    Traceback (most recent call last)",
      "\u001b[1;32m<ipython-input-440-7891a802836e>\u001b[0m in \u001b[0;36m<module>\u001b[1;34m\u001b[0m\n\u001b[0;32m      1\u001b[0m \u001b[0mbackground\u001b[0m \u001b[1;33m=\u001b[0m \u001b[0mdriver\u001b[0m\u001b[1;33m.\u001b[0m\u001b[0mfind_element_by_css_selector\u001b[0m\u001b[1;33m(\u001b[0m\u001b[1;34m\"div[id='oc-background-section']\"\u001b[0m\u001b[1;33m)\u001b[0m\u001b[1;33m\u001b[0m\u001b[1;33m\u001b[0m\u001b[0m\n\u001b[1;32m----> 2\u001b[1;33m \u001b[0mexp\u001b[0m \u001b[1;33m=\u001b[0m \u001b[0mbackground\u001b[0m\u001b[1;33m.\u001b[0m\u001b[0mfind_element_by_css_selector\u001b[0m\u001b[1;33m(\u001b[0m\u001b[1;34m\"section[id='experience-section']\"\u001b[0m\u001b[1;33m)\u001b[0m\u001b[1;33m\u001b[0m\u001b[1;33m\u001b[0m\u001b[0m\n\u001b[0m\u001b[0;32m      3\u001b[0m \u001b[0mdeets\u001b[0m \u001b[1;33m=\u001b[0m \u001b[0mexp\u001b[0m\u001b[1;33m.\u001b[0m\u001b[0mfind_element_by_css_selector\u001b[0m\u001b[1;33m(\u001b[0m\u001b[1;34m\"a[data-control-name='background_details_company']\"\u001b[0m\u001b[1;33m)\u001b[0m\u001b[1;33m\u001b[0m\u001b[1;33m\u001b[0m\u001b[0m\n\u001b[0;32m      4\u001b[0m \u001b[0mjobs\u001b[0m \u001b[1;33m=\u001b[0m \u001b[0mdeets\u001b[0m\u001b[1;33m.\u001b[0m\u001b[0mfind_elements_by_tag_name\u001b[0m\u001b[1;33m(\u001b[0m\u001b[1;34m'h3'\u001b[0m\u001b[1;33m)\u001b[0m\u001b[1;33m\u001b[0m\u001b[1;33m\u001b[0m\u001b[0m\n\u001b[0;32m      5\u001b[0m \u001b[0mpos\u001b[0m \u001b[1;33m=\u001b[0m \u001b[0mjobs\u001b[0m\u001b[1;33m[\u001b[0m\u001b[1;36m0\u001b[0m\u001b[1;33m]\u001b[0m\u001b[1;33m.\u001b[0m\u001b[0mtext\u001b[0m\u001b[1;33m\u001b[0m\u001b[1;33m\u001b[0m\u001b[0m\n",
      "\u001b[1;32m~\\anaconda3\\lib\\site-packages\\selenium\\webdriver\\remote\\webelement.py\u001b[0m in \u001b[0;36mfind_element_by_css_selector\u001b[1;34m(self, css_selector)\u001b[0m\n\u001b[0;32m    428\u001b[0m             \u001b[0melement\u001b[0m \u001b[1;33m=\u001b[0m \u001b[0melement\u001b[0m\u001b[1;33m.\u001b[0m\u001b[0mfind_element_by_css_selector\u001b[0m\u001b[1;33m(\u001b[0m\u001b[1;34m'#foo'\u001b[0m\u001b[1;33m)\u001b[0m\u001b[1;33m\u001b[0m\u001b[1;33m\u001b[0m\u001b[0m\n\u001b[0;32m    429\u001b[0m         \"\"\"\n\u001b[1;32m--> 430\u001b[1;33m         \u001b[1;32mreturn\u001b[0m \u001b[0mself\u001b[0m\u001b[1;33m.\u001b[0m\u001b[0mfind_element\u001b[0m\u001b[1;33m(\u001b[0m\u001b[0mby\u001b[0m\u001b[1;33m=\u001b[0m\u001b[0mBy\u001b[0m\u001b[1;33m.\u001b[0m\u001b[0mCSS_SELECTOR\u001b[0m\u001b[1;33m,\u001b[0m \u001b[0mvalue\u001b[0m\u001b[1;33m=\u001b[0m\u001b[0mcss_selector\u001b[0m\u001b[1;33m)\u001b[0m\u001b[1;33m\u001b[0m\u001b[1;33m\u001b[0m\u001b[0m\n\u001b[0m\u001b[0;32m    431\u001b[0m \u001b[1;33m\u001b[0m\u001b[0m\n\u001b[0;32m    432\u001b[0m     \u001b[1;32mdef\u001b[0m \u001b[0mfind_elements_by_css_selector\u001b[0m\u001b[1;33m(\u001b[0m\u001b[0mself\u001b[0m\u001b[1;33m,\u001b[0m \u001b[0mcss_selector\u001b[0m\u001b[1;33m)\u001b[0m\u001b[1;33m:\u001b[0m\u001b[1;33m\u001b[0m\u001b[1;33m\u001b[0m\u001b[0m\n",
      "\u001b[1;32m~\\anaconda3\\lib\\site-packages\\selenium\\webdriver\\remote\\webelement.py\u001b[0m in \u001b[0;36mfind_element\u001b[1;34m(self, by, value)\u001b[0m\n\u001b[0;32m    656\u001b[0m                 \u001b[0mvalue\u001b[0m \u001b[1;33m=\u001b[0m \u001b[1;34m'[name=\"%s\"]'\u001b[0m \u001b[1;33m%\u001b[0m \u001b[0mvalue\u001b[0m\u001b[1;33m\u001b[0m\u001b[1;33m\u001b[0m\u001b[0m\n\u001b[0;32m    657\u001b[0m \u001b[1;33m\u001b[0m\u001b[0m\n\u001b[1;32m--> 658\u001b[1;33m         return self._execute(Command.FIND_CHILD_ELEMENT,\n\u001b[0m\u001b[0;32m    659\u001b[0m                              {\"using\": by, \"value\": value})['value']\n\u001b[0;32m    660\u001b[0m \u001b[1;33m\u001b[0m\u001b[0m\n",
      "\u001b[1;32m~\\anaconda3\\lib\\site-packages\\selenium\\webdriver\\remote\\webelement.py\u001b[0m in \u001b[0;36m_execute\u001b[1;34m(self, command, params)\u001b[0m\n\u001b[0;32m    631\u001b[0m             \u001b[0mparams\u001b[0m \u001b[1;33m=\u001b[0m \u001b[1;33m{\u001b[0m\u001b[1;33m}\u001b[0m\u001b[1;33m\u001b[0m\u001b[1;33m\u001b[0m\u001b[0m\n\u001b[0;32m    632\u001b[0m         \u001b[0mparams\u001b[0m\u001b[1;33m[\u001b[0m\u001b[1;34m'id'\u001b[0m\u001b[1;33m]\u001b[0m \u001b[1;33m=\u001b[0m \u001b[0mself\u001b[0m\u001b[1;33m.\u001b[0m\u001b[0m_id\u001b[0m\u001b[1;33m\u001b[0m\u001b[1;33m\u001b[0m\u001b[0m\n\u001b[1;32m--> 633\u001b[1;33m         \u001b[1;32mreturn\u001b[0m \u001b[0mself\u001b[0m\u001b[1;33m.\u001b[0m\u001b[0m_parent\u001b[0m\u001b[1;33m.\u001b[0m\u001b[0mexecute\u001b[0m\u001b[1;33m(\u001b[0m\u001b[0mcommand\u001b[0m\u001b[1;33m,\u001b[0m \u001b[0mparams\u001b[0m\u001b[1;33m)\u001b[0m\u001b[1;33m\u001b[0m\u001b[1;33m\u001b[0m\u001b[0m\n\u001b[0m\u001b[0;32m    634\u001b[0m \u001b[1;33m\u001b[0m\u001b[0m\n\u001b[0;32m    635\u001b[0m     \u001b[1;32mdef\u001b[0m \u001b[0mfind_element\u001b[0m\u001b[1;33m(\u001b[0m\u001b[0mself\u001b[0m\u001b[1;33m,\u001b[0m \u001b[0mby\u001b[0m\u001b[1;33m=\u001b[0m\u001b[0mBy\u001b[0m\u001b[1;33m.\u001b[0m\u001b[0mID\u001b[0m\u001b[1;33m,\u001b[0m \u001b[0mvalue\u001b[0m\u001b[1;33m=\u001b[0m\u001b[1;32mNone\u001b[0m\u001b[1;33m)\u001b[0m\u001b[1;33m:\u001b[0m\u001b[1;33m\u001b[0m\u001b[1;33m\u001b[0m\u001b[0m\n",
      "\u001b[1;32m~\\anaconda3\\lib\\site-packages\\selenium\\webdriver\\remote\\webdriver.py\u001b[0m in \u001b[0;36mexecute\u001b[1;34m(self, driver_command, params)\u001b[0m\n\u001b[0;32m    319\u001b[0m         \u001b[0mresponse\u001b[0m \u001b[1;33m=\u001b[0m \u001b[0mself\u001b[0m\u001b[1;33m.\u001b[0m\u001b[0mcommand_executor\u001b[0m\u001b[1;33m.\u001b[0m\u001b[0mexecute\u001b[0m\u001b[1;33m(\u001b[0m\u001b[0mdriver_command\u001b[0m\u001b[1;33m,\u001b[0m \u001b[0mparams\u001b[0m\u001b[1;33m)\u001b[0m\u001b[1;33m\u001b[0m\u001b[1;33m\u001b[0m\u001b[0m\n\u001b[0;32m    320\u001b[0m         \u001b[1;32mif\u001b[0m \u001b[0mresponse\u001b[0m\u001b[1;33m:\u001b[0m\u001b[1;33m\u001b[0m\u001b[1;33m\u001b[0m\u001b[0m\n\u001b[1;32m--> 321\u001b[1;33m             \u001b[0mself\u001b[0m\u001b[1;33m.\u001b[0m\u001b[0merror_handler\u001b[0m\u001b[1;33m.\u001b[0m\u001b[0mcheck_response\u001b[0m\u001b[1;33m(\u001b[0m\u001b[0mresponse\u001b[0m\u001b[1;33m)\u001b[0m\u001b[1;33m\u001b[0m\u001b[1;33m\u001b[0m\u001b[0m\n\u001b[0m\u001b[0;32m    322\u001b[0m             response['value'] = self._unwrap_value(\n\u001b[0;32m    323\u001b[0m                 response.get('value', None))\n",
      "\u001b[1;32m~\\anaconda3\\lib\\site-packages\\selenium\\webdriver\\remote\\errorhandler.py\u001b[0m in \u001b[0;36mcheck_response\u001b[1;34m(self, response)\u001b[0m\n\u001b[0;32m    240\u001b[0m                 \u001b[0malert_text\u001b[0m \u001b[1;33m=\u001b[0m \u001b[0mvalue\u001b[0m\u001b[1;33m[\u001b[0m\u001b[1;34m'alert'\u001b[0m\u001b[1;33m]\u001b[0m\u001b[1;33m.\u001b[0m\u001b[0mget\u001b[0m\u001b[1;33m(\u001b[0m\u001b[1;34m'text'\u001b[0m\u001b[1;33m)\u001b[0m\u001b[1;33m\u001b[0m\u001b[1;33m\u001b[0m\u001b[0m\n\u001b[0;32m    241\u001b[0m             \u001b[1;32mraise\u001b[0m \u001b[0mexception_class\u001b[0m\u001b[1;33m(\u001b[0m\u001b[0mmessage\u001b[0m\u001b[1;33m,\u001b[0m \u001b[0mscreen\u001b[0m\u001b[1;33m,\u001b[0m \u001b[0mstacktrace\u001b[0m\u001b[1;33m,\u001b[0m \u001b[0malert_text\u001b[0m\u001b[1;33m)\u001b[0m\u001b[1;33m\u001b[0m\u001b[1;33m\u001b[0m\u001b[0m\n\u001b[1;32m--> 242\u001b[1;33m         \u001b[1;32mraise\u001b[0m \u001b[0mexception_class\u001b[0m\u001b[1;33m(\u001b[0m\u001b[0mmessage\u001b[0m\u001b[1;33m,\u001b[0m \u001b[0mscreen\u001b[0m\u001b[1;33m,\u001b[0m \u001b[0mstacktrace\u001b[0m\u001b[1;33m)\u001b[0m\u001b[1;33m\u001b[0m\u001b[1;33m\u001b[0m\u001b[0m\n\u001b[0m\u001b[0;32m    243\u001b[0m \u001b[1;33m\u001b[0m\u001b[0m\n\u001b[0;32m    244\u001b[0m     \u001b[1;32mdef\u001b[0m \u001b[0m_value_or_default\u001b[0m\u001b[1;33m(\u001b[0m\u001b[0mself\u001b[0m\u001b[1;33m,\u001b[0m \u001b[0mobj\u001b[0m\u001b[1;33m,\u001b[0m \u001b[0mkey\u001b[0m\u001b[1;33m,\u001b[0m \u001b[0mdefault\u001b[0m\u001b[1;33m)\u001b[0m\u001b[1;33m:\u001b[0m\u001b[1;33m\u001b[0m\u001b[1;33m\u001b[0m\u001b[0m\n",
      "\u001b[1;31mNoSuchElementException\u001b[0m: Message: no such element: Unable to locate element: {\"method\":\"css selector\",\"selector\":\"section[id='experience-section']\"}\n  (Session info: chrome=87.0.4280.141)\n"
     ]
    }
   ],
   "source": [
    "\n",
    "background = driver.find_element_by_css_selector(\"div[id='oc-background-section']\")\n",
    "exp = background.find_element_by_css_selector(\"section[id='experience-section']\")\n",
    "deets = exp.find_element_by_css_selector(\"a[data-control-name='background_details_company']\")\n",
    "jobs = deets.find_elements_by_tag_name('h3')\n",
    "pos = jobs[0].text\n",
    "print(pos)\n",
    "company_name = deets.find_elements_by_tag_name('p')\n",
    "company = company_name[1].text.split(' ', 1)[0]\n",
    "print(company)\n",
    "h4_tags = deets.find_elements_by_tag_name('h4')\n",
    "location = h4_tags[1].text\n",
    "print(location)\n",
    "dates = h4_tags[0].text\n",
    "job_list.append(job)\n",
    "company_list.append(company)\n",
    "date_list.append(dates)\n",
    "loc_list.append(location)\n",
    "    "
   ]
  },
  {
   "cell_type": "code",
   "execution_count": 398,
   "metadata": {},
   "outputs": [],
   "source": [
    "def load_profile(url):\n",
    "    driver.get(url)\n",
    "    \n",
    "    w = WebDriverWait(driver, 8)\n",
    "    w.until(EC.presence_of_element_located((By.CLASS_NAME,\"profile-detail\")))\n",
    "    driver.execute_script(\"window.scrollTo(0, document.body.scrollHeight);\")"
   ]
  },
  {
   "cell_type": "code",
   "execution_count": 403,
   "metadata": {},
   "outputs": [],
   "source": [
    "def get_exp(url):\n",
    "    driver.get(url)\n",
    "    \n",
    "    w = WebDriverWait(driver, 8)\n",
    "    w.until(EC.presence_of_element_located((By.CLASS_NAME,\"profile-detail\")))\n",
    "    driver.execute_script(\"window.scrollTo(0, document.body.scrollHeight);\")\n",
    "    time.sleep(2)\n",
    "    background = driver.find_element_by_css_selector(\"div[id='oc-background-section']\")\n",
    "    exp = background.find_element_by_css_selector(\"section[id='experience-section']\")\n",
    "    deets = exp.find_element_by_css_selector(\"a[data-control-name='background_details_company']\")\n",
    "    jobs = deets.find_elements_by_tag_name('h3')\n",
    "    pos = jobs[0].text\n",
    "    print(pos)\n",
    "    company_name = deets.find_elements_by_tag_name('p')\n",
    "    company = company_name[1].text.split(' ', 1)[0]\n",
    "    print(company)\n",
    "    h4_tags = deets.find_elements_by_tag_name('h4')\n",
    "    location = h4_tags[1].text\n",
    "    print(location)\n",
    "    dates = h4_tags[0].text\n",
    "    job_list.append(job)\n",
    "    company_list.append(company)\n",
    "    date_list.append(dates)\n",
    "    loc_list.append(location)\n",
    "    "
   ]
  },
  {
   "cell_type": "code",
   "execution_count": 426,
   "metadata": {},
   "outputs": [
    {
     "ename": "NoSuchElementException",
     "evalue": "Message: no such element: Unable to locate element: {\"method\":\"css selector\",\"selector\":\"section[id='experience-section']\"}\n  (Session info: chrome=87.0.4280.141)\n",
     "output_type": "error",
     "traceback": [
      "\u001b[1;31m---------------------------------------------------------------------------\u001b[0m",
      "\u001b[1;31mNoSuchElementException\u001b[0m                    Traceback (most recent call last)",
      "\u001b[1;32m<ipython-input-426-71583c091c75>\u001b[0m in \u001b[0;36m<module>\u001b[1;34m\u001b[0m\n\u001b[0;32m      1\u001b[0m \u001b[1;32mfor\u001b[0m \u001b[0mx\u001b[0m \u001b[1;32min\u001b[0m \u001b[0mprofile_urls\u001b[0m\u001b[1;33m:\u001b[0m\u001b[1;33m\u001b[0m\u001b[1;33m\u001b[0m\u001b[0m\n\u001b[0;32m      2\u001b[0m \u001b[1;33m\u001b[0m\u001b[0m\n\u001b[1;32m----> 3\u001b[1;33m     \u001b[0mget_exp\u001b[0m\u001b[1;33m(\u001b[0m\u001b[0mx\u001b[0m\u001b[1;33m)\u001b[0m\u001b[1;33m\u001b[0m\u001b[1;33m\u001b[0m\u001b[0m\n\u001b[0m\u001b[0;32m      4\u001b[0m     \u001b[0mprint\u001b[0m\u001b[1;33m(\u001b[0m\u001b[0mx\u001b[0m \u001b[1;33m+\u001b[0m \u001b[1;34m' complete'\u001b[0m\u001b[1;33m)\u001b[0m\u001b[1;33m\u001b[0m\u001b[1;33m\u001b[0m\u001b[0m\n",
      "\u001b[1;32m<ipython-input-403-b57e79d181d9>\u001b[0m in \u001b[0;36mget_exp\u001b[1;34m(url)\u001b[0m\n\u001b[0;32m      7\u001b[0m     \u001b[0mtime\u001b[0m\u001b[1;33m.\u001b[0m\u001b[0msleep\u001b[0m\u001b[1;33m(\u001b[0m\u001b[1;36m2\u001b[0m\u001b[1;33m)\u001b[0m\u001b[1;33m\u001b[0m\u001b[1;33m\u001b[0m\u001b[0m\n\u001b[0;32m      8\u001b[0m     \u001b[0mbackground\u001b[0m \u001b[1;33m=\u001b[0m \u001b[0mdriver\u001b[0m\u001b[1;33m.\u001b[0m\u001b[0mfind_element_by_css_selector\u001b[0m\u001b[1;33m(\u001b[0m\u001b[1;34m\"div[id='oc-background-section']\"\u001b[0m\u001b[1;33m)\u001b[0m\u001b[1;33m\u001b[0m\u001b[1;33m\u001b[0m\u001b[0m\n\u001b[1;32m----> 9\u001b[1;33m     \u001b[0mexp\u001b[0m \u001b[1;33m=\u001b[0m \u001b[0mbackground\u001b[0m\u001b[1;33m.\u001b[0m\u001b[0mfind_element_by_css_selector\u001b[0m\u001b[1;33m(\u001b[0m\u001b[1;34m\"section[id='experience-section']\"\u001b[0m\u001b[1;33m)\u001b[0m\u001b[1;33m\u001b[0m\u001b[1;33m\u001b[0m\u001b[0m\n\u001b[0m\u001b[0;32m     10\u001b[0m     \u001b[0mdeets\u001b[0m \u001b[1;33m=\u001b[0m \u001b[0mexp\u001b[0m\u001b[1;33m.\u001b[0m\u001b[0mfind_element_by_css_selector\u001b[0m\u001b[1;33m(\u001b[0m\u001b[1;34m\"a[data-control-name='background_details_company']\"\u001b[0m\u001b[1;33m)\u001b[0m\u001b[1;33m\u001b[0m\u001b[1;33m\u001b[0m\u001b[0m\n\u001b[0;32m     11\u001b[0m     \u001b[0mjobs\u001b[0m \u001b[1;33m=\u001b[0m \u001b[0mdeets\u001b[0m\u001b[1;33m.\u001b[0m\u001b[0mfind_elements_by_tag_name\u001b[0m\u001b[1;33m(\u001b[0m\u001b[1;34m'h3'\u001b[0m\u001b[1;33m)\u001b[0m\u001b[1;33m\u001b[0m\u001b[1;33m\u001b[0m\u001b[0m\n",
      "\u001b[1;32m~\\anaconda3\\lib\\site-packages\\selenium\\webdriver\\remote\\webelement.py\u001b[0m in \u001b[0;36mfind_element_by_css_selector\u001b[1;34m(self, css_selector)\u001b[0m\n\u001b[0;32m    428\u001b[0m             \u001b[0melement\u001b[0m \u001b[1;33m=\u001b[0m \u001b[0melement\u001b[0m\u001b[1;33m.\u001b[0m\u001b[0mfind_element_by_css_selector\u001b[0m\u001b[1;33m(\u001b[0m\u001b[1;34m'#foo'\u001b[0m\u001b[1;33m)\u001b[0m\u001b[1;33m\u001b[0m\u001b[1;33m\u001b[0m\u001b[0m\n\u001b[0;32m    429\u001b[0m         \"\"\"\n\u001b[1;32m--> 430\u001b[1;33m         \u001b[1;32mreturn\u001b[0m \u001b[0mself\u001b[0m\u001b[1;33m.\u001b[0m\u001b[0mfind_element\u001b[0m\u001b[1;33m(\u001b[0m\u001b[0mby\u001b[0m\u001b[1;33m=\u001b[0m\u001b[0mBy\u001b[0m\u001b[1;33m.\u001b[0m\u001b[0mCSS_SELECTOR\u001b[0m\u001b[1;33m,\u001b[0m \u001b[0mvalue\u001b[0m\u001b[1;33m=\u001b[0m\u001b[0mcss_selector\u001b[0m\u001b[1;33m)\u001b[0m\u001b[1;33m\u001b[0m\u001b[1;33m\u001b[0m\u001b[0m\n\u001b[0m\u001b[0;32m    431\u001b[0m \u001b[1;33m\u001b[0m\u001b[0m\n\u001b[0;32m    432\u001b[0m     \u001b[1;32mdef\u001b[0m \u001b[0mfind_elements_by_css_selector\u001b[0m\u001b[1;33m(\u001b[0m\u001b[0mself\u001b[0m\u001b[1;33m,\u001b[0m \u001b[0mcss_selector\u001b[0m\u001b[1;33m)\u001b[0m\u001b[1;33m:\u001b[0m\u001b[1;33m\u001b[0m\u001b[1;33m\u001b[0m\u001b[0m\n",
      "\u001b[1;32m~\\anaconda3\\lib\\site-packages\\selenium\\webdriver\\remote\\webelement.py\u001b[0m in \u001b[0;36mfind_element\u001b[1;34m(self, by, value)\u001b[0m\n\u001b[0;32m    656\u001b[0m                 \u001b[0mvalue\u001b[0m \u001b[1;33m=\u001b[0m \u001b[1;34m'[name=\"%s\"]'\u001b[0m \u001b[1;33m%\u001b[0m \u001b[0mvalue\u001b[0m\u001b[1;33m\u001b[0m\u001b[1;33m\u001b[0m\u001b[0m\n\u001b[0;32m    657\u001b[0m \u001b[1;33m\u001b[0m\u001b[0m\n\u001b[1;32m--> 658\u001b[1;33m         return self._execute(Command.FIND_CHILD_ELEMENT,\n\u001b[0m\u001b[0;32m    659\u001b[0m                              {\"using\": by, \"value\": value})['value']\n\u001b[0;32m    660\u001b[0m \u001b[1;33m\u001b[0m\u001b[0m\n",
      "\u001b[1;32m~\\anaconda3\\lib\\site-packages\\selenium\\webdriver\\remote\\webelement.py\u001b[0m in \u001b[0;36m_execute\u001b[1;34m(self, command, params)\u001b[0m\n\u001b[0;32m    631\u001b[0m             \u001b[0mparams\u001b[0m \u001b[1;33m=\u001b[0m \u001b[1;33m{\u001b[0m\u001b[1;33m}\u001b[0m\u001b[1;33m\u001b[0m\u001b[1;33m\u001b[0m\u001b[0m\n\u001b[0;32m    632\u001b[0m         \u001b[0mparams\u001b[0m\u001b[1;33m[\u001b[0m\u001b[1;34m'id'\u001b[0m\u001b[1;33m]\u001b[0m \u001b[1;33m=\u001b[0m \u001b[0mself\u001b[0m\u001b[1;33m.\u001b[0m\u001b[0m_id\u001b[0m\u001b[1;33m\u001b[0m\u001b[1;33m\u001b[0m\u001b[0m\n\u001b[1;32m--> 633\u001b[1;33m         \u001b[1;32mreturn\u001b[0m \u001b[0mself\u001b[0m\u001b[1;33m.\u001b[0m\u001b[0m_parent\u001b[0m\u001b[1;33m.\u001b[0m\u001b[0mexecute\u001b[0m\u001b[1;33m(\u001b[0m\u001b[0mcommand\u001b[0m\u001b[1;33m,\u001b[0m \u001b[0mparams\u001b[0m\u001b[1;33m)\u001b[0m\u001b[1;33m\u001b[0m\u001b[1;33m\u001b[0m\u001b[0m\n\u001b[0m\u001b[0;32m    634\u001b[0m \u001b[1;33m\u001b[0m\u001b[0m\n\u001b[0;32m    635\u001b[0m     \u001b[1;32mdef\u001b[0m \u001b[0mfind_element\u001b[0m\u001b[1;33m(\u001b[0m\u001b[0mself\u001b[0m\u001b[1;33m,\u001b[0m \u001b[0mby\u001b[0m\u001b[1;33m=\u001b[0m\u001b[0mBy\u001b[0m\u001b[1;33m.\u001b[0m\u001b[0mID\u001b[0m\u001b[1;33m,\u001b[0m \u001b[0mvalue\u001b[0m\u001b[1;33m=\u001b[0m\u001b[1;32mNone\u001b[0m\u001b[1;33m)\u001b[0m\u001b[1;33m:\u001b[0m\u001b[1;33m\u001b[0m\u001b[1;33m\u001b[0m\u001b[0m\n",
      "\u001b[1;32m~\\anaconda3\\lib\\site-packages\\selenium\\webdriver\\remote\\webdriver.py\u001b[0m in \u001b[0;36mexecute\u001b[1;34m(self, driver_command, params)\u001b[0m\n\u001b[0;32m    319\u001b[0m         \u001b[0mresponse\u001b[0m \u001b[1;33m=\u001b[0m \u001b[0mself\u001b[0m\u001b[1;33m.\u001b[0m\u001b[0mcommand_executor\u001b[0m\u001b[1;33m.\u001b[0m\u001b[0mexecute\u001b[0m\u001b[1;33m(\u001b[0m\u001b[0mdriver_command\u001b[0m\u001b[1;33m,\u001b[0m \u001b[0mparams\u001b[0m\u001b[1;33m)\u001b[0m\u001b[1;33m\u001b[0m\u001b[1;33m\u001b[0m\u001b[0m\n\u001b[0;32m    320\u001b[0m         \u001b[1;32mif\u001b[0m \u001b[0mresponse\u001b[0m\u001b[1;33m:\u001b[0m\u001b[1;33m\u001b[0m\u001b[1;33m\u001b[0m\u001b[0m\n\u001b[1;32m--> 321\u001b[1;33m             \u001b[0mself\u001b[0m\u001b[1;33m.\u001b[0m\u001b[0merror_handler\u001b[0m\u001b[1;33m.\u001b[0m\u001b[0mcheck_response\u001b[0m\u001b[1;33m(\u001b[0m\u001b[0mresponse\u001b[0m\u001b[1;33m)\u001b[0m\u001b[1;33m\u001b[0m\u001b[1;33m\u001b[0m\u001b[0m\n\u001b[0m\u001b[0;32m    322\u001b[0m             response['value'] = self._unwrap_value(\n\u001b[0;32m    323\u001b[0m                 response.get('value', None))\n",
      "\u001b[1;32m~\\anaconda3\\lib\\site-packages\\selenium\\webdriver\\remote\\errorhandler.py\u001b[0m in \u001b[0;36mcheck_response\u001b[1;34m(self, response)\u001b[0m\n\u001b[0;32m    240\u001b[0m                 \u001b[0malert_text\u001b[0m \u001b[1;33m=\u001b[0m \u001b[0mvalue\u001b[0m\u001b[1;33m[\u001b[0m\u001b[1;34m'alert'\u001b[0m\u001b[1;33m]\u001b[0m\u001b[1;33m.\u001b[0m\u001b[0mget\u001b[0m\u001b[1;33m(\u001b[0m\u001b[1;34m'text'\u001b[0m\u001b[1;33m)\u001b[0m\u001b[1;33m\u001b[0m\u001b[1;33m\u001b[0m\u001b[0m\n\u001b[0;32m    241\u001b[0m             \u001b[1;32mraise\u001b[0m \u001b[0mexception_class\u001b[0m\u001b[1;33m(\u001b[0m\u001b[0mmessage\u001b[0m\u001b[1;33m,\u001b[0m \u001b[0mscreen\u001b[0m\u001b[1;33m,\u001b[0m \u001b[0mstacktrace\u001b[0m\u001b[1;33m,\u001b[0m \u001b[0malert_text\u001b[0m\u001b[1;33m)\u001b[0m\u001b[1;33m\u001b[0m\u001b[1;33m\u001b[0m\u001b[0m\n\u001b[1;32m--> 242\u001b[1;33m         \u001b[1;32mraise\u001b[0m \u001b[0mexception_class\u001b[0m\u001b[1;33m(\u001b[0m\u001b[0mmessage\u001b[0m\u001b[1;33m,\u001b[0m \u001b[0mscreen\u001b[0m\u001b[1;33m,\u001b[0m \u001b[0mstacktrace\u001b[0m\u001b[1;33m)\u001b[0m\u001b[1;33m\u001b[0m\u001b[1;33m\u001b[0m\u001b[0m\n\u001b[0m\u001b[0;32m    243\u001b[0m \u001b[1;33m\u001b[0m\u001b[0m\n\u001b[0;32m    244\u001b[0m     \u001b[1;32mdef\u001b[0m \u001b[0m_value_or_default\u001b[0m\u001b[1;33m(\u001b[0m\u001b[0mself\u001b[0m\u001b[1;33m,\u001b[0m \u001b[0mobj\u001b[0m\u001b[1;33m,\u001b[0m \u001b[0mkey\u001b[0m\u001b[1;33m,\u001b[0m \u001b[0mdefault\u001b[0m\u001b[1;33m)\u001b[0m\u001b[1;33m:\u001b[0m\u001b[1;33m\u001b[0m\u001b[1;33m\u001b[0m\u001b[0m\n",
      "\u001b[1;31mNoSuchElementException\u001b[0m: Message: no such element: Unable to locate element: {\"method\":\"css selector\",\"selector\":\"section[id='experience-section']\"}\n  (Session info: chrome=87.0.4280.141)\n"
     ]
    }
   ],
   "source": [
    "for x in profile_urls:\n",
    "\n",
    "    get_exp(x)\n",
    "    print(x + ' complete')"
   ]
  },
  {
   "cell_type": "code",
   "execution_count": 390,
   "metadata": {},
   "outputs": [
    {
     "name": "stdout",
     "output_type": "stream",
     "text": [
      "Data Scientist\n",
      "Google Full-time\n"
     ]
    },
    {
     "data": {
      "text/plain": [
       "'1 yr 8 mos'"
      ]
     },
     "execution_count": 390,
     "metadata": {},
     "output_type": "execute_result"
    }
   ],
   "source": [
    "jobs = driver.find_elements_by_class_name(\"pv-profile-section__card-item-v2\")\n",
    "job = jobs[0].text\n",
    "position = job.split('\\n', 1)[0]\n",
    "print(position)\n",
    "company = job.split('\\n', 3)[2]\n",
    "print(company)\n",
    "dates = job.split('\\n', 5)[4]\n",
    "location = job.split('\\n', 7)[6]\n",
    "location"
   ]
  },
  {
   "cell_type": "code",
   "execution_count": 209,
   "metadata": {},
   "outputs": [
    {
     "data": {
      "text/plain": [
       "'Licenses & certifications\\nIssuing authority\\nIssued date and, if applicable, expiration date of the certification or license\\nCredential Identifier\\nIssuing authority\\nIssued date and, if applicable, expiration date of the certification or license\\nIssuing authority\\nIssued date and, if applicable, expiration date of the certification or license\\nCredential Identifier\\nShow more'"
      ]
     },
     "execution_count": 209,
     "metadata": {},
     "output_type": "execute_result"
    }
   ],
   "source": [
    "jobs[].text"
   ]
  },
  {
   "cell_type": "code",
   "execution_count": 121,
   "metadata": {},
   "outputs": [
    {
     "data": {
      "text/plain": [
       "'Spring, Texas'"
      ]
     },
     "execution_count": 121,
     "metadata": {},
     "output_type": "execute_result"
    }
   ],
   "source": [
    "work_loc = driver.find_elements_by_css_selector(\"h4.pv-entity__location\")\n",
    "wl1 = work_loc[0]\n",
    "wl = wl.text\n",
    "wl.split('\\n', 1)[1]\n",
    "wl_list1.append(wl)\n",
    "wl2 = work_loc(1)\n",
    "wl = wl.text\n",
    "wl_list2.append(wl)\n",
    "wl.split('\\n', 1)[1]"
   ]
  },
  {
   "cell_type": "code",
   "execution_count": 164,
   "metadata": {},
   "outputs": [
    {
     "data": {
      "text/plain": [
       "<selenium.webdriver.remote.webelement.WebElement (session=\"6a02ae98440d853e024ca93aed002f10\", element=\"6a35ce4e-5bcb-426e-a4cc-f34fc5abfca2\")>"
      ]
     },
     "execution_count": 164,
     "metadata": {},
     "output_type": "execute_result"
    }
   ],
   "source": [
    "driver.find_element_by_class_name(\"pv-profile-section__section-info\")\n"
   ]
  },
  {
   "cell_type": "code",
   "execution_count": 73,
   "metadata": {},
   "outputs": [
    {
     "name": "stdout",
     "output_type": "stream",
     "text": [
      "<ul class=\"pv-profile-section__section-info section-info pv-profile-section__section-info--has-more\">\n",
      "<li class=\"pv-entity__position-group-pager pv-profile-section__list-item ember-view\" id=\"ember265\"> <section class=\"pv-profile-section__card-item-v2 pv-profile-section pv-position-entity ember-view\" id=\"1705088227\"> <div class=\"display-flex justify-space-between full-width\">\n",
      "<div class=\"display-flex flex-column full-width\">\n",
      "<a class=\"full-width ember-view\" data-control-name=\"background_details_company\" href=\"/company/headspace-meditation-limited/\" id=\"ember267\"> <div class=\"pv-entity__logo company-logo\">\n",
      "<img alt=\"Headspace Inc.\" class=\"pv-entity__logo-img EntityPhoto-square-5 lazy-image ember-view\" id=\"ember269\" loading=\"lazy\" src=\"https://media-exp1.licdn.com/dms/image/C560BAQFUJVO4zqBkXg/company-logo_100_100/0/1564690590134?e=1620259200&amp;v=beta&amp;t=8UlbxHwS-0rPWFP-KSpCHF7FD5uwpbL5kIwQuU13kKk\"/>\n",
      "</div>\n",
      "<div class=\"pv-entity__summary-info pv-entity__summary-info--background-section\">\n",
      "<h3 class=\"t-16 t-black t-bold\">Senior Data Scientist</h3>\n",
      "<p class=\"visually-hidden\">Company Name</p>\n",
      "<p class=\"pv-entity__secondary-title t-14 t-black t-normal\">\n",
      "      Headspace Inc.\n",
      "        <span class=\"pv-entity__secondary-title separator\">Full-time</span>\n",
      "</p>\n",
      "<div class=\"display-flex\">\n",
      "<h4 class=\"pv-entity__date-range t-14 t-black--light t-normal\">\n",
      "<span class=\"visually-hidden\">Dates Employed</span>\n",
      "<span>Nov 2020 – Present</span>\n",
      "</h4>\n",
      "<h4 class=\"t-14 t-black--light t-normal\">\n",
      "<span class=\"visually-hidden\">Employment Duration</span>\n",
      "<span class=\"pv-entity__bullet-item-v2\">3 mos</span>\n",
      "</h4>\n",
      "</div>\n",
      "<h4 class=\"pv-entity__location t-14 t-black--light t-normal block\">\n",
      "<span class=\"visually-hidden\">Location</span>\n",
      "<span>Santa Monica, California, United States</span>\n",
      "</h4>\n",
      "<!-- -->\n",
      "</div>\n",
      "</a>\n",
      "<!-- --> </div>\n",
      "<!-- --> </div>\n",
      "</section>\n",
      "</li><li class=\"pv-entity__position-group-pager pv-profile-section__list-item ember-view\" id=\"ember271\"> <section class=\"pv-profile-section__card-item-v2 pv-profile-section pv-position-entity ember-view\" id=\"1509529365\"> <div class=\"display-flex justify-space-between full-width\">\n",
      "<div class=\"display-flex flex-column full-width\">\n",
      "<a class=\"full-width ember-view\" data-control-name=\"background_details_company\" href=\"/company/ticketmaster/\" id=\"ember273\"> <div class=\"pv-entity__logo company-logo\">\n",
      "<img alt=\"Ticketmaster\" class=\"pv-entity__logo-img EntityPhoto-square-5 lazy-image ember-view\" id=\"ember275\" loading=\"lazy\" src=\"https://media-exp1.licdn.com/dms/image/C560BAQFGKMZA5kLBgg/company-logo_100_100/0/1594315770803?e=1620259200&amp;v=beta&amp;t=nXQ_hhCzpfs7GOabIgIZtNueU22T1FRPzN817rQ-Lwo\"/>\n",
      "</div>\n",
      "<div class=\"pv-entity__summary-info pv-entity__summary-info--background-section mb2\">\n",
      "<h3 class=\"t-16 t-black t-bold\">Data Scientist II</h3>\n",
      "<p class=\"visually-hidden\">Company Name</p>\n",
      "<p class=\"pv-entity__secondary-title t-14 t-black t-normal\">\n",
      "      Ticketmaster\n",
      "        <span class=\"pv-entity__secondary-title separator\">Full-time</span>\n",
      "</p>\n",
      "<div class=\"display-flex\">\n",
      "<h4 class=\"pv-entity__date-range t-14 t-black--light t-normal\">\n",
      "<span class=\"visually-hidden\">Dates Employed</span>\n",
      "<span>Aug 2019 – Nov 2020</span>\n",
      "</h4>\n",
      "<h4 class=\"t-14 t-black--light t-normal\">\n",
      "<span class=\"visually-hidden\">Employment Duration</span>\n",
      "<span class=\"pv-entity__bullet-item-v2\">1 yr 4 mos</span>\n",
      "</h4>\n",
      "</div>\n",
      "<h4 class=\"pv-entity__location t-14 t-black--light t-normal block\">\n",
      "<span class=\"visually-hidden\">Location</span>\n",
      "<span>Greater Los Angeles Area</span>\n",
      "</h4>\n",
      "<!-- -->\n",
      "</div>\n",
      "</a>\n",
      "<div class=\"pv-entity__extra-details t-14 t-black--light ember-view\" id=\"ember277\"><p class=\"pv-entity__description t-14 t-black t-normal inline-show-more-text inline-show-more-text--is-collapsed ember-view\" id=\"ember278\" style=\"line-height:2rem;max-height:8rem;\">  -\tDeveloped Deep Learning based Natural Language Processing Model for artists and events. Extracted features for Ticketmaster recommendation system using Spacy, Fasttext and sk-learn. Create data pipelines for in-house and open data.<br/>-\tDelivered Machine Learning Interpretability and model monitoring system using latent factors of Matrix Factorization based model using python. Created data pipelines using AWS S3 APIs. Integrated DOMO for monitoring and email alert system.  <br/>-\tDeployed the application on AWS infrastructure using terraform, AWS Step-function, Elastic Container and AWS Fargate.<br/>-\tPlanned and Administered A/B testing for the impact Test of the new features on In-production Recommendation system. <br/>-\tApplied statistical test like score-test to determine the sample size, statistical power and significant statistics for the Control-Treatment group. Utilized python and statsmodel packages to run simulations. Created report and documentation for test.\n",
      "\n",
      "    <span class=\"inline-show-more-text__link-container-collapsed\">\n",
      "<span>…</span>\n",
      "<button aria-expanded=\"false\" class=\"inline-show-more-text__button link\" data-ember-action=\"\" data-ember-action-342=\"342\" type=\"button\">\n",
      "          see more\n",
      "        </button>\n",
      "</span>\n",
      "<!-- --></p><!-- --></div>\n",
      "</div>\n",
      "<!-- --> </div>\n",
      "</section>\n",
      "</li><li class=\"pv-entity__position-group-pager pv-profile-section__list-item ember-view\" id=\"ember279\"> <section class=\"pv-profile-section__card-item-v2 pv-profile-section pv-position-entity ember-view\" id=\"1351258207\"> <div class=\"display-flex justify-space-between full-width\">\n",
      "<div class=\"display-flex flex-column full-width\">\n",
      "<a class=\"full-width ember-view\" data-control-name=\"background_details_company\" href=\"/company/owned-outcomes/\" id=\"ember281\"> <div class=\"pv-entity__logo company-logo\">\n",
      "<img alt=\"Owned Outcomes\" class=\"pv-entity__logo-img EntityPhoto-square-5 lazy-image ember-view\" id=\"ember283\" loading=\"lazy\" src=\"https://media-exp1.licdn.com/dms/image/C560BAQGRE_diKlqJ0A/company-logo_100_100/0/1540924497409?e=1620259200&amp;v=beta&amp;t=TOhXgv0WCE0XT7txDVKIq4luS6V_7Nq_qIc5V2Mhcgg\"/>\n",
      "</div>\n",
      "<div class=\"pv-entity__summary-info pv-entity__summary-info--background-section mb2\">\n",
      "<h3 class=\"t-16 t-black t-bold\">Machine Learning Engineer</h3>\n",
      "<p class=\"visually-hidden\">Company Name</p>\n",
      "<p class=\"pv-entity__secondary-title t-14 t-black t-normal\">\n",
      "      Owned Outcomes\n",
      "<!-- --> </p>\n",
      "<div class=\"display-flex\">\n",
      "<h4 class=\"pv-entity__date-range t-14 t-black--light t-normal\">\n",
      "<span class=\"visually-hidden\">Dates Employed</span>\n",
      "<span>Oct 2017 – Aug 2019</span>\n",
      "</h4>\n",
      "<h4 class=\"t-14 t-black--light t-normal\">\n",
      "<span class=\"visually-hidden\">Employment Duration</span>\n",
      "<span class=\"pv-entity__bullet-item-v2\">1 yr 11 mos</span>\n",
      "</h4>\n",
      "</div>\n",
      "<h4 class=\"pv-entity__location t-14 t-black--light t-normal block\">\n",
      "<span class=\"visually-hidden\">Location</span>\n",
      "<span>Las Vegas, Nevada Area</span>\n",
      "</h4>\n",
      "<!-- -->\n",
      "</div>\n",
      "</a>\n",
      "<div class=\"pv-entity__extra-details t-14 t-black--light ember-view\" id=\"ember285\"><p class=\"pv-entity__description t-14 t-black t-normal inline-show-more-text inline-show-more-text--is-collapsed ember-view\" id=\"ember286\" style=\"line-height:2rem;max-height:8rem;\">  Adherence AppTM<br/>- Collaborated with pharmacies, hospitals to create a model for predicting patient risk scores, factors using EHR, census data<br/>- Upgraded a rule-based model to ensemble machine learning predictive model using regression and XGBoost. Improved the<br/>patient adherence by 21% leading to reduced costs for healthcare insurance providers<br/>- Conducted literature review, preprocessed data, applied statistical modeling to extract sensitive information from EHR data<br/><br/>BigSense ML PlatformTM<br/>- Architected and developed a GUI based machine learning platform on an inhouse, in-memory, distributed system to handle<br/>tera-bytes of complex unstructured data and transform to the high-level sensible information for medical researchers.<br/>- Led a team of 4 to develop backend API using Django, Graphene, PostgreSQL. Automated documentation using Sphinx,<br/>testing using Unittest, test execution code analysis using Coverage. Implemented memory profiler and system logger<br/>- Implemented multi-tenancy, shareability, model portability to speed up model building by 90% and reduce redundancy<br/><br/>Pattern Sense NavigatorTM<br/>- Extracted patterns from hyper-dimensional clinical and census data using t-SNE and UMAP. Reduced feature space using<br/>FAMD, CCA and Randomized SVD. Shared results with medical officers and statistician<br/>- Built and integrated custom python package using Plotly, Celery (RabbitMQ) for Bigdata visualization in Django app<br/>- Saved medical researcher time by achieving 13% increase in silhouette score over traditional K-Means clustering\n",
      "\n",
      "    <span class=\"inline-show-more-text__link-container-collapsed\">\n",
      "<span>…</span>\n",
      "<button aria-expanded=\"false\" class=\"inline-show-more-text__button link\" data-ember-action=\"\" data-ember-action-343=\"343\" type=\"button\">\n",
      "          see more\n",
      "        </button>\n",
      "</span>\n",
      "<!-- --></p><!-- --></div>\n",
      "</div>\n",
      "<!-- --> </div>\n",
      "</section>\n",
      "</li><li class=\"pv-entity__position-group-pager pv-profile-section__list-item ember-view\" id=\"ember287\"> <section class=\"pv-profile-section__card-item-v2 pv-profile-section pv-position-entity ember-view\" id=\"898579964\"> <div class=\"display-flex justify-space-between full-width\">\n",
      "<div class=\"display-flex flex-column full-width\">\n",
      "<a class=\"full-width ember-view\" data-control-name=\"background_details_company\" href=\"/company/walt-disney-world/\" id=\"ember289\"> <div class=\"pv-entity__logo company-logo\">\n",
      "<img alt=\"Walt Disney World\" class=\"pv-entity__logo-img EntityPhoto-square-5 lazy-image ember-view\" id=\"ember291\" loading=\"lazy\" src=\"https://media-exp1.licdn.com/dms/image/C4E0BAQF-obSJY5pxKA/company-logo_100_100/0/1558450311373?e=1620259200&amp;v=beta&amp;t=UwsdAmszSvHwWhPbAUYXFZ7ddQbPTClb7idhy5h0jpo\"/>\n",
      "</div>\n",
      "<div class=\"pv-entity__summary-info pv-entity__summary-info--background-section mb2\">\n",
      "<h3 class=\"t-16 t-black t-bold\">Professional Intern</h3>\n",
      "<p class=\"visually-hidden\">Company Name</p>\n",
      "<p class=\"pv-entity__secondary-title t-14 t-black t-normal\">\n",
      "      Walt Disney World\n",
      "<!-- --> </p>\n",
      "<div class=\"display-flex\">\n",
      "<h4 class=\"pv-entity__date-range t-14 t-black--light t-normal\">\n",
      "<span class=\"visually-hidden\">Dates Employed</span>\n",
      "<span>Jan 2017 – May 2017</span>\n",
      "</h4>\n",
      "<h4 class=\"t-14 t-black--light t-normal\">\n",
      "<span class=\"visually-hidden\">Employment Duration</span>\n",
      "<span class=\"pv-entity__bullet-item-v2\">5 mos</span>\n",
      "</h4>\n",
      "</div>\n",
      "<h4 class=\"pv-entity__location t-14 t-black--light t-normal block\">\n",
      "<span class=\"visually-hidden\">Location</span>\n",
      "<span>Orlando, Florida Area</span>\n",
      "</h4>\n",
      "<!-- -->\n",
      "</div>\n",
      "</a>\n",
      "<div class=\"pv-entity__extra-details t-14 t-black--light ember-view\" id=\"ember293\"><p class=\"pv-entity__description t-14 t-black t-normal inline-show-more-text inline-show-more-text--is-collapsed ember-view\" id=\"ember294\" style=\"line-height:2rem;max-height:8rem;\">  Automated a manual data mining process using Microsoft SQL server and SSIS process. Created SSIS package on C# for<br/>automation. Written various stored procedure, configured XML, created documentation for the project.<br/>- Written complex queries for the data cleaning and fetching from various other databases systems for workforce<br/>management and prediction team. Coded a production downright SQL module implementation of the whole project stack.<br/>- Removed 16 hours of manual work and reduced the production error to 0%.\n",
      "\n",
      "    <span class=\"inline-show-more-text__link-container-collapsed\">\n",
      "<span>…</span>\n",
      "<button aria-expanded=\"false\" class=\"inline-show-more-text__button link\" data-ember-action=\"\" data-ember-action-344=\"344\" type=\"button\">\n",
      "          see more\n",
      "        </button>\n",
      "</span>\n",
      "<!-- --></p><!-- --></div>\n",
      "</div>\n",
      "<!-- --> </div>\n",
      "</section>\n",
      "</li><li class=\"pv-entity__position-group-pager pv-profile-section__list-item ember-view\" id=\"ember295\"> <section class=\"pv-profile-section__card-item-v2 pv-profile-section pv-position-entity ember-view\" id=\"751085334\"> <div class=\"display-flex justify-space-between full-width\">\n",
      "<div class=\"display-flex flex-column full-width\">\n",
      "<a class=\"full-width ember-view\" data-control-name=\"background_details_company\" href=\"/company/university-of-central-florida/\" id=\"ember297\"> <div class=\"pv-entity__logo company-logo\">\n",
      "<img alt=\"University of Central Florida\" class=\"pv-entity__logo-img EntityPhoto-square-5 lazy-image ember-view\" id=\"ember299\" loading=\"lazy\" src=\"https://media-exp1.licdn.com/dms/image/C510BAQERdqvS3PNJSg/company-logo_100_100/0/1519865950068?e=1620259200&amp;v=beta&amp;t=OxbiqXgVa4Ylnwvg9ftyQCq7wEjyvJYnKVNpDaLwLAA\"/>\n",
      "</div>\n",
      "<div class=\"pv-entity__summary-info pv-entity__summary-info--background-section mb2\">\n",
      "<h3 class=\"t-16 t-black t-bold\">Graduate Research Assistant</h3>\n",
      "<p class=\"visually-hidden\">Company Name</p>\n",
      "<p class=\"pv-entity__secondary-title t-14 t-black t-normal\">\n",
      "      University of Central Florida\n",
      "<!-- --> </p>\n",
      "<div class=\"display-flex\">\n",
      "<h4 class=\"pv-entity__date-range t-14 t-black--light t-normal\">\n",
      "<span class=\"visually-hidden\">Dates Employed</span>\n",
      "<span>Dec 2015 – Dec 2016</span>\n",
      "</h4>\n",
      "<h4 class=\"t-14 t-black--light t-normal\">\n",
      "<span class=\"visually-hidden\">Employment Duration</span>\n",
      "<span class=\"pv-entity__bullet-item-v2\">1 yr 1 mo</span>\n",
      "</h4>\n",
      "</div>\n",
      "<h4 class=\"pv-entity__location t-14 t-black--light t-normal block\">\n",
      "<span class=\"visually-hidden\">Location</span>\n",
      "<span>Orlando, Florida Area</span>\n",
      "</h4>\n",
      "<!-- -->\n",
      "</div>\n",
      "</a>\n",
      "<div class=\"pv-entity__extra-details t-14 t-black--light ember-view\" id=\"ember301\"><p class=\"pv-entity__description t-14 t-black t-normal inline-show-more-text inline-show-more-text--is-collapsed ember-view\" id=\"ember302\" style=\"line-height:2rem;max-height:8rem;\">  Developed a production grade semi-supervised GAN for image to text extraction using TensorFlow Serving. Implemented<br/>GPU based training infrastructure. Deployed inference model on Azure using Docker, Kubernetes and Protocol Buffers\n",
      "\n",
      "<!-- --></p><!-- --></div>\n",
      "</div>\n",
      "<!-- --> </div>\n",
      "</section>\n",
      "</li> </ul>\n"
     ]
    }
   ],
   "source": [
    "print(experience)"
   ]
  },
  {
   "cell_type": "code",
   "execution_count": 74,
   "metadata": {},
   "outputs": [],
   "source": [
    "job_titles = experience.find_all('h3')\n",
    "job_title1 = job_titles[0].get_text().strip()\n",
    "company_names = experience.find_all('p')\n",
    "company_name1 = company_names[1].get_text().strip()\n",
    "emp_dates = experience.find_all('h4')\n",
    "emp_dates1 = emp_dates[0].find_all('span')[1].get_text().strip()"
   ]
  },
  {
   "cell_type": "code",
   "execution_count": 75,
   "metadata": {},
   "outputs": [
    {
     "name": "stdout",
     "output_type": "stream",
     "text": [
      "Headspace Inc.\n",
      "        Full-time Nov 2020 – Present Senior Data Scientist\n"
     ]
    }
   ],
   "source": [
    "print(company_name1, emp_dates1, job_title1)"
   ]
  },
  {
   "cell_type": "code",
   "execution_count": 615,
   "metadata": {},
   "outputs": [],
   "source": [
    "job_title2 = job_titles[1].get_text().strip()\n",
    "# 4th item in list due to 'company name' string preceeding actual company name in </p> tags\n",
    "company_name2 = company_names[3].get_text().strip()\n",
    "# 4th item in list due to other descriptive strings in html list of h4 tags\n",
    "emp_dates2 = emp_dates[3].find_all('span')[1].get_text().strip()"
   ]
  },
  {
   "cell_type": "code",
   "execution_count": 76,
   "metadata": {},
   "outputs": [],
   "source": [
    "if len(job_titles) >= 2:\n",
    "    job_title2 = job_titles[1].get_text().strip()\n",
    "    company_name2 = company_names[3].get_text().strip()\n",
    "    emp_dates2 = emp_dates[3].find_all('span')[1].get_text().strip()\n",
    "# if only one job listed, since i am getting the first two jobs for each person, i want my data to be formatted \n",
    "else:\n",
    "    job_title2 = 'nan'\n",
    "    company_name2  ='nan'\n",
    "    emp_dates2  ='nan'"
   ]
  },
  {
   "cell_type": "code",
   "execution_count": 77,
   "metadata": {},
   "outputs": [
    {
     "name": "stdout",
     "output_type": "stream",
     "text": [
      "Ticketmaster\n",
      "        Full-time Aug 2019 – Nov 2020 Data Scientist II\n"
     ]
    }
   ],
   "source": [
    "print(company_name2, emp_dates2, job_title2)"
   ]
  },
  {
   "cell_type": "code",
   "execution_count": 307,
   "metadata": {},
   "outputs": [
    {
     "data": {
      "text/plain": [
       "<section class=\"pv-profile-section education-section ember-view\" id=\"education-section\"><header class=\"pv-profile-section__card-header\">\n",
       "<h2 class=\"pv-profile-section__card-heading\">\n",
       "    Education\n",
       "  </h2>\n",
       "<!-- --></header>\n",
       "<ul class=\"pv-profile-section__section-info section-info pv-profile-section__section-info--has-no-more\">\n",
       "<li class=\"pv-profile-section__list-item pv-education-entity pv-profile-section__card-item ember-view\" id=\"303862696\"><div class=\"display-flex justify-space-between full-width\">\n",
       "<div class=\"display-flex flex-column full-width\">\n",
       "<a class=\"ember-view\" data-control-name=\"background_details_school\" href=\"/school/18118/?legacySchoolId=18118\" id=\"ember346\"> <div class=\"pv-entity__logo\">\n",
       "<img alt=\"University of Central Florida\" class=\"pv-entity__logo-img pv-entity__logo-img EntityPhoto-square-4 lazy-image ember-view\" id=\"ember348\" loading=\"lazy\" src=\"https://media-exp1.licdn.com/dms/image/C510BAQERdqvS3PNJSg/company-logo_100_100/0/1519865950068?e=1619654400&amp;v=beta&amp;t=fmLZMJ6q7pflg_FCdptRRIpb7fzKT3PPqXoDu9-HHHw\"/>\n",
       "</div>\n",
       "<div class=\"pv-entity__summary-info pv-entity__summary-info--background-section\">\n",
       "<div class=\"pv-entity__degree-info\">\n",
       "<h3 class=\"pv-entity__school-name t-16 t-black t-bold\">University of Central Florida</h3>\n",
       "<p class=\"pv-entity__secondary-title pv-entity__degree-name t-14 t-black t-normal\">\n",
       "<span class=\"visually-hidden\">Degree Name</span>\n",
       "<span class=\"pv-entity__comma-item\">Master’s Degree</span>\n",
       "</p>\n",
       "<p class=\"pv-entity__secondary-title pv-entity__fos t-14 t-black t-normal\">\n",
       "<span class=\"visually-hidden\">Field Of Study</span>\n",
       "<span class=\"pv-entity__comma-item\">Computer Engineering</span>\n",
       "</p>\n",
       "<!-- --> </div>\n",
       "<p class=\"pv-entity__dates t-14 t-black--light t-normal\">\n",
       "<span class=\"visually-hidden\">Dates attended or expected graduation</span>\n",
       "<span>\n",
       "<time>2015</time> – <time>2017</time>\n",
       "</span>\n",
       "</p>\n",
       "<p class=\"pv-entity__secondary-title t-14 t-black--light t-normal\">\n",
       "<span class=\"activities-label\">Activities and Societies:</span>\n",
       "<span class=\"activities-societies\">Graduate Student Association, IEEE @ UCF, ACF @ UCF, TechKinghts, Hack@UCF</span>\n",
       "</p>\n",
       "</div>\n",
       "</a>\n",
       "<div class=\"pv-entity__extra-details t-14 t-black--light ember-view\" id=\"ember349\"><p class=\"pv-entity__description t-14 t-normal mt4\">\n",
       "  Graduate Research Assistant in Institute of Simulation and Training in University of Central Florida. Currently pursuing master's in Computer Engineering.  \n",
       "</p>\n",
       "<!-- --></div>\n",
       "</div>\n",
       "<!-- --></div>\n",
       "</li>\n",
       "<li class=\"pv-profile-section__list-item pv-education-entity pv-profile-section__card-item ember-view\" id=\"96974386\"><div class=\"display-flex justify-space-between full-width\">\n",
       "<div class=\"display-flex flex-column full-width\">\n",
       "<a class=\"ember-view\" data-control-name=\"background_details_school\" href=\"/school/22469/?legacySchoolId=22469\" id=\"ember352\"> <div class=\"pv-entity__logo\">\n",
       "<img alt=\"Rajiv Gandhi Prodyogiki Vishwavidyalaya\" class=\"pv-entity__logo-img pv-entity__logo-img EntityPhoto-square-4 lazy-image ember-view\" id=\"ember354\" loading=\"lazy\" src=\"https://media-exp1.licdn.com/dms/image/C4E0BAQEAVRB3i7rHHg/company-logo_100_100/0/1519874329661?e=1619654400&amp;v=beta&amp;t=XwazY_nVyfqDWyIHavq7T-LR4gVWi0gG6WU3D66knZA\"/>\n",
       "</div>\n",
       "<div class=\"pv-entity__summary-info pv-entity__summary-info--background-section\">\n",
       "<div class=\"pv-entity__degree-info\">\n",
       "<h3 class=\"pv-entity__school-name t-16 t-black t-bold\">Rajiv Gandhi Prodyogiki Vishwavidyalaya</h3>\n",
       "<p class=\"pv-entity__secondary-title pv-entity__degree-name t-14 t-black t-normal\">\n",
       "<span class=\"visually-hidden\">Degree Name</span>\n",
       "<span class=\"pv-entity__comma-item\">Bachelor's degree</span>\n",
       "</p>\n",
       "<p class=\"pv-entity__secondary-title pv-entity__fos t-14 t-black t-normal\">\n",
       "<span class=\"visually-hidden\">Field Of Study</span>\n",
       "<span class=\"pv-entity__comma-item\">Electrical and Electronics Engineering</span>\n",
       "</p>\n",
       "<!-- --> </div>\n",
       "<p class=\"pv-entity__dates t-14 t-black--light t-normal\">\n",
       "<span class=\"visually-hidden\">Dates attended or expected graduation</span>\n",
       "<span>\n",
       "<time>2008</time> – <time>2012</time>\n",
       "</span>\n",
       "</p>\n",
       "<p class=\"pv-entity__secondary-title t-14 t-black--light t-normal\">\n",
       "<span class=\"activities-label\">Activities and Societies:</span>\n",
       "<span class=\"activities-societies\">Placement Coordinator of Electrical and Electronic Engineering Department.</span>\n",
       "</p>\n",
       "</div>\n",
       "</a>\n",
       "<div class=\"pv-entity__extra-details t-14 t-black--light ember-view\" id=\"ember355\"><p class=\"pv-entity__description t-14 t-normal mt4\">\n",
       "  I completed my Bachelor's in Electrical and Electronics engineering. \n",
       "</p>\n",
       "<!-- --></div>\n",
       "</div>\n",
       "<!-- --></div>\n",
       "</li>\n",
       "</ul>\n",
       "<!-- --></section>"
      ]
     },
     "execution_count": 307,
     "metadata": {},
     "output_type": "execute_result"
    }
   ],
   "source": [
    "education = soup.find('section', {'id': 'education-section'})\n",
    "education"
   ]
  },
  {
   "cell_type": "code",
   "execution_count": 616,
   "metadata": {},
   "outputs": [],
   "source": [
    "education = soup.find('section', {'id': 'education-section'})\n",
    "college_names = education.find_all('h3')\n",
    "college1 = college_names[0].get_text().strip()"
   ]
  },
  {
   "cell_type": "code",
   "execution_count": 617,
   "metadata": {},
   "outputs": [
    {
     "data": {
      "text/plain": [
       "'University of Central Florida'"
      ]
     },
     "execution_count": 617,
     "metadata": {},
     "output_type": "execute_result"
    }
   ],
   "source": [
    "college1"
   ]
  },
  {
   "cell_type": "code",
   "execution_count": 287,
   "metadata": {},
   "outputs": [
    {
     "name": "stdout",
     "output_type": "stream",
     "text": [
      "Rajiv Gandhi Prodyogiki Vishwavidyalaya\n"
     ]
    }
   ],
   "source": [
    "if len(college_names) >= 2:\n",
    "    college2 = college_names[1].get_text().strip()\n",
    "else:\n",
    "    college2 = 'nan'\n",
    "print(college2)"
   ]
  },
  {
   "cell_type": "code",
   "execution_count": 290,
   "metadata": {},
   "outputs": [],
   "source": [
    "college_names = education.find_all('h3')\n",
    "college1 = college_names[1].get_text().strip()\n",
    "college2 = college_names[1].get_text().strip()"
   ]
  },
  {
   "cell_type": "code",
   "execution_count": null,
   "metadata": {},
   "outputs": [],
   "source": []
  },
  {
   "cell_type": "code",
   "execution_count": 683,
   "metadata": {},
   "outputs": [],
   "source": [
    "PATH = \"C:\\Program Files (x86)\\chromedriver.exe\"\n",
    "driver = webdriver.Chrome(PATH)"
   ]
  },
  {
   "cell_type": "code",
   "execution_count": null,
   "metadata": {},
   "outputs": [],
   "source": [
    "link_log(user, pw)"
   ]
  },
  {
   "cell_type": "code",
   "execution_count": 711,
   "metadata": {},
   "outputs": [],
   "source": [
    "firstList = []\n",
    "lastList = []\n",
    "locList = []\n",
    "title_job1_list = []\n",
    "title_job2_list = []\n",
    "dates_job1_list = []\n",
    "dates_job2_list = []\n",
    "company_job1_list = []\n",
    "company_job2_list = []\n",
    "school1_list = []\n",
    "school2_list = []"
   ]
  },
  {
   "cell_type": "code",
   "execution_count": 630,
   "metadata": {},
   "outputs": [],
   "source": [
    "profile_urls = fetchList[0:10]"
   ]
  },
  {
   "cell_type": "code",
   "execution_count": 709,
   "metadata": {},
   "outputs": [
    {
     "data": {
      "text/plain": [
       "0              https://www.linkedin.com/in/averyjsmith\n",
       "1                   https://www.linkedin.com/in/rohan3\n",
       "2                 https://www.linkedin.com/in/thomives\n",
       "3            https://www.linkedin.com/in/lu-michellepy\n",
       "4    https://www.linkedin.com/in/jalal-kiani-045721122\n",
       "5         https://www.linkedin.com/in/tscottclendaniel\n",
       "6              https://www.linkedin.com/in/nevinyilmaz\n",
       "7    https://www.linkedin.com/in/boi-n-moriba-85103...\n",
       "8                   https://www.linkedin.com/in/zouxin\n",
       "9               https://www.linkedin.com/in/isaacfaber\n",
       "Name: fetch, dtype: object"
      ]
     },
     "execution_count": 709,
     "metadata": {},
     "output_type": "execute_result"
    }
   ],
   "source": [
    "profile_urls"
   ]
  },
  {
   "cell_type": "code",
   "execution_count": 737,
   "metadata": {},
   "outputs": [],
   "source": [
    "from bs4 import BeautifulSoup as bs"
   ]
  },
  {
   "cell_type": "code",
   "execution_count": 738,
   "metadata": {},
   "outputs": [],
   "source": [
    "def scrape_profile(profiles):\n",
    "    for p in profiles:\n",
    "        driver.get(p)\n",
    "        time.sleep(10)\n",
    "        name = driver.find_element_by_css_selector(\"li.inline\")\n",
    "        name = name.text.strip()\n",
    "        name = name.split(' ', 1)\n",
    "        first_name = name[0]\n",
    "        firstList.append(first_name)\n",
    "        last_name = name[-1]\n",
    "        lastList.append(last_name)\n",
    "        location = driver.find_elements_by_css_selector(\"li.t-16\")\n",
    "        location = location[1].text.strip()\n",
    "        locList.append(location)\n",
    "        \n",
    "def scrape_exp_edu(profiles):\n",
    "    for profile in profiles:\n",
    "        driver.get(profile)\n",
    "        time.sleep(20)\n",
    "        profilesource = driver.page_source\n",
    "        profile_soup = bs(profilesource, 'lxml')\n",
    "        \n",
    "        exp = profile_soup.find('section', {'id': 'experience-section'}) \n",
    "        \n",
    "        exp_ul = exp.find('ul')\n",
    "        div_tag = exp_ul.find('div')\n",
    "   \n",
    "        sub_tag = div_tag.find('a')\n",
    "        job_titles = sub_tag.find('h3')\n",
    "\n",
    "        job_title1 = job_titles[0].get_text().strip()\n",
    "        title_job1_list.append(job_title1)\n",
    "        company_names = sub_tag.find_all('p')\n",
    "        company_name1 = company_names[1].get_text().strip()\n",
    "        company_job1_list.append(company_name1)\n",
    "        emp_dates = sub_tag.find_all('h4')\n",
    "        emp_dates1 = emp_dates[0].find_all('span')[1].get_text().strip()\n",
    "        dates_job1_list.append(emp_dates1)\n",
    "\n",
    "        \n",
    "        \n",
    "\n"
   ]
  },
  {
   "cell_type": "code",
   "execution_count": 739,
   "metadata": {},
   "outputs": [
    {
     "ename": "AttributeError",
     "evalue": "'NoneType' object has no attribute 'find'",
     "output_type": "error",
     "traceback": [
      "\u001b[1;31m---------------------------------------------------------------------------\u001b[0m",
      "\u001b[1;31mAttributeError\u001b[0m                            Traceback (most recent call last)",
      "\u001b[1;32m<ipython-input-739-533bd13ee83c>\u001b[0m in \u001b[0;36m<module>\u001b[1;34m\u001b[0m\n\u001b[1;32m----> 1\u001b[1;33m \u001b[0mscrape_exp_edu\u001b[0m\u001b[1;33m(\u001b[0m\u001b[0mprofile_urls\u001b[0m\u001b[1;33m)\u001b[0m\u001b[1;33m\u001b[0m\u001b[1;33m\u001b[0m\u001b[0m\n\u001b[0m",
      "\u001b[1;32m<ipython-input-738-994e661e89b0>\u001b[0m in \u001b[0;36mscrape_exp_edu\u001b[1;34m(profiles)\u001b[0m\n\u001b[0;32m     23\u001b[0m         \u001b[0mexp\u001b[0m \u001b[1;33m=\u001b[0m \u001b[0mprofile_soup\u001b[0m\u001b[1;33m.\u001b[0m\u001b[0mfind\u001b[0m\u001b[1;33m(\u001b[0m\u001b[1;34m'section'\u001b[0m\u001b[1;33m,\u001b[0m \u001b[1;33m{\u001b[0m\u001b[1;34m'id'\u001b[0m\u001b[1;33m:\u001b[0m \u001b[1;34m'experience-section'\u001b[0m\u001b[1;33m}\u001b[0m\u001b[1;33m)\u001b[0m\u001b[1;33m\u001b[0m\u001b[1;33m\u001b[0m\u001b[0m\n\u001b[0;32m     24\u001b[0m \u001b[1;33m\u001b[0m\u001b[0m\n\u001b[1;32m---> 25\u001b[1;33m         \u001b[0mexp_ul\u001b[0m \u001b[1;33m=\u001b[0m \u001b[0mexp\u001b[0m\u001b[1;33m.\u001b[0m\u001b[0mfind\u001b[0m\u001b[1;33m(\u001b[0m\u001b[1;34m'ul'\u001b[0m\u001b[1;33m)\u001b[0m\u001b[1;33m\u001b[0m\u001b[1;33m\u001b[0m\u001b[0m\n\u001b[0m\u001b[0;32m     26\u001b[0m         \u001b[0mdiv_tag\u001b[0m \u001b[1;33m=\u001b[0m \u001b[0mexp_ul\u001b[0m\u001b[1;33m.\u001b[0m\u001b[0mfind\u001b[0m\u001b[1;33m(\u001b[0m\u001b[1;34m'div'\u001b[0m\u001b[1;33m)\u001b[0m\u001b[1;33m\u001b[0m\u001b[1;33m\u001b[0m\u001b[0m\n\u001b[0;32m     27\u001b[0m \u001b[1;33m\u001b[0m\u001b[0m\n",
      "\u001b[1;31mAttributeError\u001b[0m: 'NoneType' object has no attribute 'find'"
     ]
    }
   ],
   "source": [
    "scrape_exp_edu(profile_urls)"
   ]
  },
  {
   "cell_type": "code",
   "execution_count": null,
   "metadata": {},
   "outputs": [],
   "source": []
  },
  {
   "cell_type": "code",
   "execution_count": null,
   "metadata": {},
   "outputs": [],
   "source": [
    "title_job1_list"
   ]
  },
  {
   "cell_type": "code",
   "execution_count": null,
   "metadata": {},
   "outputs": [],
   "source": [
    "driver.switch_to.window(window_handle)"
   ]
  },
  {
   "cell_type": "code",
   "execution_count": 318,
   "metadata": {},
   "outputs": [
    {
     "ename": "NoSuchElementException",
     "evalue": "Message: no such element: Unable to locate element: {\"method\":\"link text\",\"selector\":\"Connect\"}\n  (Session info: chrome=87.0.4280.141)\n",
     "output_type": "error",
     "traceback": [
      "\u001b[1;31m---------------------------------------------------------------------------\u001b[0m",
      "\u001b[1;31mNoSuchElementException\u001b[0m                    Traceback (most recent call last)",
      "\u001b[1;32m<ipython-input-318-e16e9c5a0450>\u001b[0m in \u001b[0;36m<module>\u001b[1;34m\u001b[0m\n\u001b[1;32m----> 1\u001b[1;33m \u001b[0mconnect_button\u001b[0m \u001b[1;33m=\u001b[0m \u001b[0mdriver\u001b[0m\u001b[1;33m.\u001b[0m\u001b[0mfind_element_by_link_text\u001b[0m\u001b[1;33m(\u001b[0m\u001b[1;34m'Connect'\u001b[0m\u001b[1;33m)\u001b[0m\u001b[1;33m\u001b[0m\u001b[1;33m\u001b[0m\u001b[0m\n\u001b[0m\u001b[0;32m      2\u001b[0m \u001b[1;31m#driver.execute_script('arguments[0].click();',connect_button)\u001b[0m\u001b[1;33m\u001b[0m\u001b[1;33m\u001b[0m\u001b[1;33m\u001b[0m\u001b[0m\n",
      "\u001b[1;32m~\\anaconda3\\lib\\site-packages\\selenium\\webdriver\\remote\\webdriver.py\u001b[0m in \u001b[0;36mfind_element_by_link_text\u001b[1;34m(self, link_text)\u001b[0m\n\u001b[0;32m    426\u001b[0m             \u001b[0melement\u001b[0m \u001b[1;33m=\u001b[0m \u001b[0mdriver\u001b[0m\u001b[1;33m.\u001b[0m\u001b[0mfind_element_by_link_text\u001b[0m\u001b[1;33m(\u001b[0m\u001b[1;34m'Sign In'\u001b[0m\u001b[1;33m)\u001b[0m\u001b[1;33m\u001b[0m\u001b[1;33m\u001b[0m\u001b[0m\n\u001b[0;32m    427\u001b[0m         \"\"\"\n\u001b[1;32m--> 428\u001b[1;33m         \u001b[1;32mreturn\u001b[0m \u001b[0mself\u001b[0m\u001b[1;33m.\u001b[0m\u001b[0mfind_element\u001b[0m\u001b[1;33m(\u001b[0m\u001b[0mby\u001b[0m\u001b[1;33m=\u001b[0m\u001b[0mBy\u001b[0m\u001b[1;33m.\u001b[0m\u001b[0mLINK_TEXT\u001b[0m\u001b[1;33m,\u001b[0m \u001b[0mvalue\u001b[0m\u001b[1;33m=\u001b[0m\u001b[0mlink_text\u001b[0m\u001b[1;33m)\u001b[0m\u001b[1;33m\u001b[0m\u001b[1;33m\u001b[0m\u001b[0m\n\u001b[0m\u001b[0;32m    429\u001b[0m \u001b[1;33m\u001b[0m\u001b[0m\n\u001b[0;32m    430\u001b[0m     \u001b[1;32mdef\u001b[0m \u001b[0mfind_elements_by_link_text\u001b[0m\u001b[1;33m(\u001b[0m\u001b[0mself\u001b[0m\u001b[1;33m,\u001b[0m \u001b[0mtext\u001b[0m\u001b[1;33m)\u001b[0m\u001b[1;33m:\u001b[0m\u001b[1;33m\u001b[0m\u001b[1;33m\u001b[0m\u001b[0m\n",
      "\u001b[1;32m~\\anaconda3\\lib\\site-packages\\selenium\\webdriver\\remote\\webdriver.py\u001b[0m in \u001b[0;36mfind_element\u001b[1;34m(self, by, value)\u001b[0m\n\u001b[0;32m    974\u001b[0m                 \u001b[0mby\u001b[0m \u001b[1;33m=\u001b[0m \u001b[0mBy\u001b[0m\u001b[1;33m.\u001b[0m\u001b[0mCSS_SELECTOR\u001b[0m\u001b[1;33m\u001b[0m\u001b[1;33m\u001b[0m\u001b[0m\n\u001b[0;32m    975\u001b[0m                 \u001b[0mvalue\u001b[0m \u001b[1;33m=\u001b[0m \u001b[1;34m'[name=\"%s\"]'\u001b[0m \u001b[1;33m%\u001b[0m \u001b[0mvalue\u001b[0m\u001b[1;33m\u001b[0m\u001b[1;33m\u001b[0m\u001b[0m\n\u001b[1;32m--> 976\u001b[1;33m         return self.execute(Command.FIND_ELEMENT, {\n\u001b[0m\u001b[0;32m    977\u001b[0m             \u001b[1;34m'using'\u001b[0m\u001b[1;33m:\u001b[0m \u001b[0mby\u001b[0m\u001b[1;33m,\u001b[0m\u001b[1;33m\u001b[0m\u001b[1;33m\u001b[0m\u001b[0m\n\u001b[0;32m    978\u001b[0m             'value': value})['value']\n",
      "\u001b[1;32m~\\anaconda3\\lib\\site-packages\\selenium\\webdriver\\remote\\webdriver.py\u001b[0m in \u001b[0;36mexecute\u001b[1;34m(self, driver_command, params)\u001b[0m\n\u001b[0;32m    319\u001b[0m         \u001b[0mresponse\u001b[0m \u001b[1;33m=\u001b[0m \u001b[0mself\u001b[0m\u001b[1;33m.\u001b[0m\u001b[0mcommand_executor\u001b[0m\u001b[1;33m.\u001b[0m\u001b[0mexecute\u001b[0m\u001b[1;33m(\u001b[0m\u001b[0mdriver_command\u001b[0m\u001b[1;33m,\u001b[0m \u001b[0mparams\u001b[0m\u001b[1;33m)\u001b[0m\u001b[1;33m\u001b[0m\u001b[1;33m\u001b[0m\u001b[0m\n\u001b[0;32m    320\u001b[0m         \u001b[1;32mif\u001b[0m \u001b[0mresponse\u001b[0m\u001b[1;33m:\u001b[0m\u001b[1;33m\u001b[0m\u001b[1;33m\u001b[0m\u001b[0m\n\u001b[1;32m--> 321\u001b[1;33m             \u001b[0mself\u001b[0m\u001b[1;33m.\u001b[0m\u001b[0merror_handler\u001b[0m\u001b[1;33m.\u001b[0m\u001b[0mcheck_response\u001b[0m\u001b[1;33m(\u001b[0m\u001b[0mresponse\u001b[0m\u001b[1;33m)\u001b[0m\u001b[1;33m\u001b[0m\u001b[1;33m\u001b[0m\u001b[0m\n\u001b[0m\u001b[0;32m    322\u001b[0m             response['value'] = self._unwrap_value(\n\u001b[0;32m    323\u001b[0m                 response.get('value', None))\n",
      "\u001b[1;32m~\\anaconda3\\lib\\site-packages\\selenium\\webdriver\\remote\\errorhandler.py\u001b[0m in \u001b[0;36mcheck_response\u001b[1;34m(self, response)\u001b[0m\n\u001b[0;32m    240\u001b[0m                 \u001b[0malert_text\u001b[0m \u001b[1;33m=\u001b[0m \u001b[0mvalue\u001b[0m\u001b[1;33m[\u001b[0m\u001b[1;34m'alert'\u001b[0m\u001b[1;33m]\u001b[0m\u001b[1;33m.\u001b[0m\u001b[0mget\u001b[0m\u001b[1;33m(\u001b[0m\u001b[1;34m'text'\u001b[0m\u001b[1;33m)\u001b[0m\u001b[1;33m\u001b[0m\u001b[1;33m\u001b[0m\u001b[0m\n\u001b[0;32m    241\u001b[0m             \u001b[1;32mraise\u001b[0m \u001b[0mexception_class\u001b[0m\u001b[1;33m(\u001b[0m\u001b[0mmessage\u001b[0m\u001b[1;33m,\u001b[0m \u001b[0mscreen\u001b[0m\u001b[1;33m,\u001b[0m \u001b[0mstacktrace\u001b[0m\u001b[1;33m,\u001b[0m \u001b[0malert_text\u001b[0m\u001b[1;33m)\u001b[0m\u001b[1;33m\u001b[0m\u001b[1;33m\u001b[0m\u001b[0m\n\u001b[1;32m--> 242\u001b[1;33m         \u001b[1;32mraise\u001b[0m \u001b[0mexception_class\u001b[0m\u001b[1;33m(\u001b[0m\u001b[0mmessage\u001b[0m\u001b[1;33m,\u001b[0m \u001b[0mscreen\u001b[0m\u001b[1;33m,\u001b[0m \u001b[0mstacktrace\u001b[0m\u001b[1;33m)\u001b[0m\u001b[1;33m\u001b[0m\u001b[1;33m\u001b[0m\u001b[0m\n\u001b[0m\u001b[0;32m    243\u001b[0m \u001b[1;33m\u001b[0m\u001b[0m\n\u001b[0;32m    244\u001b[0m     \u001b[1;32mdef\u001b[0m \u001b[0m_value_or_default\u001b[0m\u001b[1;33m(\u001b[0m\u001b[0mself\u001b[0m\u001b[1;33m,\u001b[0m \u001b[0mobj\u001b[0m\u001b[1;33m,\u001b[0m \u001b[0mkey\u001b[0m\u001b[1;33m,\u001b[0m \u001b[0mdefault\u001b[0m\u001b[1;33m)\u001b[0m\u001b[1;33m:\u001b[0m\u001b[1;33m\u001b[0m\u001b[1;33m\u001b[0m\u001b[0m\n",
      "\u001b[1;31mNoSuchElementException\u001b[0m: Message: no such element: Unable to locate element: {\"method\":\"link text\",\"selector\":\"Connect\"}\n  (Session info: chrome=87.0.4280.141)\n"
     ]
    }
   ],
   "source": [
    "connect_button = driver.find_element_by_link_text('Connect')\n",
    "#driver.execute_script('arguments[0].click();',connect_button)"
   ]
  },
  {
   "cell_type": "code",
   "execution_count": 317,
   "metadata": {},
   "outputs": [
    {
     "data": {
      "text/plain": [
       "'https://www.linkedin.com/in/rohan3/'"
      ]
     },
     "execution_count": 317,
     "metadata": {},
     "output_type": "execute_result"
    }
   ],
   "source": [
    "driver.current_url"
   ]
  },
  {
   "cell_type": "code",
   "execution_count": null,
   "metadata": {},
   "outputs": [],
   "source": []
  },
  {
   "cell_type": "code",
   "execution_count": null,
   "metadata": {},
   "outputs": [],
   "source": [
    "driver.forward()\n",
    "driver.back()"
   ]
  },
  {
   "cell_type": "code",
   "execution_count": 319,
   "metadata": {},
   "outputs": [],
   "source": [
    "driver.quit()"
   ]
  },
  {
   "cell_type": "code",
   "execution_count": null,
   "metadata": {},
   "outputs": [],
   "source": []
  },
  {
   "cell_type": "code",
   "execution_count": null,
   "metadata": {},
   "outputs": [],
   "source": []
  }
 ],
 "metadata": {
  "kernelspec": {
   "display_name": "Python 3",
   "language": "python",
   "name": "python3"
  },
  "language_info": {
   "codemirror_mode": {
    "name": "ipython",
    "version": 3
   },
   "file_extension": ".py",
   "mimetype": "text/x-python",
   "name": "python",
   "nbconvert_exporter": "python",
   "pygments_lexer": "ipython3",
   "version": "3.8.5"
  }
 },
 "nbformat": 4,
 "nbformat_minor": 4
}
