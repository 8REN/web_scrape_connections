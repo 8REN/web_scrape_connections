{
 "cells": [
  {
   "cell_type": "code",
   "execution_count": 274,
   "metadata": {},
   "outputs": [],
   "source": [
    "from selenium import webdriver\n",
    "from selenium.webdriver.common.keys import Keys\n",
    "from selenium.common.exceptions import NoSuchElementException\n",
    "\n",
    "from selenium.webdriver.support.ui import Select\n",
    "from selenium.webdriver.support.ui import WebDriverWait\n",
    "from selenium.webdriver.support.ui import WebDriverWait\n",
    "from selenium.webdriver.support import expected_conditions as EC\n",
    "from selenium.webdriver.common.by import By\n",
    "from selenium.webdriver import ActionChains\n",
    "from selenium.webdriver.common.desired_capabilities import DesiredCapabilities\n",
    "from selenium.webdriver.chrome.options import Options"
   ]
  },
  {
   "cell_type": "code",
   "execution_count": 275,
   "metadata": {},
   "outputs": [],
   "source": [
    "import time\n",
    "import csv\n",
    "import numpy as np\n",
    "import pandas as pd\n",
    "import requests\n",
    "import re\n",
    "import bs4\n",
    "from bs4 import BeautifulSoup as bs\n",
    "from IPython.core.display import HTML"
   ]
  },
  {
   "cell_type": "markdown",
   "metadata": {},
   "source": [
    "# create webdriver instance"
   ]
  },
  {
   "cell_type": "code",
   "execution_count": 276,
   "metadata": {},
   "outputs": [],
   "source": [
    "PATH = \"C:\\Program Files (x86)\\chromedriver.exe\"\n",
    "driver = webdriver.Chrome(PATH)"
   ]
  },
  {
   "cell_type": "code",
   "execution_count": 564,
   "metadata": {},
   "outputs": [],
   "source": [
    "def sign_in(email, password):\n",
    "    driver.get(\"https://www.linkedin.com/\")\n",
    "    time.sleep(3)\n",
    "    driver.find_element_by_id(\"session_key\").send_keys(email)\n",
    "    driver.find_element_by_id(\"session_password\").send_keys(password)\n",
    "    driver.find_element_by_class_name(\"sign-in-form__submit-button\").click()"
   ]
  },
  {
   "cell_type": "code",
   "execution_count": 277,
   "metadata": {},
   "outputs": [],
   "source": [
    "sign_in('email', 'password')"
   ]
  },
  {
   "cell_type": "code",
   "execution_count": 353,
   "metadata": {},
   "outputs": [],
   "source": [
    "df_og = pd.read_csv('data_scientist_connections.csv')"
   ]
  },
  {
   "cell_type": "code",
   "execution_count": 354,
   "metadata": {},
   "outputs": [],
   "source": [
    "# create list of profile urls to iterate and scrape through individual profiles\n",
    "profile_urls = df_og.fetch[100:200]"
   ]
  },
  {
   "cell_type": "code",
   "execution_count": 355,
   "metadata": {},
   "outputs": [],
   "source": [
    "# create empty lists to hold info scraped\n",
    "first_name_list = []\n",
    "last_name_list = []"
   ]
  },
  {
   "cell_type": "code",
   "execution_count": 477,
   "metadata": {},
   "outputs": [],
   "source": [
    "w = WebDriverWait(driver, 10)"
   ]
  },
  {
   "cell_type": "code",
   "execution_count": null,
   "metadata": {},
   "outputs": [],
   "source": [
    "def get_profile(url):\n",
    "    return driver.get(url)"
   ]
  },
  {
   "cell_type": "markdown",
   "metadata": {},
   "source": [
    "def get_profile_name(url):\n",
    "    driver.get(url)\n",
    "    # pause to allow page time to load\n",
    "    time.sleep(3)\n",
    "    # find name element from profile header portion\n",
    "    name = driver.find_element_by_css_selector(\"li.inline\")\n",
    "    name = name.text.strip()\n",
    "    # split first and last name\n",
    "    name = name.split(' ', 1)\n",
    "    first_name = name[0]\n",
    "    first_name_list.append(first_name)\n",
    "    last_name = name[-1]\n",
    "    last_name_list.append(last_name)\n",
    "    time.sleep(3)"
   ]
  },
  {
   "cell_type": "code",
   "execution_count": 487,
   "metadata": {},
   "outputs": [],
   "source": [
    "def get_name(url):\n",
    "    get_profile(url)\n",
    "    # pause to allow page time to load\n",
    "    time.sleep(3)\n",
    "    profile_header = driver.find_element_by_css_selector(\"ul.pv-top-card--list\")\n",
    "    # find name element from profile header portion\n",
    "    header_details = profile_header.find_elements_by_tag_name(\"li\")\n",
    "    profile_name = header_details[0].get_attribute('innerText')\n",
    "    return profile_name"
   ]
  },
  {
   "cell_type": "code",
   "execution_count": null,
   "metadata": {},
   "outputs": [],
   "source": [
    "def get_email():\n",
    "    # scroll to top of profile where email is located\n",
    "    driver.execute_script(\"window.scrollTo(0, 0);\")\n",
    "    contact_info = driver.find_element_by_css_selector(\n",
    "        'a[data-control-name=\"contact_see_more\"]')\n",
    "    contact_info.click()\n",
    "    w.until(EC.presence_of_element_located((\n",
    "        By.CSS_SELECTOR,'div.pv-profile-section__section-info')))\n",
    "    try:\n",
    "        container =  driver.find_elements_by_css_selector(\n",
    "            'div.pv-contact-info__ci-container')\n",
    "        email =  container[1].get_attribute('innerText')\n",
    "    \n",
    "    except NoSuchElementException:\n",
    "                email = 'nan'\n",
    "    return email"
   ]
  },
  {
   "cell_type": "code",
   "execution_count": 488,
   "metadata": {},
   "outputs": [
    {
     "name": "stdout",
     "output_type": "stream",
     "text": [
      "Brennan\n",
      "Mathis\n"
     ]
    }
   ],
   "source": [
    "name = get_name(url)\n",
    "name = name.split(' ', 1)\n",
    "first_name = name[0]\n",
    "print(first_name)\n",
    "last_name = name[1]\n",
    "print(last_name)"
   ]
  },
  {
   "cell_type": "code",
   "execution_count": 357,
   "metadata": {},
   "outputs": [],
   "source": [
    "for x in profile_urls:\n",
    "    get_profile_name(x)"
   ]
  },
  {
   "cell_type": "code",
   "execution_count": 358,
   "metadata": {},
   "outputs": [],
   "source": [
    "df = pd.DataFrame()\n",
    "df['first'] = firstName\n",
    "df['last'] = lastName\n",
    "\n",
    "df.to_csv('names.csv')"
   ]
  },
  {
   "cell_type": "code",
   "execution_count": 595,
   "metadata": {},
   "outputs": [],
   "source": [
    "job_list = []\n",
    "job_list2 = []\n",
    "company_list = []\n",
    "company_list2 = []\n",
    "date_list =[]\n",
    "date_list2 = []\n",
    "loc_list = []\n",
    "loc_list2 = []\n",
    "school_list = []\n",
    "school_list2 = []"
   ]
  },
  {
   "cell_type": "code",
   "execution_count": 388,
   "metadata": {},
   "outputs": [],
   "source": [
    "def get_profile(url):\n",
    "    return driver.get(url)"
   ]
  },
  {
   "cell_type": "code",
   "execution_count": 453,
   "metadata": {},
   "outputs": [],
   "source": [
    "def goto_background():\n",
    "    w = WebDriverWait(driver, 10)\n",
    "    w.until(EC.presence_of_element_located((By.CSS_SELECTOR,\"div.profile-detail\")))\n",
    "    time.sleep(5)\n",
    "    # background container\n",
    "    background = driver.find_element_by_css_selector(\n",
    "        \"div[id='oc-background-section']\")\n",
    "    #print(\"here\" + str(background))\n",
    "    driver.execute_script(\"arguments[0].scrollIntoView();\", background)\n",
    "    return background\n",
    "    "
   ]
  },
  {
   "cell_type": "code",
   "execution_count": 495,
   "metadata": {},
   "outputs": [],
   "source": [
    "def get_job_title(container):\n",
    "    try:\n",
    "        position = container.find_element_by_tag_name(\n",
    "            'h3').get_attribute('innerText')\n",
    "    except NoSuchElementException:\n",
    "        position = 'nan'\n",
    "    return position"
   ]
  },
  {
   "cell_type": "code",
   "execution_count": 496,
   "metadata": {},
   "outputs": [],
   "source": [
    "def get_company(container):\n",
    "    try:\n",
    "        company = container.find_element_by_tag_name(\n",
    "            'p.pv-entity__secondary-title').get_attribute('innerText')\n",
    "        \n",
    "    except NoSuchElementException:\n",
    "        company = 'nan'\n",
    "    return company"
   ]
  },
  {
   "cell_type": "code",
   "execution_count": 497,
   "metadata": {},
   "outputs": [],
   "source": [
    "def get_work_location(container):\n",
    "    try:\n",
    "        location = container.find_element_by_css_selector(\n",
    "            'h4.pv-entity__location').get_attribute('innerText')\n",
    "            #location = location.split(' ', 1)[1]\n",
    "    except NoSuchElementException:\n",
    "        location = 'nan'\n",
    "    return location"
   ]
  },
  {
   "cell_type": "code",
   "execution_count": 498,
   "metadata": {},
   "outputs": [],
   "source": [
    "def get_dates_employed(container):\n",
    "    try:\n",
    "        dates = container.find_element_by_css_selector(\n",
    "            \"h4.pv-entity__date-range\").get_attribute('innerText').split(' ', 2)[-1]\n",
    "\n",
    "    except NoSuchElementException:\n",
    "        dates = 'nan'\n",
    "    return dates"
   ]
  },
  {
   "cell_type": "code",
   "execution_count": null,
   "metadata": {},
   "outputs": [],
   "source": []
  },
  {
   "cell_type": "code",
   "execution_count": 514,
   "metadata": {},
   "outputs": [],
   "source": [
    "def go_to_element(wait_element_css, select_element):\n",
    "    w = WebDriverWait(driver, 10)\n",
    "    w.until(EC.presence_of_element_located((By.CSS_SELECTOR, wait_element_css)))\n",
    "    time.sleep(5)\n",
    "    # background container\n",
    "    element = driver.find_element_by_css_selector(select_element)\n",
    "    #print(\"here\" + str(background))\n",
    "    driver.execute_script(\"arguments[0].scrollIntoView();\", element)\n",
    "    return element"
   ]
  },
  {
   "cell_type": "code",
   "execution_count": 587,
   "metadata": {},
   "outputs": [],
   "source": [
    "def parse_job_history(job_number):\n",
    "    history = exp.find_elements_by_css_selector(\n",
    "            \"a[data-control-name='background_details_company']\")\n",
    "    details = history[job_number]\n",
    "    pos = get_job_title(details)\n",
    "    company = get_company(details)\n",
    "    location = get_work_location(details)\n",
    "    dates = get_dates_employed(details)\n",
    "    return details"
   ]
  },
  {
   "cell_type": "code",
   "execution_count": 596,
   "metadata": {},
   "outputs": [],
   "source": [
    "def get_experience():\n",
    "    time.sleep(2)\n",
    "    w = WebDriverWait(driver, 10)\n",
    "    w.until(EC.presence_of_element_located((By.CSS_SELECTOR,\"div.profile-detail\")))\n",
    "    time.sleep(5)\n",
    "    # background container\n",
    "    background = driver.find_element_by_css_selector(\n",
    "        \"div[id='oc-background-section']\")\n",
    "    #print(\"here\" + str(background))\n",
    "    driver.execute_script(\"arguments[0].scrollIntoView();\", background)\n",
    "    time.sleep(3)\n",
    "    \n",
    "   \n",
    "    # experience\n",
    "    try:\n",
    "        exp = background.find_element_by_css_selector(\n",
    "            \"section[id='experience-section']\")\n",
    "    \n",
    "    except NoSuchElementException:\n",
    "        pass\n",
    "    history = exp.find_elements_by_css_selector(\n",
    "            \"a[data-control-name='background_details_company']\")\n",
    "    details = history[0]\n",
    "    pos = get_job_title(details)\n",
    "    company = get_company(details)\n",
    "    location = get_work_location(details)\n",
    "    dates = get_dates_employed(details)\n",
    "    job_list.append(pos)\n",
    "    company_list.append(company)\n",
    "    date_list.append(dates)\n",
    "    loc_list.append(location)   \n",
    "    \n",
    "   \n",
    "#     time.sleep(2)\n",
    "#     history = exp.find_elements_by_css_selector(\n",
    "#         \"a[data-control-name='background_details_company']\")\n",
    "#     details = history[0]\n",
    "    \n",
    "#     try:\n",
    "#         pos = details.find_element_by_tag_name(\n",
    "#             'h3').get_attribute('outerText')\n",
    "#     except NoSuchElementException:\n",
    "#         pos = 'nan'\n",
    "#         #print(pos)\n",
    "#     time.sleep(2)\n",
    "#     try:\n",
    "#         company = details.find_element_by_tag_name(\n",
    "#             'p.pv-entity__secondary-title').get_attribute('innerText')\n",
    "        \n",
    "#     except NoSuchElementException:\n",
    "#         company = 'nan'\n",
    "#     try:\n",
    "#         location = details.find_element_by_css_selector(\n",
    "#             'h4.pv-entity__location').get_attribute('innerText')\n",
    "#             #location = location.split(' ', 1)[1]\n",
    "#     except NoSuchElementException:\n",
    "#         location = 'nan'\n",
    "#         #print(location)\n",
    "#     try:\n",
    "#         dates = details.find_element_by_css_selector(\n",
    "#             \"h4.pv-entity__date-range\").get_attribute('innerText').split(' ', 2)[-1]\n",
    "\n",
    "#     except NoSuchElementException:\n",
    "#             dates = 'nan'\n",
    "    \n",
    "#     job_list.append(pos)\n",
    "#     company_list.append(company)\n",
    "#     date_list.append(dates)\n",
    "#     loc_list.append(location)\n",
    "    \n",
    "#     if (len(history)) >=2:\n",
    "#         details = history[1]\n",
    "#         try:\n",
    "#             pos = details.find_element_by_tag_name(\n",
    "#                 'h3').get_attribute('outerText')\n",
    "#         except NoSuchElementException:\n",
    "#             pos = 'nan'\n",
    "#             #print(pos)\n",
    "#         time.sleep(2)\n",
    "#         try:\n",
    "#             company = details.find_element_by_tag_name(\n",
    "#                 'p.pv-entity__secondary-title').get_attribute('innerText')\n",
    "\n",
    "#         except NoSuchElementException:\n",
    "#             company = 'nan'\n",
    "#         try:\n",
    "#             location = details.find_element_by_css_selector(\n",
    "#                 'h4.pv-entity__location').get_attribute('innerText')\n",
    "#                 #location = location.split(' ', 1)[1]\n",
    "#         except NoSuchElementException:\n",
    "#             location = 'nan'\n",
    "#             #print(location)\n",
    "#         try:\n",
    "#             dates = details.find_element_by_css_selector(\n",
    "#                 \"h4.pv-entity__date-range\").get_attribute('innerText').split(' ', 2)[-1]\n",
    "\n",
    "#         except NoSuchElementException:\n",
    "#                 dates = 'nan'\n",
    "\n",
    "#     if (len(history)) < 2:\n",
    "#         pos = 'nan'\n",
    "#         company  ='nan'\n",
    "#         location  ='nan'\n",
    "#         dates = 'nan'\n",
    "        \n",
    "#     job_list2.append(pos)\n",
    "#     company_list2.append(company)\n",
    "#     date_list2.append(dates)\n",
    "#     loc_list2.append(location)\n",
    "#     driver.execute_script(\"window.scrollTo(0, document.body.scrollHeight);\")    \n",
    "    \n",
    "#     time.sleep(2)\n",
    "\n",
    "    "
   ]
  },
  {
   "cell_type": "code",
   "execution_count": null,
   "metadata": {},
   "outputs": [],
   "source": [
    "  if (len(history)) >=2:\n",
    "        details = history[1]\n",
    "        pos = get_job_title(details)\n",
    "        company = get_company(details)\n",
    "        location = get_work_location(details)\n",
    "        dates = get_dates_employed(details)\n",
    "    if (len(history)) < 2:\n",
    "        pos = 'nan'\n",
    "        company = 'nan'\n",
    "        location = 'nan'\n",
    "        dates = 'nan'\n",
    "    job_list2.append(pos)\n",
    "    company_list2.append(company)\n",
    "    date_list2.append(dates)\n",
    "    loc_list2.append(location)"
   ]
  },
  {
   "cell_type": "code",
   "execution_count": 500,
   "metadata": {},
   "outputs": [
    {
     "name": "stdout",
     "output_type": "stream",
     "text": [
      "Video EditorDiscovery Channel\n"
     ]
    }
   ],
   "source": [
    "get_experience()"
   ]
  },
  {
   "cell_type": "markdown",
   "metadata": {},
   "source": [
    "def parse_exp(details):\n",
    "    try:\n",
    "        pos = details.find_element_by_tag_name('h3').get_attribute('outerText')\n",
    "    except NoSuchElementException:\n",
    "        pos = 'nan'\n",
    "        #print(pos)\n",
    "    time.sleep(2)\n",
    "    try:\n",
    "        company = details.find_element_by_tag_name('p.pv-entity__secondary-title').get_attribute('innerText')\n",
    "        \n",
    "    except NoSuchElementException:\n",
    "        company = 'nan'\n",
    "    try:\n",
    "        location = details.find_element_by_css_selector('h4.pv-entity__location').get_attribute('innerText')\n",
    "            #location = location.split(' ', 1)[1]\n",
    "    except NoSuchElementException:\n",
    "        location = 'nan'\n",
    "        #print(location)\n",
    "    try:\n",
    "        dates = details.find_element_by_css_selector(\"h4.pv-entity__date-range\").get_attribute('innerText').split(' ', 2)[-1]\n",
    "\n",
    "    except NoSuchElementException:\n",
    "            dates = 'nan'\n",
    "    return pos, company, location, dates"
   ]
  },
  {
   "cell_type": "code",
   "execution_count": 348,
   "metadata": {},
   "outputs": [
    {
     "data": {
      "text/plain": [
       "(100, 10)"
      ]
     },
     "execution_count": 348,
     "metadata": {},
     "output_type": "execute_result"
    }
   ],
   "source": [
    "df.shape"
   ]
  },
  {
   "cell_type": "code",
   "execution_count": 504,
   "metadata": {},
   "outputs": [],
   "source": [
    "def get_school_name(container):\n",
    "    school_name = container.find_element_by_tag_name(\n",
    "        'h3').get_attribute('innerText')\n",
    "    return school_name"
   ]
  },
  {
   "cell_type": "code",
   "execution_count": 512,
   "metadata": {},
   "outputs": [],
   "source": [
    "def get_education():\n",
    "    # wait for element to proceed\n",
    "    w = WebDriverWait(driver, 10)\n",
    "    w.until(EC.presence_of_element_located((By.CSS_SELECTOR,\"div.profile-detail\")))\n",
    "    # background container\n",
    "    background = driver.find_element_by_css_selector(\n",
    "        \"div[id='oc-background-section']\")\n",
    "    #print(\"here\" + str(background))\n",
    "    driver.execute_script(\"arguments[0].scrollIntoView();\", background)\n",
    "    time.sleep(8)\n",
    "    # locate education section\n",
    "    try:\n",
    "        education = background.find_element_by_css_selector(\n",
    "            \"section[id='education-section']\")\n",
    "        time.sleep(5)\n",
    "        schools = education.find_elements_by_css_selector(\n",
    "            \"a[data-control-name='background_details_school']\")\n",
    "        school = schools[0]\n",
    "        school_name = get_school_name(school)\n",
    "    except NoSuchElementException:\n",
    "        school_name =  'nan'\n",
    "    school_list.append(school_name)\n",
    "    #print(school.text)\n",
    "    if (len(schools)) >=2:\n",
    "        school = schools[1]\n",
    "        school_name = get_school_name(school)\n",
    "    else:\n",
    "        school_name = 'nan'\n",
    "    school_list2.append(school_name)\n",
    "    driver.execute_script(\"window.scrollTo(0, document.body.scrollHeight);\")\n",
    "    time.sleep(5)\n",
    "    "
   ]
  },
  {
   "cell_type": "code",
   "execution_count": null,
   "metadata": {},
   "outputs": [
    {
     "name": "stdout",
     "output_type": "stream",
     "text": [
      "Wall time: 0 ns\n"
     ]
    }
   ],
   "source": [
    "%time\n",
    "for profile in profile_urls:\n",
    "    get_profile(profile)\n",
    "    get_experience()"
   ]
  },
  {
   "cell_type": "code",
   "execution_count": 513,
   "metadata": {},
   "outputs": [
    {
     "name": "stdout",
     "output_type": "stream",
     "text": [
      "Wall time: 0 ns\n"
     ]
    }
   ],
   "source": [
    "%time\n",
    "for profile in profile_urls:\n",
    "    get_profile(profile)\n",
    "    get_education()"
   ]
  },
  {
   "cell_type": "code",
   "execution_count": 532,
   "metadata": {},
   "outputs": [
    {
     "ename": "ValueError",
     "evalue": "Length of values (0) does not match length of index (100)",
     "output_type": "error",
     "traceback": [
      "\u001b[1;31m---------------------------------------------------------------------------\u001b[0m",
      "\u001b[1;31mValueError\u001b[0m                                Traceback (most recent call last)",
      "\u001b[1;32m<ipython-input-532-b0195c924345>\u001b[0m in \u001b[0;36m<module>\u001b[1;34m\u001b[0m\n\u001b[0;32m      1\u001b[0m \u001b[0mdf\u001b[0m\u001b[1;33m[\u001b[0m\u001b[1;34m'first'\u001b[0m\u001b[1;33m]\u001b[0m \u001b[1;33m=\u001b[0m \u001b[0mfirstName\u001b[0m\u001b[1;33m\u001b[0m\u001b[1;33m\u001b[0m\u001b[0m\n\u001b[0;32m      2\u001b[0m \u001b[0mdf\u001b[0m\u001b[1;33m[\u001b[0m\u001b[1;34m'last'\u001b[0m\u001b[1;33m]\u001b[0m \u001b[1;33m=\u001b[0m \u001b[0mlastName\u001b[0m\u001b[1;33m\u001b[0m\u001b[1;33m\u001b[0m\u001b[0m\n\u001b[1;32m----> 3\u001b[1;33m \u001b[0mdf\u001b[0m\u001b[1;33m[\u001b[0m\u001b[1;34m'job1_title'\u001b[0m\u001b[1;33m]\u001b[0m \u001b[1;33m=\u001b[0m \u001b[0mjob_list\u001b[0m\u001b[1;33m\u001b[0m\u001b[1;33m\u001b[0m\u001b[0m\n\u001b[0m\u001b[0;32m      4\u001b[0m \u001b[0mdf\u001b[0m\u001b[1;33m[\u001b[0m\u001b[1;34m'job1_company'\u001b[0m\u001b[1;33m]\u001b[0m \u001b[1;33m=\u001b[0m \u001b[0mcompany_list\u001b[0m\u001b[1;33m\u001b[0m\u001b[1;33m\u001b[0m\u001b[0m\n\u001b[0;32m      5\u001b[0m \u001b[0mdf\u001b[0m\u001b[1;33m[\u001b[0m\u001b[1;34m'job1_location'\u001b[0m\u001b[1;33m]\u001b[0m \u001b[1;33m=\u001b[0m \u001b[0mloc_list\u001b[0m\u001b[1;33m\u001b[0m\u001b[1;33m\u001b[0m\u001b[0m\n",
      "\u001b[1;32m~\\anaconda3\\lib\\site-packages\\pandas\\core\\frame.py\u001b[0m in \u001b[0;36m__setitem__\u001b[1;34m(self, key, value)\u001b[0m\n\u001b[0;32m   3038\u001b[0m         \u001b[1;32melse\u001b[0m\u001b[1;33m:\u001b[0m\u001b[1;33m\u001b[0m\u001b[1;33m\u001b[0m\u001b[0m\n\u001b[0;32m   3039\u001b[0m             \u001b[1;31m# set column\u001b[0m\u001b[1;33m\u001b[0m\u001b[1;33m\u001b[0m\u001b[1;33m\u001b[0m\u001b[0m\n\u001b[1;32m-> 3040\u001b[1;33m             \u001b[0mself\u001b[0m\u001b[1;33m.\u001b[0m\u001b[0m_set_item\u001b[0m\u001b[1;33m(\u001b[0m\u001b[0mkey\u001b[0m\u001b[1;33m,\u001b[0m \u001b[0mvalue\u001b[0m\u001b[1;33m)\u001b[0m\u001b[1;33m\u001b[0m\u001b[1;33m\u001b[0m\u001b[0m\n\u001b[0m\u001b[0;32m   3041\u001b[0m \u001b[1;33m\u001b[0m\u001b[0m\n\u001b[0;32m   3042\u001b[0m     \u001b[1;32mdef\u001b[0m \u001b[0m_setitem_slice\u001b[0m\u001b[1;33m(\u001b[0m\u001b[0mself\u001b[0m\u001b[1;33m,\u001b[0m \u001b[0mkey\u001b[0m\u001b[1;33m:\u001b[0m \u001b[0mslice\u001b[0m\u001b[1;33m,\u001b[0m \u001b[0mvalue\u001b[0m\u001b[1;33m)\u001b[0m\u001b[1;33m:\u001b[0m\u001b[1;33m\u001b[0m\u001b[1;33m\u001b[0m\u001b[0m\n",
      "\u001b[1;32m~\\anaconda3\\lib\\site-packages\\pandas\\core\\frame.py\u001b[0m in \u001b[0;36m_set_item\u001b[1;34m(self, key, value)\u001b[0m\n\u001b[0;32m   3114\u001b[0m         \"\"\"\n\u001b[0;32m   3115\u001b[0m         \u001b[0mself\u001b[0m\u001b[1;33m.\u001b[0m\u001b[0m_ensure_valid_index\u001b[0m\u001b[1;33m(\u001b[0m\u001b[0mvalue\u001b[0m\u001b[1;33m)\u001b[0m\u001b[1;33m\u001b[0m\u001b[1;33m\u001b[0m\u001b[0m\n\u001b[1;32m-> 3116\u001b[1;33m         \u001b[0mvalue\u001b[0m \u001b[1;33m=\u001b[0m \u001b[0mself\u001b[0m\u001b[1;33m.\u001b[0m\u001b[0m_sanitize_column\u001b[0m\u001b[1;33m(\u001b[0m\u001b[0mkey\u001b[0m\u001b[1;33m,\u001b[0m \u001b[0mvalue\u001b[0m\u001b[1;33m)\u001b[0m\u001b[1;33m\u001b[0m\u001b[1;33m\u001b[0m\u001b[0m\n\u001b[0m\u001b[0;32m   3117\u001b[0m         \u001b[0mNDFrame\u001b[0m\u001b[1;33m.\u001b[0m\u001b[0m_set_item\u001b[0m\u001b[1;33m(\u001b[0m\u001b[0mself\u001b[0m\u001b[1;33m,\u001b[0m \u001b[0mkey\u001b[0m\u001b[1;33m,\u001b[0m \u001b[0mvalue\u001b[0m\u001b[1;33m)\u001b[0m\u001b[1;33m\u001b[0m\u001b[1;33m\u001b[0m\u001b[0m\n\u001b[0;32m   3118\u001b[0m \u001b[1;33m\u001b[0m\u001b[0m\n",
      "\u001b[1;32m~\\anaconda3\\lib\\site-packages\\pandas\\core\\frame.py\u001b[0m in \u001b[0;36m_sanitize_column\u001b[1;34m(self, key, value, broadcast)\u001b[0m\n\u001b[0;32m   3762\u001b[0m \u001b[1;33m\u001b[0m\u001b[0m\n\u001b[0;32m   3763\u001b[0m             \u001b[1;31m# turn me into an ndarray\u001b[0m\u001b[1;33m\u001b[0m\u001b[1;33m\u001b[0m\u001b[1;33m\u001b[0m\u001b[0m\n\u001b[1;32m-> 3764\u001b[1;33m             \u001b[0mvalue\u001b[0m \u001b[1;33m=\u001b[0m \u001b[0msanitize_index\u001b[0m\u001b[1;33m(\u001b[0m\u001b[0mvalue\u001b[0m\u001b[1;33m,\u001b[0m \u001b[0mself\u001b[0m\u001b[1;33m.\u001b[0m\u001b[0mindex\u001b[0m\u001b[1;33m)\u001b[0m\u001b[1;33m\u001b[0m\u001b[1;33m\u001b[0m\u001b[0m\n\u001b[0m\u001b[0;32m   3765\u001b[0m             \u001b[1;32mif\u001b[0m \u001b[1;32mnot\u001b[0m \u001b[0misinstance\u001b[0m\u001b[1;33m(\u001b[0m\u001b[0mvalue\u001b[0m\u001b[1;33m,\u001b[0m \u001b[1;33m(\u001b[0m\u001b[0mnp\u001b[0m\u001b[1;33m.\u001b[0m\u001b[0mndarray\u001b[0m\u001b[1;33m,\u001b[0m \u001b[0mIndex\u001b[0m\u001b[1;33m)\u001b[0m\u001b[1;33m)\u001b[0m\u001b[1;33m:\u001b[0m\u001b[1;33m\u001b[0m\u001b[1;33m\u001b[0m\u001b[0m\n\u001b[0;32m   3766\u001b[0m                 \u001b[1;32mif\u001b[0m \u001b[0misinstance\u001b[0m\u001b[1;33m(\u001b[0m\u001b[0mvalue\u001b[0m\u001b[1;33m,\u001b[0m \u001b[0mlist\u001b[0m\u001b[1;33m)\u001b[0m \u001b[1;32mand\u001b[0m \u001b[0mlen\u001b[0m\u001b[1;33m(\u001b[0m\u001b[0mvalue\u001b[0m\u001b[1;33m)\u001b[0m \u001b[1;33m>\u001b[0m \u001b[1;36m0\u001b[0m\u001b[1;33m:\u001b[0m\u001b[1;33m\u001b[0m\u001b[1;33m\u001b[0m\u001b[0m\n",
      "\u001b[1;32m~\\anaconda3\\lib\\site-packages\\pandas\\core\\internals\\construction.py\u001b[0m in \u001b[0;36msanitize_index\u001b[1;34m(data, index)\u001b[0m\n\u001b[0;32m    745\u001b[0m     \"\"\"\n\u001b[0;32m    746\u001b[0m     \u001b[1;32mif\u001b[0m \u001b[0mlen\u001b[0m\u001b[1;33m(\u001b[0m\u001b[0mdata\u001b[0m\u001b[1;33m)\u001b[0m \u001b[1;33m!=\u001b[0m \u001b[0mlen\u001b[0m\u001b[1;33m(\u001b[0m\u001b[0mindex\u001b[0m\u001b[1;33m)\u001b[0m\u001b[1;33m:\u001b[0m\u001b[1;33m\u001b[0m\u001b[1;33m\u001b[0m\u001b[0m\n\u001b[1;32m--> 747\u001b[1;33m         raise ValueError(\n\u001b[0m\u001b[0;32m    748\u001b[0m             \u001b[1;34m\"Length of values \"\u001b[0m\u001b[1;33m\u001b[0m\u001b[1;33m\u001b[0m\u001b[0m\n\u001b[0;32m    749\u001b[0m             \u001b[1;34mf\"({len(data)}) \"\u001b[0m\u001b[1;33m\u001b[0m\u001b[1;33m\u001b[0m\u001b[0m\n",
      "\u001b[1;31mValueError\u001b[0m: Length of values (0) does not match length of index (100)"
     ]
    }
   ],
   "source": [
    "df['first'] = firstName\n",
    "df['last'] = lastName\n",
    "df['job1_title'] = job_list\n",
    "df['job1_company'] = company_list\n",
    "df['job1_location'] = loc_list\n",
    "df['job1_dates'] = date_list\n",
    "df['job2_title'] = job_list2\n",
    "df['job2_company'] = company_list2\n",
    "df['job2_location'] = loc_list2\n",
    "df['job2_dates'] = date_list2\n",
    "df['school1'] = school_list\n",
    "df['school2'] = school_list2"
   ]
  },
  {
   "cell_type": "code",
   "execution_count": 534,
   "metadata": {},
   "outputs": [
    {
     "data": {
      "text/plain": [
       "[]"
      ]
     },
     "execution_count": 534,
     "metadata": {},
     "output_type": "execute_result"
    }
   ],
   "source": [
    "job_list2"
   ]
  },
  {
   "cell_type": "code",
   "execution_count": 351,
   "metadata": {},
   "outputs": [],
   "source": [
    "df.to_csv('connections200.csv')"
   ]
  },
  {
   "cell_type": "code",
   "execution_count": null,
   "metadata": {},
   "outputs": [],
   "source": [
    "email_list = []"
   ]
  },
  {
   "cell_type": "code",
   "execution_count": 501,
   "metadata": {},
   "outputs": [],
   "source": [
    "def get_email():\n",
    "    # scroll to top of profile where email is located\n",
    "    driver.execute_script(\"window.scrollTo(0, 0);\")\n",
    "    contact_button = driver.find_element_by_css_selector(\n",
    "        'a[data-control-name=\"contact_see_more\"]')\n",
    "    contact_button.click()\n",
    "    w.until(EC.presence_of_element_located((\n",
    "        By.CSS_SELECTOR,'div.pv-profile-section__section-info')))\n",
    "    try:\n",
    "        container =  driver.find_elements_by_css_selector(\n",
    "            'div.pv-contact-info__ci-container')\n",
    "        email =  container[1].get_attribute('innerText')\n",
    "    \n",
    "    except NoSuchElementException:\n",
    "                email = 'nan'\n",
    "    return email          "
   ]
  },
  {
   "cell_type": "code",
   "execution_count": null,
   "metadata": {},
   "outputs": [],
   "source": [
    "email_list.append(email)"
   ]
  },
  {
   "cell_type": "code",
   "execution_count": null,
   "metadata": {},
   "outputs": [],
   "source": [
    "driver.switch_to.window(window_handle)"
   ]
  },
  {
   "cell_type": "code",
   "execution_count": null,
   "metadata": {},
   "outputs": [],
   "source": [
    "connect_button = driver.find_element_by_link_text('Connect')\n",
    "driver.execute_script('arguments[0].click();',connect_button)"
   ]
  },
  {
   "cell_type": "code",
   "execution_count": null,
   "metadata": {},
   "outputs": [],
   "source": [
    "driver.current_url"
   ]
  },
  {
   "cell_type": "code",
   "execution_count": null,
   "metadata": {},
   "outputs": [],
   "source": []
  },
  {
   "cell_type": "code",
   "execution_count": null,
   "metadata": {},
   "outputs": [],
   "source": [
    "driver.forward()\n",
    "driver.back()"
   ]
  },
  {
   "cell_type": "code",
   "execution_count": null,
   "metadata": {},
   "outputs": [],
   "source": [
    "driver.quit()"
   ]
  },
  {
   "cell_type": "code",
   "execution_count": null,
   "metadata": {},
   "outputs": [],
   "source": []
  },
  {
   "cell_type": "code",
   "execution_count": null,
   "metadata": {},
   "outputs": [],
   "source": []
  }
 ],
 "metadata": {
  "kernelspec": {
   "display_name": "Python 3",
   "language": "python",
   "name": "python3"
  },
  "language_info": {
   "codemirror_mode": {
    "name": "ipython",
    "version": 3
   },
   "file_extension": ".py",
   "mimetype": "text/x-python",
   "name": "python",
   "nbconvert_exporter": "python",
   "pygments_lexer": "ipython3",
   "version": "3.8.5"
  }
 },
 "nbformat": 4,
 "nbformat_minor": 4
}
