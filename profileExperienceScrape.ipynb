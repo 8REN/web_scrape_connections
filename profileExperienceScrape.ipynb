{
 "cells": [
  {
   "cell_type": "code",
   "execution_count": 775,
   "metadata": {},
   "outputs": [],
   "source": [
    "from selenium import webdriver\n",
    "from selenium.webdriver.common.keys import Keys\n",
    "from selenium.common.exceptions import NoSuchElementException\n",
    "from selenium.webdriver.support.ui import Select\n",
    "from selenium.webdriver.support.ui import WebDriverWait\n",
    "from selenium.webdriver.support import expected_conditions as EC\n",
    "from selenium.webdriver.common.by import By\n",
    "from selenium.webdriver import ActionChains\n",
    "from selenium.webdriver.common.desired_capabilities import DesiredCapabilities\n",
    "from selenium.webdriver.chrome.options import Options"
   ]
  },
  {
   "cell_type": "code",
   "execution_count": 776,
   "metadata": {},
   "outputs": [],
   "source": [
    "import time\n",
    "import csv\n",
    "import numpy as np\n",
    "import pandas as pd\n",
    "import requests\n",
    "import re\n",
    "\n",
    "from IPython.core.display import HTML"
   ]
  },
  {
   "cell_type": "code",
   "execution_count": 784,
   "metadata": {},
   "outputs": [],
   "source": [
    "import login"
   ]
  },
  {
   "cell_type": "code",
   "execution_count": 785,
   "metadata": {},
   "outputs": [],
   "source": [
    "driver.quit()"
   ]
  },
  {
   "cell_type": "markdown",
   "metadata": {},
   "source": [
    "# create webdriver instance"
   ]
  },
  {
   "cell_type": "code",
   "execution_count": 786,
   "metadata": {},
   "outputs": [],
   "source": [
    "PATH = \"C:\\Program Files (x86)\\chromedriver.exe\"\n",
    "driver = webdriver.Chrome(PATH)"
   ]
  },
  {
   "cell_type": "code",
   "execution_count": 792,
   "metadata": {},
   "outputs": [],
   "source": [
    "def sign_in(email, password):\n",
    "#     this function automates login process on linkedin, \n",
    "#     provide email and password as strings\n",
    "    time.sleep(2)\n",
    "    # webdriver gets page\n",
    "    driver.get(\"https://www.linkedin.com/\")\n",
    "    # pause for page to load\n",
    "    time.sleep(3)\n",
    "    # locate and send login email and password\n",
    "    driver.find_element_by_id(\"session_key\").send_keys(email)\n",
    "    driver.find_element_by_id(\"session_password\").send_keys(password)\n",
    "    driver.find_element_by_class_name(\"sign-in-form__submit-button\").click()"
   ]
  },
  {
   "cell_type": "code",
   "execution_count": 793,
   "metadata": {},
   "outputs": [],
   "source": [
    "sign_in(email, password)"
   ]
  },
  {
   "cell_type": "code",
   "execution_count": 791,
   "metadata": {},
   "outputs": [],
   "source": [
    "df_og = pd.read_csv('data_scientist_connections.csv')"
   ]
  },
  {
   "cell_type": "code",
   "execution_count": 354,
   "metadata": {},
   "outputs": [],
   "source": [
    "# create list of profile urls to iterate and scrape through individual profiles\n",
    "profile_urls = df_og.fetch[100:200]"
   ]
  },
  {
   "cell_type": "code",
   "execution_count": 355,
   "metadata": {},
   "outputs": [],
   "source": [
    "# create empty lists to hold info scraped\n",
    "first_name_list = []\n",
    "last_name_list = []"
   ]
  },
  {
   "cell_type": "code",
   "execution_count": 477,
   "metadata": {},
   "outputs": [],
   "source": [
    "w = WebDriverWait(driver, 10)"
   ]
  },
  {
   "cell_type": "code",
   "execution_count": null,
   "metadata": {},
   "outputs": [],
   "source": [
    "def get_profile(url):\n",
    "    return driver.get(url)"
   ]
  },
  {
   "cell_type": "markdown",
   "metadata": {},
   "source": [
    "def get_profile_name(url):\n",
    "    driver.get(url)\n",
    "    # pause to allow page time to load\n",
    "    time.sleep(3)\n",
    "    # find name element from profile header portion\n",
    "    name = driver.find_element_by_css_selector(\"li.inline\")\n",
    "    name = name.text.strip()\n",
    "    # split first and last name\n",
    "    name = name.split(' ', 1)\n",
    "    first_name = name[0]\n",
    "    first_name_list.append(first_name)\n",
    "    last_name = name[-1]\n",
    "    last_name_list.append(last_name)\n",
    "    time.sleep(3)"
   ]
  },
  {
   "cell_type": "code",
   "execution_count": 487,
   "metadata": {},
   "outputs": [],
   "source": [
    "def get_name(url):\n",
    "    get_profile(url)\n",
    "    # pause to allow page time to load\n",
    "    time.sleep(3)\n",
    "    profile_header = driver.find_element_by_css_selector(\"ul.pv-top-card--list\")\n",
    "    # find name element from profile header portion\n",
    "    header_details = profile_header.find_elements_by_tag_name(\"li\")\n",
    "    profile_name = header_details[0].get_attribute('innerText')\n",
    "    return profile_name"
   ]
  },
  {
   "cell_type": "code",
   "execution_count": 488,
   "metadata": {},
   "outputs": [
    {
     "name": "stdout",
     "output_type": "stream",
     "text": [
      "Brennan\n",
      "Mathis\n"
     ]
    }
   ],
   "source": [
    "name = get_name(url)\n",
    "name = name.split(' ', 1)\n",
    "first_name = name[0]\n",
    "print(first_name)\n",
    "last_name = name[1]\n",
    "print(last_name)"
   ]
  },
  {
   "cell_type": "code",
   "execution_count": null,
   "metadata": {},
   "outputs": [],
   "source": [
    "def get_email():\n",
    "    # scroll to top of profile where email is located\n",
    "    driver.execute_script(\"window.scrollTo(0, 0);\")\n",
    "    contact_info = driver.find_element_by_css_selector(\n",
    "        'a[data-control-name=\"contact_see_more\"]')\n",
    "    contact_info.click()\n",
    "    w.until(EC.presence_of_element_located((\n",
    "        By.CSS_SELECTOR,'div.pv-profile-section__section-info')))\n",
    "    try:\n",
    "        container =  driver.find_elements_by_css_selector(\n",
    "            'div.pv-contact-info__ci-container')\n",
    "        email =  container[1].get_attribute('innerText')\n",
    "    \n",
    "    except NoSuchElementException:\n",
    "                email = 'nan'\n",
    "    return email"
   ]
  },
  {
   "cell_type": "code",
   "execution_count": 357,
   "metadata": {},
   "outputs": [],
   "source": [
    "for x in profile_urls:\n",
    "    get_profile_name(x)"
   ]
  },
  {
   "cell_type": "code",
   "execution_count": 358,
   "metadata": {},
   "outputs": [],
   "source": [
    "df = pd.DataFrame()\n",
    "df['first'] = firstName\n",
    "df['last'] = lastName\n",
    "\n",
    "df.to_csv('names.csv')"
   ]
  },
  {
   "cell_type": "code",
   "execution_count": 659,
   "metadata": {},
   "outputs": [],
   "source": [
    "job_list2 = []\n",
    "company_list2 = []\n",
    "date_list2 = []\n",
    "loc_list2 = []"
   ]
  },
  {
   "cell_type": "code",
   "execution_count": 638,
   "metadata": {},
   "outputs": [],
   "source": [
    "job_list = []\n",
    "job_list2 = []\n",
    "company_list = []\n",
    "company_list2 = []\n",
    "date_list =[]\n",
    "date_list2 = []\n",
    "loc_list = []\n",
    "loc_list2 = []\n",
    "school_list = []\n",
    "school_list2 = []"
   ]
  },
  {
   "cell_type": "code",
   "execution_count": 453,
   "metadata": {},
   "outputs": [],
   "source": [
    "def goto_background():\n",
    "    w = WebDriverWait(driver, 10)\n",
    "    w.until(EC.presence_of_element_located((By.CSS_SELECTOR,\"div.profile-detail\")))\n",
    "    time.sleep(5)\n",
    "    # background container\n",
    "    background = driver.find_element_by_css_selector(\n",
    "        \"div[id='oc-background-section']\")\n",
    "    #print(\"here\" + str(background))\n",
    "    driver.execute_script(\"arguments[0].scrollIntoView();\", background)\n",
    "    return background\n",
    "    "
   ]
  },
  {
   "cell_type": "code",
   "execution_count": 495,
   "metadata": {},
   "outputs": [],
   "source": [
    "def get_job_title(container):\n",
    "    try:\n",
    "        position = container.find_element_by_tag_name(\n",
    "            'h3').get_attribute('innerText')\n",
    "    except NoSuchElementException:\n",
    "        position = 'nan'\n",
    "    return position"
   ]
  },
  {
   "cell_type": "code",
   "execution_count": 496,
   "metadata": {},
   "outputs": [],
   "source": [
    "def get_company(container):\n",
    "    try:\n",
    "        company = container.find_element_by_tag_name(\n",
    "            'p.pv-entity__secondary-title').get_attribute('innerText')\n",
    "        \n",
    "    except NoSuchElementException:\n",
    "        company = 'nan'\n",
    "    return company"
   ]
  },
  {
   "cell_type": "code",
   "execution_count": 497,
   "metadata": {},
   "outputs": [],
   "source": [
    "def get_work_location(container):\n",
    "    try:\n",
    "        location = container.find_element_by_css_selector(\n",
    "            'h4.pv-entity__location').get_attribute('innerText')\n",
    "            #location = location.split(' ', 1)[1]\n",
    "    except NoSuchElementException:\n",
    "        location = 'nan'\n",
    "    return location"
   ]
  },
  {
   "cell_type": "code",
   "execution_count": 498,
   "metadata": {},
   "outputs": [],
   "source": [
    "def get_dates_employed(container):\n",
    "    try:\n",
    "        dates = container.find_element_by_css_selector(\n",
    "            \"h4.pv-entity__date-range\").get_attribute('innerText').split(' ', 2)[-1]\n",
    "\n",
    "    except NoSuchElementException:\n",
    "        dates = 'nan'\n",
    "    return dates"
   ]
  },
  {
   "cell_type": "code",
   "execution_count": null,
   "metadata": {},
   "outputs": [],
   "source": []
  },
  {
   "cell_type": "code",
   "execution_count": 514,
   "metadata": {},
   "outputs": [],
   "source": [
    "def go_to_element(wait_element_css, select_element):\n",
    "    w = WebDriverWait(driver, 10)\n",
    "    w.until(EC.presence_of_element_located((By.CSS_SELECTOR, wait_element_css)))\n",
    "    time.sleep(5)\n",
    "    # background container\n",
    "    element = driver.find_element_by_css_selector(select_element)\n",
    "    #print(\"here\" + str(background))\n",
    "    driver.execute_script(\"arguments[0].scrollIntoView();\", element)\n",
    "    return element"
   ]
  },
  {
   "cell_type": "code",
   "execution_count": 587,
   "metadata": {},
   "outputs": [],
   "source": [
    "def parse_job_history(job_number):\n",
    "    history = exp.find_elements_by_css_selector(\n",
    "            \"a[data-control-name='background_details_company']\")\n",
    "    details = history[job_number]\n",
    "    pos = get_job_title(details)\n",
    "    company = get_company(details)\n",
    "    location = get_work_location(details)\n",
    "    dates = get_dates_employed(details)\n",
    "    return details"
   ]
  },
  {
   "cell_type": "code",
   "execution_count": 660,
   "metadata": {},
   "outputs": [],
   "source": [
    "def get_experience():\n",
    "    time.sleep(2)\n",
    "    w = WebDriverWait(driver, 10)\n",
    "    w.until(EC.presence_of_element_located((By.CSS_SELECTOR,\"div.profile-detail\")))\n",
    "    time.sleep(5)\n",
    "    # background container\n",
    "    background = driver.find_element_by_css_selector(\n",
    "        \"div[id='oc-background-section']\")\n",
    "    #print(\"here\" + str(background))\n",
    "    driver.execute_script(\"arguments[0].scrollIntoView();\", background)\n",
    "    time.sleep(4)\n",
    "    \n",
    "   \n",
    "    # experience\n",
    "    try:\n",
    "        exp = background.find_element_by_css_selector(\n",
    "            \"section[id='experience-section']\")\n",
    "    \n",
    "    except NoSuchElementException:\n",
    "        pos = 'nan'\n",
    "        company = 'nan'\n",
    "        location = 'nan'\n",
    "        dates = 'nan'\n",
    "        job_list2.append(pos)\n",
    "        company_list2.append(company)\n",
    "        date_list2.append(dates)\n",
    "        loc_list2.append(location) \n",
    "    \n",
    "    \n",
    "    else:\n",
    "        history = exp.find_elements_by_css_selector(\n",
    "                \"a[data-control-name='background_details_company']\")\n",
    "        details = history[1]\n",
    "        pos = get_job_title(details)\n",
    "        company = get_company(details)\n",
    "        location = get_work_location(details)\n",
    "        dates = get_dates_employed(details)\n",
    "        job_list2.append(pos)\n",
    "        company_list2.append(company)\n",
    "        date_list2.append(dates)\n",
    "        loc_list2.append(location)\n",
    "    \n",
    "    driver.execute_script(\"window.scrollTo(0, 0);\")\n",
    "    time.sleep(2)\n",
    "#     time.sleep(2)\n",
    "#     history = exp.find_elements_by_css_selector(\n",
    "#         \"a[data-control-name='background_details_company']\")\n",
    "#     details = history[0]\n",
    "    \n",
    "#     try:\n",
    "#         pos = details.find_element_by_tag_name(\n",
    "#             'h3').get_attribute('outerText')\n",
    "#     except NoSuchElementException:\n",
    "#         pos = 'nan'\n",
    "#         #print(pos)\n",
    "#     time.sleep(2)\n",
    "#     try:\n",
    "#         company = details.find_element_by_tag_name(\n",
    "#             'p.pv-entity__secondary-title').get_attribute('innerText')\n",
    "        \n",
    "#     except NoSuchElementException:\n",
    "#         company = 'nan'\n",
    "#     try:\n",
    "#         location = details.find_element_by_css_selector(\n",
    "#             'h4.pv-entity__location').get_attribute('innerText')\n",
    "#             #location = location.split(' ', 1)[1]\n",
    "#     except NoSuchElementException:\n",
    "#         location = 'nan'\n",
    "#         #print(location)\n",
    "#     try:\n",
    "#         dates = details.find_element_by_css_selector(\n",
    "#             \"h4.pv-entity__date-range\").get_attribute('innerText').split(' ', 2)[-1]\n",
    "\n",
    "#     except NoSuchElementException:\n",
    "#             dates = 'nan'\n",
    "    \n",
    "#     job_list.append(pos)\n",
    "#     company_list.append(company)\n",
    "#     date_list.append(dates)\n",
    "#     loc_list.append(location)\n",
    "    \n",
    "#     if (len(history)) >=2:\n",
    "#         details = history[1]\n",
    "#         try:\n",
    "#             pos = details.find_element_by_tag_name(\n",
    "#                 'h3').get_attribute('outerText')\n",
    "#         except NoSuchElementException:\n",
    "#             pos = 'nan'\n",
    "#             #print(pos)\n",
    "#         time.sleep(2)\n",
    "#         try:\n",
    "#             company = details.find_element_by_tag_name(\n",
    "#                 'p.pv-entity__secondary-title').get_attribute('innerText')\n",
    "\n",
    "#         except NoSuchElementException:\n",
    "#             company = 'nan'\n",
    "#         try:\n",
    "#             location = details.find_element_by_css_selector(\n",
    "#                 'h4.pv-entity__location').get_attribute('innerText')\n",
    "#                 #location = location.split(' ', 1)[1]\n",
    "#         except NoSuchElementException:\n",
    "#             location = 'nan'\n",
    "#             #print(location)\n",
    "#         try:\n",
    "#             dates = details.find_element_by_css_selector(\n",
    "#                 \"h4.pv-entity__date-range\").get_attribute('innerText').split(' ', 2)[-1]\n",
    "\n",
    "#         except NoSuchElementException:\n",
    "#                 dates = 'nan'\n",
    "\n",
    "#     if (len(history)) < 2:\n",
    "#         pos = 'nan'\n",
    "#         company  ='nan'\n",
    "#         location  ='nan'\n",
    "#         dates = 'nan'\n",
    "        \n",
    "#     job_list2.append(pos)\n",
    "#     company_list2.append(company)\n",
    "#     date_list2.append(dates)\n",
    "#     loc_list2.append(location)\n",
    "#     driver.execute_script(\"window.scrollTo(0, document.body.scrollHeight);\")    \n",
    "    \n",
    "#     time.sleep(2)\n",
    "\n",
    "    "
   ]
  },
  {
   "cell_type": "code",
   "execution_count": 636,
   "metadata": {},
   "outputs": [
    {
     "data": {
      "text/plain": [
       "(100, 8)"
      ]
     },
     "execution_count": 636,
     "metadata": {},
     "output_type": "execute_result"
    }
   ],
   "source": [
    "df.shape"
   ]
  },
  {
   "cell_type": "code",
   "execution_count": 504,
   "metadata": {},
   "outputs": [],
   "source": [
    "def get_school_name(container):\n",
    "    school_name = container.find_element_by_tag_name(\n",
    "        'h3').get_attribute('innerText')\n",
    "    return school_name"
   ]
  },
  {
   "cell_type": "code",
   "execution_count": 512,
   "metadata": {},
   "outputs": [],
   "source": [
    "def get_education():\n",
    "    # wait for element to proceed\n",
    "    w = WebDriverWait(driver, 10)\n",
    "    w.until(EC.presence_of_element_located((By.CSS_SELECTOR,\"div.profile-detail\")))\n",
    "    # background container\n",
    "    background = driver.find_element_by_css_selector(\n",
    "        \"div[id='oc-background-section']\")\n",
    "    #print(\"here\" + str(background))\n",
    "    driver.execute_script(\"arguments[0].scrollIntoView();\", background)\n",
    "    time.sleep(8)\n",
    "    # locate education section\n",
    "    try:\n",
    "        education = background.find_element_by_css_selector(\n",
    "            \"section[id='education-section']\")\n",
    "        time.sleep(5)\n",
    "        schools = education.find_elements_by_css_selector(\n",
    "            \"a[data-control-name='background_details_school']\")\n",
    "        school = schools[0]\n",
    "        school_name = get_school_name(school)\n",
    "    except NoSuchElementException:\n",
    "        school_name =  'nan'\n",
    "    school_list.append(school_name)\n",
    "    #print(school.text)\n",
    "    if (len(schools)) >=2:\n",
    "        school = schools[1]\n",
    "        school_name = get_school_name(school)\n",
    "    else:\n",
    "        school_name = 'nan'\n",
    "    school_list2.append(school_name)\n",
    "    driver.execute_script(\"window.scrollTo(0, document.body.scrollHeight);\")\n",
    "    time.sleep(5)\n",
    "    "
   ]
  },
  {
   "cell_type": "code",
   "execution_count": 658,
   "metadata": {},
   "outputs": [
    {
     "data": {
      "text/plain": [
       "['FDA Full-time',\n",
       " 'SAS',\n",
       " 'NOAA Center for Atmospheric Science, Howard University Full-time',\n",
       " 'Chartboost',\n",
       " 'NewtonX',\n",
       " 'Khoury College of Computer Sciences',\n",
       " 'Qeexo Full-time',\n",
       " 'Ontario Institute for Cancer Research',\n",
       " 'NueMD',\n",
       " 'Yahoo',\n",
       " 'Arista Networks',\n",
       " 'Synchrony',\n",
       " 'KPMG US',\n",
       " 'YouTube',\n",
       " 'nan',\n",
       " 'PayPal Internship',\n",
       " 'nan',\n",
       " 'Thinkful',\n",
       " 'Data Vizardry Self-employed']"
      ]
     },
     "execution_count": 658,
     "metadata": {},
     "output_type": "execute_result"
    }
   ],
   "source": [
    "company_list2"
   ]
  },
  {
   "cell_type": "code",
   "execution_count": 661,
   "metadata": {},
   "outputs": [
    {
     "name": "stdout",
     "output_type": "stream",
     "text": [
      "Wall time: 0 ns\n"
     ]
    },
    {
     "ename": "WebDriverException",
     "evalue": "Message: chrome not reachable\n  (Session info: chrome=87.0.4280.141)\n",
     "output_type": "error",
     "traceback": [
      "\u001b[1;31m---------------------------------------------------------------------------\u001b[0m",
      "\u001b[1;31mWebDriverException\u001b[0m                        Traceback (most recent call last)",
      "\u001b[1;32m<ipython-input-661-9e106aa199d3>\u001b[0m in \u001b[0;36m<module>\u001b[1;34m\u001b[0m\n\u001b[0;32m      1\u001b[0m \u001b[0mget_ipython\u001b[0m\u001b[1;33m(\u001b[0m\u001b[1;33m)\u001b[0m\u001b[1;33m.\u001b[0m\u001b[0mrun_line_magic\u001b[0m\u001b[1;33m(\u001b[0m\u001b[1;34m'time'\u001b[0m\u001b[1;33m,\u001b[0m \u001b[1;34m''\u001b[0m\u001b[1;33m)\u001b[0m\u001b[1;33m\u001b[0m\u001b[1;33m\u001b[0m\u001b[0m\n\u001b[0;32m      2\u001b[0m \u001b[1;32mfor\u001b[0m \u001b[0mprofile\u001b[0m \u001b[1;32min\u001b[0m \u001b[0mprofile_urls\u001b[0m\u001b[1;33m:\u001b[0m\u001b[1;33m\u001b[0m\u001b[1;33m\u001b[0m\u001b[0m\n\u001b[1;32m----> 3\u001b[1;33m     \u001b[0mget_profile\u001b[0m\u001b[1;33m(\u001b[0m\u001b[0mprofile\u001b[0m\u001b[1;33m)\u001b[0m\u001b[1;33m\u001b[0m\u001b[1;33m\u001b[0m\u001b[0m\n\u001b[0m\u001b[0;32m      4\u001b[0m     \u001b[0mget_experience\u001b[0m\u001b[1;33m(\u001b[0m\u001b[1;33m)\u001b[0m\u001b[1;33m\u001b[0m\u001b[1;33m\u001b[0m\u001b[0m\n",
      "\u001b[1;32m<ipython-input-388-91ee68125190>\u001b[0m in \u001b[0;36mget_profile\u001b[1;34m(url)\u001b[0m\n\u001b[0;32m      1\u001b[0m \u001b[1;32mdef\u001b[0m \u001b[0mget_profile\u001b[0m\u001b[1;33m(\u001b[0m\u001b[0murl\u001b[0m\u001b[1;33m)\u001b[0m\u001b[1;33m:\u001b[0m\u001b[1;33m\u001b[0m\u001b[1;33m\u001b[0m\u001b[0m\n\u001b[1;32m----> 2\u001b[1;33m     \u001b[1;32mreturn\u001b[0m \u001b[0mdriver\u001b[0m\u001b[1;33m.\u001b[0m\u001b[0mget\u001b[0m\u001b[1;33m(\u001b[0m\u001b[0murl\u001b[0m\u001b[1;33m)\u001b[0m\u001b[1;33m\u001b[0m\u001b[1;33m\u001b[0m\u001b[0m\n\u001b[0m",
      "\u001b[1;32m~\\anaconda3\\lib\\site-packages\\selenium\\webdriver\\remote\\webdriver.py\u001b[0m in \u001b[0;36mget\u001b[1;34m(self, url)\u001b[0m\n\u001b[0;32m    331\u001b[0m         \u001b[0mLoads\u001b[0m \u001b[0ma\u001b[0m \u001b[0mweb\u001b[0m \u001b[0mpage\u001b[0m \u001b[1;32min\u001b[0m \u001b[0mthe\u001b[0m \u001b[0mcurrent\u001b[0m \u001b[0mbrowser\u001b[0m \u001b[0msession\u001b[0m\u001b[1;33m.\u001b[0m\u001b[1;33m\u001b[0m\u001b[1;33m\u001b[0m\u001b[0m\n\u001b[0;32m    332\u001b[0m         \"\"\"\n\u001b[1;32m--> 333\u001b[1;33m         \u001b[0mself\u001b[0m\u001b[1;33m.\u001b[0m\u001b[0mexecute\u001b[0m\u001b[1;33m(\u001b[0m\u001b[0mCommand\u001b[0m\u001b[1;33m.\u001b[0m\u001b[0mGET\u001b[0m\u001b[1;33m,\u001b[0m \u001b[1;33m{\u001b[0m\u001b[1;34m'url'\u001b[0m\u001b[1;33m:\u001b[0m \u001b[0murl\u001b[0m\u001b[1;33m}\u001b[0m\u001b[1;33m)\u001b[0m\u001b[1;33m\u001b[0m\u001b[1;33m\u001b[0m\u001b[0m\n\u001b[0m\u001b[0;32m    334\u001b[0m \u001b[1;33m\u001b[0m\u001b[0m\n\u001b[0;32m    335\u001b[0m     \u001b[1;33m@\u001b[0m\u001b[0mproperty\u001b[0m\u001b[1;33m\u001b[0m\u001b[1;33m\u001b[0m\u001b[0m\n",
      "\u001b[1;32m~\\anaconda3\\lib\\site-packages\\selenium\\webdriver\\remote\\webdriver.py\u001b[0m in \u001b[0;36mexecute\u001b[1;34m(self, driver_command, params)\u001b[0m\n\u001b[0;32m    319\u001b[0m         \u001b[0mresponse\u001b[0m \u001b[1;33m=\u001b[0m \u001b[0mself\u001b[0m\u001b[1;33m.\u001b[0m\u001b[0mcommand_executor\u001b[0m\u001b[1;33m.\u001b[0m\u001b[0mexecute\u001b[0m\u001b[1;33m(\u001b[0m\u001b[0mdriver_command\u001b[0m\u001b[1;33m,\u001b[0m \u001b[0mparams\u001b[0m\u001b[1;33m)\u001b[0m\u001b[1;33m\u001b[0m\u001b[1;33m\u001b[0m\u001b[0m\n\u001b[0;32m    320\u001b[0m         \u001b[1;32mif\u001b[0m \u001b[0mresponse\u001b[0m\u001b[1;33m:\u001b[0m\u001b[1;33m\u001b[0m\u001b[1;33m\u001b[0m\u001b[0m\n\u001b[1;32m--> 321\u001b[1;33m             \u001b[0mself\u001b[0m\u001b[1;33m.\u001b[0m\u001b[0merror_handler\u001b[0m\u001b[1;33m.\u001b[0m\u001b[0mcheck_response\u001b[0m\u001b[1;33m(\u001b[0m\u001b[0mresponse\u001b[0m\u001b[1;33m)\u001b[0m\u001b[1;33m\u001b[0m\u001b[1;33m\u001b[0m\u001b[0m\n\u001b[0m\u001b[0;32m    322\u001b[0m             response['value'] = self._unwrap_value(\n\u001b[0;32m    323\u001b[0m                 response.get('value', None))\n",
      "\u001b[1;32m~\\anaconda3\\lib\\site-packages\\selenium\\webdriver\\remote\\errorhandler.py\u001b[0m in \u001b[0;36mcheck_response\u001b[1;34m(self, response)\u001b[0m\n\u001b[0;32m    240\u001b[0m                 \u001b[0malert_text\u001b[0m \u001b[1;33m=\u001b[0m \u001b[0mvalue\u001b[0m\u001b[1;33m[\u001b[0m\u001b[1;34m'alert'\u001b[0m\u001b[1;33m]\u001b[0m\u001b[1;33m.\u001b[0m\u001b[0mget\u001b[0m\u001b[1;33m(\u001b[0m\u001b[1;34m'text'\u001b[0m\u001b[1;33m)\u001b[0m\u001b[1;33m\u001b[0m\u001b[1;33m\u001b[0m\u001b[0m\n\u001b[0;32m    241\u001b[0m             \u001b[1;32mraise\u001b[0m \u001b[0mexception_class\u001b[0m\u001b[1;33m(\u001b[0m\u001b[0mmessage\u001b[0m\u001b[1;33m,\u001b[0m \u001b[0mscreen\u001b[0m\u001b[1;33m,\u001b[0m \u001b[0mstacktrace\u001b[0m\u001b[1;33m,\u001b[0m \u001b[0malert_text\u001b[0m\u001b[1;33m)\u001b[0m\u001b[1;33m\u001b[0m\u001b[1;33m\u001b[0m\u001b[0m\n\u001b[1;32m--> 242\u001b[1;33m         \u001b[1;32mraise\u001b[0m \u001b[0mexception_class\u001b[0m\u001b[1;33m(\u001b[0m\u001b[0mmessage\u001b[0m\u001b[1;33m,\u001b[0m \u001b[0mscreen\u001b[0m\u001b[1;33m,\u001b[0m \u001b[0mstacktrace\u001b[0m\u001b[1;33m)\u001b[0m\u001b[1;33m\u001b[0m\u001b[1;33m\u001b[0m\u001b[0m\n\u001b[0m\u001b[0;32m    243\u001b[0m \u001b[1;33m\u001b[0m\u001b[0m\n\u001b[0;32m    244\u001b[0m     \u001b[1;32mdef\u001b[0m \u001b[0m_value_or_default\u001b[0m\u001b[1;33m(\u001b[0m\u001b[0mself\u001b[0m\u001b[1;33m,\u001b[0m \u001b[0mobj\u001b[0m\u001b[1;33m,\u001b[0m \u001b[0mkey\u001b[0m\u001b[1;33m,\u001b[0m \u001b[0mdefault\u001b[0m\u001b[1;33m)\u001b[0m\u001b[1;33m:\u001b[0m\u001b[1;33m\u001b[0m\u001b[1;33m\u001b[0m\u001b[0m\n",
      "\u001b[1;31mWebDriverException\u001b[0m: Message: chrome not reachable\n  (Session info: chrome=87.0.4280.141)\n"
     ]
    }
   ],
   "source": [
    "%time\n",
    "for profile in profile_urls:\n",
    "    get_profile(profile)\n",
    "    get_experience()"
   ]
  },
  {
   "cell_type": "code",
   "execution_count": 628,
   "metadata": {},
   "outputs": [
    {
     "data": {
      "text/plain": [
       "0"
      ]
     },
     "execution_count": 628,
     "metadata": {},
     "output_type": "execute_result"
    }
   ],
   "source": [
    "len(job_list)"
   ]
  },
  {
   "cell_type": "code",
   "execution_count": 513,
   "metadata": {},
   "outputs": [
    {
     "name": "stdout",
     "output_type": "stream",
     "text": [
      "Wall time: 0 ns\n"
     ]
    }
   ],
   "source": [
    "%time\n",
    "for profile in profile_urls:\n",
    "    get_profile(profile)\n",
    "    get_education()"
   ]
  },
  {
   "cell_type": "code",
   "execution_count": 624,
   "metadata": {},
   "outputs": [
    {
     "data": {
      "text/plain": [
       "100"
      ]
     },
     "execution_count": 624,
     "metadata": {},
     "output_type": "execute_result"
    }
   ],
   "source": [
    "len(profile_urls)"
   ]
  },
  {
   "cell_type": "code",
   "execution_count": 633,
   "metadata": {},
   "outputs": [],
   "source": [
    "df['first'] = firstName\n",
    "df['last'] = lastName\n",
    "df['job1_title'] = job_list\n",
    "df['job1_company'] = company_list\n",
    "df['job1_location'] = loc_list\n",
    "df['job1_dates'] = date_list\n",
    "df['job2_title'] = job_list2\n",
    "df['job2_company'] = company_list2\n",
    "df['job2_location'] = loc_list2\n",
    "df['job2_dates'] = date_list2\n",
    "df['school1'] = school_list\n",
    "df['school2'] = school_list2"
   ]
  },
  {
   "cell_type": "code",
   "execution_count": 634,
   "metadata": {},
   "outputs": [
    {
     "data": {
      "text/html": [
       "<div>\n",
       "<style scoped>\n",
       "    .dataframe tbody tr th:only-of-type {\n",
       "        vertical-align: middle;\n",
       "    }\n",
       "\n",
       "    .dataframe tbody tr th {\n",
       "        vertical-align: top;\n",
       "    }\n",
       "\n",
       "    .dataframe thead th {\n",
       "        text-align: right;\n",
       "    }\n",
       "</style>\n",
       "<table border=\"1\" class=\"dataframe\">\n",
       "  <thead>\n",
       "    <tr style=\"text-align: right;\">\n",
       "      <th></th>\n",
       "      <th>first</th>\n",
       "      <th>last</th>\n",
       "      <th>job1_title</th>\n",
       "      <th>job1_company</th>\n",
       "      <th>job1_location</th>\n",
       "      <th>job1_dates</th>\n",
       "      <th>school1</th>\n",
       "      <th>school2</th>\n",
       "    </tr>\n",
       "  </thead>\n",
       "  <tbody>\n",
       "    <tr>\n",
       "      <th>0</th>\n",
       "      <td>Mengxing</td>\n",
       "      <td>Li</td>\n",
       "      <td>Senior Data Scientist</td>\n",
       "      <td>Insightin | Health Full-time</td>\n",
       "      <td>Location\\nWashington DC-Baltimore Area</td>\n",
       "      <td>2020 – Present</td>\n",
       "      <td>University of Nebraska-Lincoln</td>\n",
       "      <td>University of Nebraska-Lincoln</td>\n",
       "    </tr>\n",
       "    <tr>\n",
       "      <th>1</th>\n",
       "      <td>Wenhao</td>\n",
       "      <td>Hu</td>\n",
       "      <td>Data Scientist</td>\n",
       "      <td>Google</td>\n",
       "      <td>Location\\nMountain View, California</td>\n",
       "      <td>2019 – Present</td>\n",
       "      <td>North Carolina State University</td>\n",
       "      <td>Sun Yat-Sen University</td>\n",
       "    </tr>\n",
       "    <tr>\n",
       "      <th>2</th>\n",
       "      <td>Dereje</td>\n",
       "      <td>Workneh, PhD</td>\n",
       "      <td>Data Scientist</td>\n",
       "      <td>General Assembly Full-time</td>\n",
       "      <td>Location\\nWashington, District of Columbia, Un...</td>\n",
       "      <td>2020 – Present</td>\n",
       "      <td>Addis Ababa University</td>\n",
       "      <td>Debre Berhan University</td>\n",
       "    </tr>\n",
       "    <tr>\n",
       "      <th>3</th>\n",
       "      <td>Faezeh</td>\n",
       "      <td>Salehi</td>\n",
       "      <td>Senior Data Scientist</td>\n",
       "      <td>Adobe</td>\n",
       "      <td>nan</td>\n",
       "      <td>2018 – Present</td>\n",
       "      <td>University of California, Irvine</td>\n",
       "      <td>University of California, Irvine</td>\n",
       "    </tr>\n",
       "    <tr>\n",
       "      <th>4</th>\n",
       "      <td>Kartik</td>\n",
       "      <td>Nagre</td>\n",
       "      <td>Data Scientist</td>\n",
       "      <td>Tesla</td>\n",
       "      <td>Location\\nSan Francisco Bay Area</td>\n",
       "      <td>2020 – Present</td>\n",
       "      <td>Syracuse University</td>\n",
       "      <td>Pune Institute of Computer Technology</td>\n",
       "    </tr>\n",
       "    <tr>\n",
       "      <th>...</th>\n",
       "      <td>...</td>\n",
       "      <td>...</td>\n",
       "      <td>...</td>\n",
       "      <td>...</td>\n",
       "      <td>...</td>\n",
       "      <td>...</td>\n",
       "      <td>...</td>\n",
       "      <td>...</td>\n",
       "    </tr>\n",
       "    <tr>\n",
       "      <th>95</th>\n",
       "      <td>Nicholas</td>\n",
       "      <td>Sanders</td>\n",
       "      <td>Data Scientist</td>\n",
       "      <td>The National Institutes of Health Contract</td>\n",
       "      <td>Location\\nBethesda, Maryland, United States</td>\n",
       "      <td>2020 – Present</td>\n",
       "      <td>The University of British Columbia</td>\n",
       "      <td>Western Washington University</td>\n",
       "    </tr>\n",
       "    <tr>\n",
       "      <th>96</th>\n",
       "      <td>Yilei</td>\n",
       "      <td>Li</td>\n",
       "      <td>Data Scientist</td>\n",
       "      <td>Lyft</td>\n",
       "      <td>Location\\nSan Francisco Bay Area</td>\n",
       "      <td>2018 – Present</td>\n",
       "      <td>Northwestern University</td>\n",
       "      <td>Peking University</td>\n",
       "    </tr>\n",
       "    <tr>\n",
       "      <th>97</th>\n",
       "      <td>Xinyi</td>\n",
       "      <td>(Cindy) Zhang</td>\n",
       "      <td>Data Scientist</td>\n",
       "      <td>Pinterest Full-time</td>\n",
       "      <td>Location\\nSan Francisco Bay Area</td>\n",
       "      <td>2020 – Present</td>\n",
       "      <td>University of California, Berkeley</td>\n",
       "      <td>Renmin University of China</td>\n",
       "    </tr>\n",
       "    <tr>\n",
       "      <th>98</th>\n",
       "      <td>Miao</td>\n",
       "      <td>Lu</td>\n",
       "      <td>Data Scientist</td>\n",
       "      <td>Facebook</td>\n",
       "      <td>Location\\nMenlo Park</td>\n",
       "      <td>2017 – Present</td>\n",
       "      <td>Zhejiang University</td>\n",
       "      <td>University of San Francisco</td>\n",
       "    </tr>\n",
       "    <tr>\n",
       "      <th>99</th>\n",
       "      <td>Abera</td>\n",
       "      <td>Ayalew Muhamed</td>\n",
       "      <td>Principal Investigator, Data Scientist</td>\n",
       "      <td>Luma Consulting, LLC Contract</td>\n",
       "      <td>Location\\nGreater Seattle Area</td>\n",
       "      <td>2019 – Present</td>\n",
       "      <td>University of Kent</td>\n",
       "      <td>International Centre for Theoretical Physics (...</td>\n",
       "    </tr>\n",
       "  </tbody>\n",
       "</table>\n",
       "<p>100 rows × 8 columns</p>\n",
       "</div>"
      ],
      "text/plain": [
       "       first            last                              job1_title  \\\n",
       "0   Mengxing              Li                   Senior Data Scientist   \n",
       "1     Wenhao              Hu                          Data Scientist   \n",
       "2     Dereje    Workneh, PhD                          Data Scientist   \n",
       "3     Faezeh          Salehi                   Senior Data Scientist   \n",
       "4     Kartik           Nagre                          Data Scientist   \n",
       "..       ...             ...                                     ...   \n",
       "95  Nicholas         Sanders                          Data Scientist   \n",
       "96     Yilei              Li                          Data Scientist   \n",
       "97     Xinyi   (Cindy) Zhang                          Data Scientist   \n",
       "98      Miao              Lu                          Data Scientist   \n",
       "99     Abera  Ayalew Muhamed  Principal Investigator, Data Scientist   \n",
       "\n",
       "                                  job1_company  \\\n",
       "0                 Insightin | Health Full-time   \n",
       "1                                       Google   \n",
       "2                   General Assembly Full-time   \n",
       "3                                        Adobe   \n",
       "4                                        Tesla   \n",
       "..                                         ...   \n",
       "95  The National Institutes of Health Contract   \n",
       "96                                        Lyft   \n",
       "97                         Pinterest Full-time   \n",
       "98                                    Facebook   \n",
       "99               Luma Consulting, LLC Contract   \n",
       "\n",
       "                                        job1_location      job1_dates  \\\n",
       "0              Location\\nWashington DC-Baltimore Area  2020 – Present   \n",
       "1                 Location\\nMountain View, California  2019 – Present   \n",
       "2   Location\\nWashington, District of Columbia, Un...  2020 – Present   \n",
       "3                                                 nan  2018 – Present   \n",
       "4                    Location\\nSan Francisco Bay Area  2020 – Present   \n",
       "..                                                ...             ...   \n",
       "95        Location\\nBethesda, Maryland, United States  2020 – Present   \n",
       "96                   Location\\nSan Francisco Bay Area  2018 – Present   \n",
       "97                   Location\\nSan Francisco Bay Area  2020 – Present   \n",
       "98                               Location\\nMenlo Park  2017 – Present   \n",
       "99                     Location\\nGreater Seattle Area  2019 – Present   \n",
       "\n",
       "                               school1  \\\n",
       "0       University of Nebraska-Lincoln   \n",
       "1      North Carolina State University   \n",
       "2               Addis Ababa University   \n",
       "3     University of California, Irvine   \n",
       "4                  Syracuse University   \n",
       "..                                 ...   \n",
       "95  The University of British Columbia   \n",
       "96             Northwestern University   \n",
       "97  University of California, Berkeley   \n",
       "98                 Zhejiang University   \n",
       "99                  University of Kent   \n",
       "\n",
       "                                              school2  \n",
       "0                      University of Nebraska-Lincoln  \n",
       "1                              Sun Yat-Sen University  \n",
       "2                             Debre Berhan University  \n",
       "3                    University of California, Irvine  \n",
       "4               Pune Institute of Computer Technology  \n",
       "..                                                ...  \n",
       "95                      Western Washington University  \n",
       "96                                  Peking University  \n",
       "97                         Renmin University of China  \n",
       "98                        University of San Francisco  \n",
       "99  International Centre for Theoretical Physics (...  \n",
       "\n",
       "[100 rows x 8 columns]"
      ]
     },
     "execution_count": 634,
     "metadata": {},
     "output_type": "execute_result"
    }
   ],
   "source": [
    "df"
   ]
  },
  {
   "cell_type": "code",
   "execution_count": 635,
   "metadata": {},
   "outputs": [],
   "source": [
    "df.to_csv('connections200.csv')"
   ]
  },
  {
   "cell_type": "code",
   "execution_count": null,
   "metadata": {},
   "outputs": [],
   "source": [
    "email_list = []"
   ]
  },
  {
   "cell_type": "code",
   "execution_count": 501,
   "metadata": {},
   "outputs": [],
   "source": [
    "def get_email():\n",
    "    # scroll to top of profile where email is located\n",
    "    driver.execute_script(\"window.scrollTo(0, 0);\")\n",
    "    contact_button = driver.find_element_by_css_selector(\n",
    "        'a[data-control-name=\"contact_see_more\"]')\n",
    "    contact_button.click()\n",
    "    w.until(EC.presence_of_element_located((\n",
    "        By.CSS_SELECTOR,'div.pv-profile-section__section-info')))\n",
    "    try:\n",
    "        container =  driver.find_elements_by_css_selector(\n",
    "            'div.pv-contact-info__ci-container')\n",
    "        email =  container[1].get_attribute('innerText')\n",
    "    \n",
    "    except NoSuchElementException:\n",
    "        email = 'nan'\n",
    "    return email          "
   ]
  },
  {
   "cell_type": "code",
   "execution_count": null,
   "metadata": {},
   "outputs": [],
   "source": [
    "email_list.append(email)"
   ]
  },
  {
   "cell_type": "code",
   "execution_count": null,
   "metadata": {},
   "outputs": [],
   "source": [
    "driver.current_url"
   ]
  },
  {
   "cell_type": "code",
   "execution_count": null,
   "metadata": {},
   "outputs": [],
   "source": []
  },
  {
   "cell_type": "code",
   "execution_count": null,
   "metadata": {},
   "outputs": [],
   "source": [
    "driver.forward()\n",
    "driver.back()"
   ]
  },
  {
   "cell_type": "code",
   "execution_count": null,
   "metadata": {},
   "outputs": [],
   "source": [
    "driver.quit()"
   ]
  },
  {
   "cell_type": "code",
   "execution_count": null,
   "metadata": {},
   "outputs": [],
   "source": []
  },
  {
   "cell_type": "code",
   "execution_count": null,
   "metadata": {},
   "outputs": [],
   "source": []
  }
 ],
 "metadata": {
  "kernelspec": {
   "display_name": "Python 3",
   "language": "python",
   "name": "python3"
  },
  "language_info": {
   "codemirror_mode": {
    "name": "ipython",
    "version": 3
   },
   "file_extension": ".py",
   "mimetype": "text/x-python",
   "name": "python",
   "nbconvert_exporter": "python",
   "pygments_lexer": "ipython3",
   "version": "3.8.5"
  }
 },
 "nbformat": 4,
 "nbformat_minor": 4
}
