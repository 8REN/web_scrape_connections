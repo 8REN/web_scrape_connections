{
 "cells": [
  {
   "cell_type": "code",
   "execution_count": 2,
   "metadata": {},
   "outputs": [],
   "source": [
    "from selenium import webdriver\n",
    "from selenium.webdriver.common.keys import Keys\n",
    "from selenium.webdriver.support.ui import Select\n",
    "from selenium.webdriver.support.ui import WebDriverWait\n",
    "from selenium.webdriver.support.ui import WebDriverWait\n",
    "from selenium.webdriver.support import expected_conditions as EC\n",
    "from selenium.webdriver.common.by import By\n",
    "from selenium.webdriver import ActionChains\n",
    "from selenium.webdriver.common.desired_capabilities import DesiredCapabilities\n",
    "from selenium.webdriver.chrome.options import Options"
   ]
  },
  {
   "cell_type": "code",
   "execution_count": 3,
   "metadata": {},
   "outputs": [],
   "source": [
    "import time\n",
    "import csv\n",
    "import numpy as np\n",
    "import pandas as pd\n",
    "import requests\n",
    "import re\n",
    "import bs4\n",
    "from bs4 import BeautifulSoup as bs\n",
    "from IPython.core.display import HTML"
   ]
  },
  {
   "cell_type": "markdown",
   "metadata": {},
   "source": [
    "# create webdriver instance"
   ]
  },
  {
   "cell_type": "code",
   "execution_count": 21,
   "metadata": {},
   "outputs": [],
   "source": [
    "PATH = \"C:\\Program Files (x86)\\chromedriver.exe\"\n",
    "driver = webdriver.Chrome(PATH)"
   ]
  },
  {
   "cell_type": "markdown",
   "metadata": {},
   "source": [
    "# automate login "
   ]
  },
  {
   "cell_type": "code",
   "execution_count": 22,
   "metadata": {},
   "outputs": [],
   "source": [
    "user = \"mathis.brennan@gmail.com\"\n",
    "pw = \"Shitballs1!\""
   ]
  },
  {
   "cell_type": "code",
   "execution_count": 7,
   "metadata": {},
   "outputs": [],
   "source": [
    "def link_log(email, password):\n",
    "    driver.get(\"https://www.linkedin.com/\")\n",
    "    time.sleep(3)\n",
    "    driver.find_element_by_id(\"session_key\").send_keys(email)\n",
    "    driver.find_element_by_id(\"session_password\").send_keys(password)\n",
    "    driver.find_element_by_class_name(\"sign-in-form__submit-button\").click()\n"
   ]
  },
  {
   "cell_type": "code",
   "execution_count": 23,
   "metadata": {},
   "outputs": [],
   "source": [
    "link_log(user, pw)"
   ]
  },
  {
   "cell_type": "markdown",
   "metadata": {},
   "source": [
    "# automate search"
   ]
  },
  {
   "cell_type": "code",
   "execution_count": 17,
   "metadata": {},
   "outputs": [],
   "source": [
    "# linkedin url /pathName\n",
    "urls = []\n",
    "# name of connection\n",
    "names = []\n",
    "#primary details\n",
    "p_details = []\n",
    "#secondary details\n",
    "s_details = []"
   ]
  },
  {
   "cell_type": "code",
   "execution_count": 9,
   "metadata": {},
   "outputs": [],
   "source": [
    "s_term = 'machine learning'\n",
    "s_type = 'people'"
   ]
  },
  {
   "cell_type": "code",
   "execution_count": 19,
   "metadata": {},
   "outputs": [],
   "source": [
    "def li_search(search_term, search_type):\n",
    "    driver.find_element_by_id(\"global-nav-search\").click()\n",
    "    driver.find_element_by_css_selector(\"input.search-global-typeahead__input\").send_keys(search_term)\n",
    "    driver.find_element_by_css_selector(\"input.search-global-typeahead__input\").send_keys(Keys.RETURN)\n",
    "    driver.implicitly_wait(10)\n",
    "    driver.execute_script(\"window.scrollTo(0, document.body.scrollHeight);\")\n",
    "    button = driver.find_element_by_link_text(f\"See all {search_type} results\")\n",
    "    driver.execute_script('arguments[0].click();',button)\n",
    "    driver.implicitly_wait(5)\n",
    "    page_number = 1\n",
    "    current_page_url = driver.current_url\n",
    "    print(\"current url is: \" + current_page_url)\n",
    "    while page_number < 10:\n",
    "        print(\"Processing page: \" + str(page_number))\n",
    "        links = driver.find_elements_by_css_selector(\"span.entity-result__title a.app-aware-link\")\n",
    "        for link in links:\n",
    "            name = str(link.get_attribute(\"innerText\")).split('\\n')\n",
    "            names.append(name[0])\n",
    "            profile_path = (str(link.get_attribute(\"pathname\")))\n",
    "            urls.append(profile_path)\n",
    "        primary_deets = driver.find_elements_by_css_selector(\"div.entity-result__primary-subtitle.t-14.t-black\")\n",
    "        secondary_deets = driver.find_elements_by_css_selector('div.entity-result__secondary-subtitle.t-14')\n",
    "        for x in primary_deets:\n",
    "            desc = x.get_attribute(\"innerText\")\n",
    "            p_details.append(desc)\n",
    "        for x in secondary_deets:\n",
    "            loc = x.get_attribute(\"innerText\")\n",
    "            s_details.append(loc)\n",
    "        page_number+=1\n",
    "        next_page_url = current_page_url + \"&page=\" + str(page_number)\n",
    "        print(\"attempting to navigate to: \" + next_page_url)\n",
    "        driver.get(next_page_url) \n",
    "        driver.implicitly_wait(5)\n",
    "    driver.quit()"
   ]
  },
  {
   "cell_type": "code",
   "execution_count": 20,
   "metadata": {},
   "outputs": [
    {
     "name": "stdout",
     "output_type": "stream",
     "text": [
      "current url is: https://www.linkedin.com/search/results/all/?keywords=machine%20learningmachine%20learning&origin=GLOBAL_SEARCH_HEADER\n",
      "Processing page: 1\n",
      "attempting to navigate to: https://www.linkedin.com/search/results/all/?keywords=machine%20learningmachine%20learning&origin=GLOBAL_SEARCH_HEADER&page=2\n",
      "Processing page: 2\n",
      "attempting to navigate to: https://www.linkedin.com/search/results/all/?keywords=machine%20learningmachine%20learning&origin=GLOBAL_SEARCH_HEADER&page=3\n",
      "Processing page: 3\n",
      "attempting to navigate to: https://www.linkedin.com/search/results/all/?keywords=machine%20learningmachine%20learning&origin=GLOBAL_SEARCH_HEADER&page=4\n",
      "Processing page: 4\n",
      "attempting to navigate to: https://www.linkedin.com/search/results/all/?keywords=machine%20learningmachine%20learning&origin=GLOBAL_SEARCH_HEADER&page=5\n",
      "Processing page: 5\n",
      "attempting to navigate to: https://www.linkedin.com/search/results/all/?keywords=machine%20learningmachine%20learning&origin=GLOBAL_SEARCH_HEADER&page=6\n",
      "Processing page: 6\n",
      "attempting to navigate to: https://www.linkedin.com/search/results/all/?keywords=machine%20learningmachine%20learning&origin=GLOBAL_SEARCH_HEADER&page=7\n",
      "Processing page: 7\n",
      "attempting to navigate to: https://www.linkedin.com/search/results/all/?keywords=machine%20learningmachine%20learning&origin=GLOBAL_SEARCH_HEADER&page=8\n",
      "Processing page: 8\n",
      "attempting to navigate to: https://www.linkedin.com/search/results/all/?keywords=machine%20learningmachine%20learning&origin=GLOBAL_SEARCH_HEADER&page=9\n",
      "Processing page: 9\n",
      "attempting to navigate to: https://www.linkedin.com/search/results/all/?keywords=machine%20learningmachine%20learning&origin=GLOBAL_SEARCH_HEADER&page=10\n"
     ]
    }
   ],
   "source": [
    "li_search(s_term, s_type)"
   ]
  },
  {
   "cell_type": "markdown",
   "metadata": {},
   "source": [
    "# add lists to dataframe"
   ]
  },
  {
   "cell_type": "code",
   "execution_count": 898,
   "metadata": {},
   "outputs": [
    {
     "data": {
      "text/html": [
       "<div>\n",
       "<style scoped>\n",
       "    .dataframe tbody tr th:only-of-type {\n",
       "        vertical-align: middle;\n",
       "    }\n",
       "\n",
       "    .dataframe tbody tr th {\n",
       "        vertical-align: top;\n",
       "    }\n",
       "\n",
       "    .dataframe thead th {\n",
       "        text-align: right;\n",
       "    }\n",
       "</style>\n",
       "<table border=\"1\" class=\"dataframe\">\n",
       "  <thead>\n",
       "    <tr style=\"text-align: right;\">\n",
       "      <th></th>\n",
       "      <th>name</th>\n",
       "      <th>url</th>\n",
       "      <th>description</th>\n",
       "      <th>location</th>\n",
       "    </tr>\n",
       "  </thead>\n",
       "  <tbody>\n",
       "    <tr>\n",
       "      <th>0</th>\n",
       "      <td>Avery Smith</td>\n",
       "      <td>/in/averyjsmith</td>\n",
       "      <td>Data Scientist @ ExxonMobil | 👨‍💻</td>\n",
       "      <td>Greater Houston</td>\n",
       "    </tr>\n",
       "    <tr>\n",
       "      <th>1</th>\n",
       "      <td>Rohan Singh Rajput</td>\n",
       "      <td>/in/rohan3</td>\n",
       "      <td>Senior Data Scientist at Headspace Inc.</td>\n",
       "      <td>Los Angeles, CA</td>\n",
       "    </tr>\n",
       "    <tr>\n",
       "      <th>2</th>\n",
       "      <td>Thom Ives, Ph.D.</td>\n",
       "      <td>/in/thomives</td>\n",
       "      <td>Lead Data Scientist at UL Prospector | Owner o...</td>\n",
       "      <td>Boise Metropolitan Area</td>\n",
       "    </tr>\n",
       "    <tr>\n",
       "      <th>3</th>\n",
       "      <td>Michelle Lu</td>\n",
       "      <td>/in/lu-michellepy</td>\n",
       "      <td>Data Scientist at Google</td>\n",
       "      <td>United States</td>\n",
       "    </tr>\n",
       "    <tr>\n",
       "      <th>4</th>\n",
       "      <td>Jalal Kiani</td>\n",
       "      <td>/in/jalal-kiani-045721122</td>\n",
       "      <td>Data Scientist</td>\n",
       "      <td>Memphis, TN</td>\n",
       "    </tr>\n",
       "    <tr>\n",
       "      <th>...</th>\n",
       "      <td>...</td>\n",
       "      <td>...</td>\n",
       "      <td>...</td>\n",
       "      <td>...</td>\n",
       "    </tr>\n",
       "    <tr>\n",
       "      <th>985</th>\n",
       "      <td>Sanaz Fesharaki</td>\n",
       "      <td>/in/sanazfesharaki</td>\n",
       "      <td>Economist and Data Scientist</td>\n",
       "      <td>Columbia, MD</td>\n",
       "    </tr>\n",
       "    <tr>\n",
       "      <th>986</th>\n",
       "      <td>Miao Zheng</td>\n",
       "      <td>/in/miao-zheng-0314</td>\n",
       "      <td>Data Scientist at Accenture</td>\n",
       "      <td>Dunn Loring, VA</td>\n",
       "    </tr>\n",
       "    <tr>\n",
       "      <th>987</th>\n",
       "      <td>Hardy Xu</td>\n",
       "      <td>/in/hardy-xu-03650a16b</td>\n",
       "      <td>Senior Data Scientist at BLEND360</td>\n",
       "      <td>Washington DC-Baltimore Area</td>\n",
       "    </tr>\n",
       "    <tr>\n",
       "      <th>988</th>\n",
       "      <td>Yayoi Furuhata</td>\n",
       "      <td>/in/yayoi-furuhata</td>\n",
       "      <td>Lead Data Scientist at Booz Allen Hamilton</td>\n",
       "      <td>Washington, DC</td>\n",
       "    </tr>\n",
       "    <tr>\n",
       "      <th>989</th>\n",
       "      <td>Melissa Dureiko</td>\n",
       "      <td>/in/melissa-dureiko</td>\n",
       "      <td>Data Scientist</td>\n",
       "      <td>Baltimore City County, MD</td>\n",
       "    </tr>\n",
       "  </tbody>\n",
       "</table>\n",
       "<p>990 rows × 4 columns</p>\n",
       "</div>"
      ],
      "text/plain": [
       "                   name                        url  \\\n",
       "0           Avery Smith            /in/averyjsmith   \n",
       "1    Rohan Singh Rajput                 /in/rohan3   \n",
       "2      Thom Ives, Ph.D.               /in/thomives   \n",
       "3           Michelle Lu          /in/lu-michellepy   \n",
       "4           Jalal Kiani  /in/jalal-kiani-045721122   \n",
       "..                  ...                        ...   \n",
       "985     Sanaz Fesharaki         /in/sanazfesharaki   \n",
       "986          Miao Zheng        /in/miao-zheng-0314   \n",
       "987            Hardy Xu     /in/hardy-xu-03650a16b   \n",
       "988      Yayoi Furuhata         /in/yayoi-furuhata   \n",
       "989     Melissa Dureiko        /in/melissa-dureiko   \n",
       "\n",
       "                                           description  \\\n",
       "0                    Data Scientist @ ExxonMobil | 👨‍💻   \n",
       "1              Senior Data Scientist at Headspace Inc.   \n",
       "2    Lead Data Scientist at UL Prospector | Owner o...   \n",
       "3                             Data Scientist at Google   \n",
       "4                                       Data Scientist   \n",
       "..                                                 ...   \n",
       "985                       Economist and Data Scientist   \n",
       "986                        Data Scientist at Accenture   \n",
       "987                  Senior Data Scientist at BLEND360   \n",
       "988         Lead Data Scientist at Booz Allen Hamilton   \n",
       "989                                     Data Scientist   \n",
       "\n",
       "                         location  \n",
       "0                 Greater Houston  \n",
       "1                 Los Angeles, CA  \n",
       "2         Boise Metropolitan Area  \n",
       "3                   United States  \n",
       "4                     Memphis, TN  \n",
       "..                            ...  \n",
       "985                  Columbia, MD  \n",
       "986               Dunn Loring, VA  \n",
       "987  Washington DC-Baltimore Area  \n",
       "988                Washington, DC  \n",
       "989     Baltimore City County, MD  \n",
       "\n",
       "[990 rows x 4 columns]"
      ]
     },
     "execution_count": 898,
     "metadata": {},
     "output_type": "execute_result"
    }
   ],
   "source": [
    "name_link_df = pd.DataFrame()\n",
    "name_link_df['name'] = names\n",
    "name_link_df['url'] = urls\n",
    "name_link_df['description'] = p_details\n",
    "name_link_df['location'] = s_details\n",
    "name_link_df"
   ]
  },
  {
   "cell_type": "code",
   "execution_count": 941,
   "metadata": {},
   "outputs": [],
   "source": [
    "# create column that contains complete url for driver use\n",
    "for row in name_link_df:\n",
    "    name_link_df['fetch'] = 'https://www.linkedin.com' + name_link_df.url + '/'"
   ]
  },
  {
   "cell_type": "code",
   "execution_count": 25,
   "metadata": {},
   "outputs": [],
   "source": [
    "fetchList = name_link_df['fetch']"
   ]
  },
  {
   "cell_type": "code",
   "execution_count": 26,
   "metadata": {},
   "outputs": [
    {
     "data": {
      "text/plain": [
       "0                https://www.linkedin.com/in/averyjsmith\n",
       "1                     https://www.linkedin.com/in/rohan3\n",
       "2                   https://www.linkedin.com/in/thomives\n",
       "3              https://www.linkedin.com/in/lu-michellepy\n",
       "4      https://www.linkedin.com/in/jalal-kiani-045721122\n",
       "                             ...                        \n",
       "985           https://www.linkedin.com/in/sanazfesharaki\n",
       "986          https://www.linkedin.com/in/miao-zheng-0314\n",
       "987       https://www.linkedin.com/in/hardy-xu-03650a16b\n",
       "988           https://www.linkedin.com/in/yayoi-furuhata\n",
       "989          https://www.linkedin.com/in/melissa-dureiko\n",
       "Name: fetch, Length: 990, dtype: object"
      ]
     },
     "execution_count": 26,
     "metadata": {},
     "output_type": "execute_result"
    }
   ],
   "source": [
    "fetchList"
   ]
  },
  {
   "cell_type": "markdown",
   "metadata": {},
   "source": [
    "# save csv"
   ]
  },
  {
   "cell_type": "code",
   "execution_count": 942,
   "metadata": {},
   "outputs": [],
   "source": [
    "name_link_df.to_csv('ml_connections.csv')"
   ]
  }
 ],
 "metadata": {
  "kernelspec": {
   "display_name": "Python 3",
   "language": "python",
   "name": "python3"
  },
  "language_info": {
   "codemirror_mode": {
    "name": "ipython",
    "version": 3
   },
   "file_extension": ".py",
   "mimetype": "text/x-python",
   "name": "python",
   "nbconvert_exporter": "python",
   "pygments_lexer": "ipython3",
   "version": "3.8.5"
  }
 },
 "nbformat": 4,
 "nbformat_minor": 4
}
