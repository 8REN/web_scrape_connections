{
 "cells": [
  {
   "cell_type": "code",
   "execution_count": 12,
   "metadata": {},
   "outputs": [],
   "source": [
    "from selenium import webdriver\n",
    "from selenium.webdriver.common.keys import Keys\n",
    "from selenium.common.exceptions import NoSuchElementException\n",
    "from selenium.webdriver.support.ui import Select\n",
    "from selenium.webdriver.support.ui import WebDriverWait\n",
    "from selenium.webdriver.support import expected_conditions as EC\n",
    "from selenium.webdriver.common.by import By\n",
    "from selenium.webdriver import ActionChains\n",
    "from selenium.webdriver.common.desired_capabilities import DesiredCapabilities\n",
    "from selenium.webdriver.chrome.options import Options"
   ]
  },
  {
   "cell_type": "code",
   "execution_count": 13,
   "metadata": {},
   "outputs": [],
   "source": [
    "import time\n",
    "import csv\n",
    "import numpy as np\n",
    "import pandas as pd\n",
    "import requests\n",
    "import re\n",
    "\n",
    "from IPython.core.display import HTML"
   ]
  },
  {
   "cell_type": "code",
   "execution_count": 26,
   "metadata": {},
   "outputs": [],
   "source": [
    "driver = sign_in('memailn@gmail.com', 'password1!', PATH)"
   ]
  },
  {
   "cell_type": "code",
   "execution_count": 7,
   "metadata": {},
   "outputs": [],
   "source": [
    "PATH = \"C:\\Program Files (x86)\\chromedriver.exe\""
   ]
  },
  {
   "cell_type": "code",
   "execution_count": 10,
   "metadata": {},
   "outputs": [],
   "source": [
    "def sign_in(email, password, PATH):\n",
    "#     this function automates login process on linkedin, \n",
    "#     provide email and password as strings\n",
    "    driver = webdriver.Chrome(PATH)\n",
    "    time.sleep(5)\n",
    "    # webdriver gets page\n",
    "    driver.get(\"https://www.linkedin.com/\")\n",
    "    # pause for page to load\n",
    "    time.sleep(3)\n",
    "    # locate and send login email and password\n",
    "    driver.find_element_by_id(\"session_key\").send_keys(email)\n",
    "    driver.find_element_by_id(\"session_password\").send_keys(password)\n",
    "    driver.find_element_by_class_name(\"sign-in-form__submit-button\").click()\n",
    "    return driver"
   ]
  },
  {
   "cell_type": "code",
   "execution_count": 49,
   "metadata": {},
   "outputs": [],
   "source": [
    "def people_search(search_term, num_pages):\n",
    "\n",
    "#                 function to automate search bar, search focus\n",
    "#                 from your linkedin homepage, collecting data from\n",
    "#                 search including name, location(secondary_deets), \n",
    "#                 headline(primary_deets) from condensed profiles returned from\n",
    "#                 search results. requires string entry for search term\n",
    "#                 and int input for number of pages (num_pages) \n",
    "#                 that you wish to scrape from results.\n",
    "\n",
    "    # activate search bar cursor with click\n",
    "    driver.find_element_by_id(\"global-nav-search\").click()\n",
    "    # send keyboard entry for search terms\n",
    "    driver.find_element_by_css_selector(\"input.search-global-typeahead__input\").send_keys(search_term)\n",
    "    # send enter key to activate search\n",
    "    driver.find_element_by_css_selector(\"input.search-global-typeahead__input\").send_keys(Keys.RETURN)\n",
    "    # wait for results to load\n",
    "    driver.implicitly_wait(10)\n",
    "    # scroll to bottom of dynamic webpage allowing load\n",
    "    driver.execute_script(\"window.scrollTo(0, document.body.scrollHeight);\")\n",
    "    time.sleep(5)\n",
    "    # locate banner under search type results\n",
    "    button = driver.find_element_by_link_text(f\"See all people results\")\n",
    "    # js function to click banner/button to see additional results under jobs, people, or posts                      \n",
    "    driver.execute_script('arguments[0].click();',button)\n",
    "    # pause to allow page to load\n",
    "    driver.implicitly_wait(6)\n",
    "                          \n",
    "    # starting with pagination page 1                       \n",
    "    page_number = 1\n",
    "    # get current url for page\n",
    "    current_page_url = driver.current_url\n",
    "\n",
    "    # set while loop for pagination and data collection\n",
    "    while page_number < num_pages:\n",
    "        print(\"Processing page: \" + str(page_number))\n",
    "    # find all results\n",
    "        links = driver.find_elements_by_css_selector(\"span.entity-result__title a.app-aware-link\")\n",
    "   \n",
    "        time.sleep(2)\n",
    "    # iterate through results\n",
    "        for link in links:\n",
    "    # retrieve full name\n",
    "            name = str(link.get_attribute(\"innerText\")).split('\\n')\n",
    "    # add to names list\n",
    "            names.append(name[0])\n",
    "    # retrieve profile url\n",
    "            profile_path = (str(link.get_attribute(\"pathname\")))\n",
    "    # add to urls list\n",
    "            urls.append(profile_path)\n",
    "    # find all primary and secondary details \n",
    "            primary_deets = driver.find_element_by_css_selector(\"div.entity-result__primary-subtitle.t-14.t-black\")\n",
    "            secondary_deets = driver.find_element_by_css_selector('div.entity-result__secondary-subtitle.t-14')\n",
    "    # retrive text from primary, headline tends to be current occupation, depends on user  \n",
    "            desc = primary_deets.get_attribute(\"innerText\")\n",
    "            p_details.append(desc)\n",
    "    # retrive text from primary, tends to be geographical location\n",
    "            loc = secondary_deets.get_attribute(\"innerText\")\n",
    "            s_details.append(loc)\n",
    "    # use page_number to enter next page url \n",
    "        page_number+=1\n",
    "        next_page_url = current_page_url + \"&page=\" + str(page_number)\n",
    "        print(\"attempting to navigate to: \" + next_page_url)\n",
    "    # tell webdriver to get the next page in search results pages sequence \n",
    "        driver.get(next_page_url) \n",
    "        driver.implicitly_wait(5)\n",
    "    return names, urls, p_details, s_details\n"
   ]
  },
  {
   "cell_type": "code",
   "execution_count": 16,
   "metadata": {},
   "outputs": [],
   "source": [
    "def get_full_name():\n",
    "    profile_header = driver.find_element_by_css_selector(\"ul.pv-top-card--list\")\n",
    "    # find name element from profile header portion\n",
    "    header_details = profile_header.find_elements_by_tag_name(\"li\")\n",
    "    profile_name = header_details[0].get_attribute('innerText')\n",
    "    return profile_name\n",
    "\n",
    "def get_first_name():\n",
    "    full_name = get_name()\n",
    "    name = full_name.split(' ', 1)\n",
    "    first_name = name[0]\n",
    "    return first_name\n",
    "\n"
   ]
  },
  {
   "cell_type": "code",
   "execution_count": 17,
   "metadata": {},
   "outputs": [],
   "source": [
    "def go_to_element(wait_element_css, select_element):\n",
    "    w = WebDriverWait(driver, 10)\n",
    "    # choose element that will populate without scroll, otherwise, use scroll to position\n",
    "    w.until(EC.presence_of_element_located((By.CSS_SELECTOR, wait_element_css)))\n",
    "    time.sleep(5)\n",
    "    # background container\n",
    "    element = driver.find_element_by_css_selector(select_element)\n",
    "    #print(\"here\" + str(background))\n",
    "    driver.execute_script(\"arguments[0].scrollIntoView();\", element)\n",
    "    return element"
   ]
  },
  {
   "cell_type": "code",
   "execution_count": 18,
   "metadata": {},
   "outputs": [],
   "source": [
    "def get_job_title(container):\n",
    "    try:\n",
    "        position = container.find_element_by_tag_name(\n",
    "            'h3').get_attribute('innerText')\n",
    "    except NoSuchElementException:\n",
    "        position = 'nan'\n",
    "    return position\n",
    "\n",
    "def get_company(container):\n",
    "    try:\n",
    "        company = container.find_element_by_tag_name(\n",
    "            'p.pv-entity__secondary-title').get_attribute('innerText')\n",
    "        \n",
    "    except NoSuchElementException:\n",
    "        company = 'nan'\n",
    "    return company\n",
    "\n",
    "def get_work_location(container):\n",
    "    try:\n",
    "        location = container.find_element_by_css_selector(\n",
    "            'h4.pv-entity__location').get_attribute('innerText')\n",
    "        location = re.sub(r'[^\\w]', ' ', location)\n",
    "        location = re.sub(r'Location ', ' ', location)\n",
    "        location = location.str.strip()\n",
    "    except NoSuchElementException:\n",
    "        location = 'nan'\n",
    "    return location   \n",
    "\n",
    "def get_dates_employed(container):\n",
    "    try:\n",
    "        dates = container.find_element_by_css_selector(\n",
    "            \"h4.pv-entity__date-range\").get_attribute('innerText').split(' ', 2)[-1]\n",
    "\n",
    "    except NoSuchElementException:\n",
    "        dates = 'nan'\n",
    "    return dates\n"
   ]
  },
  {
   "cell_type": "code",
   "execution_count": 39,
   "metadata": {},
   "outputs": [],
   "source": [
    "def get_employment(job_history_digit):\n",
    "#     argument input must be integer, gets single job info at a time, \n",
    "#     for example, want their most recent job, job_history_digit = 1, \n",
    "#     want the job before most recent, or second in list of jobs, job_history_digit = 2, etc\n",
    "    j = int(job_history_digit) - 1\n",
    "    background = go_to_element(\"div.profile-detail\", \"div[id='oc-background-section']\" )\n",
    "    time.sleep(4)\n",
    "    # locate experience section\n",
    "    try:\n",
    "        exp = background.find_element_by_css_selector(\n",
    "            \"section[id='experience-section']\")\n",
    "    \n",
    "    except NoSuchElementException:\n",
    "        pos = 'nan'\n",
    "        company = 'nan'\n",
    "        location = 'nan'\n",
    "        dates = 'nan'\n",
    "    else:\n",
    "        history = exp.find_elements_by_css_selector(\n",
    "                \"a[data-control-name='background_details_company']\")\n",
    "        details = history[j]\n",
    "        pos = get_job_title(details)\n",
    "        company = get_company(details)\n",
    "        location = get_work_location(details)\n",
    "        dates = get_dates_employed(details)\n",
    "\n",
    "    time.sleep(2)\n",
    "  \n"
   ]
  },
  {
   "cell_type": "code",
   "execution_count": 20,
   "metadata": {},
   "outputs": [],
   "source": [
    "def get_school(school_history_digit):\n",
    "    # locate education section, this works following experience section, \n",
    "    # otherwise, must locate background element see go_to_element script above \n",
    "    s = int(school_history_digit) -1\n",
    "    try:\n",
    "        education = background.find_element_by_css_selector(\n",
    "            \"section[id='education-section']\")\n",
    "\n",
    "    except NoSuchElementException:\n",
    "        school_name =  'nan'\n",
    "        \n",
    "    else:\n",
    "        schools = education.find_elements_by_css_selector(\n",
    "            \"a[data-control-name='background_details_school']\")\n",
    "        school = schools[s]\n",
    "        school_name = container.find_element_by_tag_name(\n",
    "        'h3').get_attribute('innerText')\n",
    "# scroll to bottom to prevent automation detection flag\n",
    "    driver.execute_script(\"window.scrollTo(0, document.body.scrollHeight);\")\n",
    "    time.sleep(2)\n",
    "    return school_name"
   ]
  },
  {
   "cell_type": "code",
   "execution_count": null,
   "metadata": {},
   "outputs": [],
   "source": []
  },
  {
   "cell_type": "code",
   "execution_count": 21,
   "metadata": {},
   "outputs": [],
   "source": [
    "def get_email():\n",
    "    # scroll to top of profile where email is located\n",
    "    driver.execute_script(\"window.scrollTo(0, 0);\")\n",
    "    contact_info = driver.find_element_by_css_selector(\n",
    "        'a[data-control-name=\"contact_see_more\"]')\n",
    "    contact_info.click()\n",
    "    time.sleep(3)\n",
    "    try:\n",
    "        container =  driver.find_elements_by_css_selector(\n",
    "            'div.pv-contact-info__ci-container')\n",
    "        email =  container[1].get_attribute('innerText')\n",
    "    \n",
    "    except NoSuchElementException:\n",
    "        email = 'nan'\n",
    "    close_popup = driver.find_element_by_css_selector(\n",
    "            'button[aria-label=\"Dismiss\" ]')\n",
    "    close_popup.click()\n",
    "    return email"
   ]
  },
  {
   "cell_type": "code",
   "execution_count": 22,
   "metadata": {},
   "outputs": [],
   "source": [
    "def profile_connect():\n",
    "    # scroll to top of profile to ensure elements can be found by webdriver\n",
    "    driver.execute_script(\"window.scrollTo(0, 0);\")\n",
    "    # obtain name to personalize message\n",
    "    f_name = get_first_name()\n",
    "    time.sleep(2)\n",
    "    # locate & click 'Connect' button located at top of profile\n",
    "    driver.find_element_by_class_name('pv-s-profile-actions--connect').click()\n",
    "    action_bar = driver.find_element_by_css_selector(\"div.artdeco-modal__actionbar\")\n",
    "    # locate 'Add a note' button by class\n",
    "    action_bar.find_element_by_class_name('mr1').click()\n",
    "    # create message using information scraped from profile\n",
    "    message = f'''Hi {f_name}, I am a data scientist in the DC area. \n",
    "    I wanted to reach out, say hi, and connect with you'''.replace('\\n',' ')\n",
    "    time.sleep(3)\n",
    "    # action to send text from message to input box\n",
    "    message_input = driver.find_element_by_id('custom-message').send_keys(message)\n",
    "    # send the message & connection request\n",
    "    driver.find_element_by_class_name('ml1').click()"
   ]
  },
  {
   "cell_type": "code",
   "execution_count": null,
   "metadata": {},
   "outputs": [],
   "source": [
    "names = []\n",
    "urls = []\n",
    "p_details = []\n",
    "s_details = []\n",
    "name_list = []\n",
    "email_list = []\n",
    "position_list = []\n",
    "company_list = []\n",
    "location_list = []\n",
    "dates_list = []\n",
    "position_list2 = []\n",
    "company_list2 = []\n",
    "location_list2 = []\n",
    "dates_list2 = []\n",
    "school_list = []\n",
    "school_list2 = []"
   ]
  },
  {
   "cell_type": "code",
   "execution_count": 50,
   "metadata": {},
   "outputs": [
    {
     "name": "stdout",
     "output_type": "stream",
     "text": [
      "Processing page: 1\n",
      "attempting to navigate to: https://www.linkedin.com/search/results/all/?keywords=artificial%20intelligence&origin=GLOBAL_SEARCH_HEADER&page=2\n"
     ]
    },
    {
     "data": {
      "text/plain": [
       "(['Simone Vincenzi', 'Faith B.', 'Ari Chanen, PhD', 'Xiaolong M.'],\n",
       " ['/in/svincenzi',\n",
       "  '/in/drfaithbradley',\n",
       "  '/in/ari-chanen-phd',\n",
       "  '/in/xiaolongmiao'],\n",
       " ['AI and Machine Learning at Ericsson Global Artificial Intelligence Accelerator',\n",
       "  'AI and Machine Learning at Ericsson Global Artificial Intelligence Accelerator',\n",
       "  'AI and Machine Learning at Ericsson Global Artificial Intelligence Accelerator',\n",
       "  'AI and Machine Learning at Ericsson Global Artificial Intelligence Accelerator'],\n",
       " ['Santa Cruz, CA', 'Santa Cruz, CA', 'Santa Cruz, CA', 'Santa Cruz, CA'])"
      ]
     },
     "execution_count": 50,
     "metadata": {},
     "output_type": "execute_result"
    }
   ],
   "source": [
    "names = []\n",
    "urls = []\n",
    "p_details = []\n",
    "s_details = []\n",
    "people_search('artificial intelligence', 2)"
   ]
  },
  {
   "cell_type": "code",
   "execution_count": null,
   "metadata": {},
   "outputs": [],
   "source": [
    "driver.forward()\n",
    "driver.back()"
   ]
  },
  {
   "cell_type": "code",
   "execution_count": null,
   "metadata": {},
   "outputs": [],
   "source": [
    "driver.quit()"
   ]
  },
  {
   "cell_type": "code",
   "execution_count": 48,
   "metadata": {},
   "outputs": [
    {
     "data": {
      "text/plain": [
       "[]"
      ]
     },
     "execution_count": 48,
     "metadata": {},
     "output_type": "execute_result"
    }
   ],
   "source": [
    "names"
   ]
  },
  {
   "cell_type": "code",
   "execution_count": 38,
   "metadata": {},
   "outputs": [
    {
     "data": {
      "text/plain": [
       "[]"
      ]
     },
     "execution_count": 38,
     "metadata": {},
     "output_type": "execute_result"
    }
   ],
   "source": [
    "names"
   ]
  },
  {
   "cell_type": "code",
   "execution_count": null,
   "metadata": {},
   "outputs": [],
   "source": []
  }
 ],
 "metadata": {
  "kernelspec": {
   "display_name": "Python 3",
   "language": "python",
   "name": "python3"
  },
  "language_info": {
   "codemirror_mode": {
    "name": "ipython",
    "version": 3
   },
   "file_extension": ".py",
   "mimetype": "text/x-python",
   "name": "python",
   "nbconvert_exporter": "python",
   "pygments_lexer": "ipython3",
   "version": "3.8.5"
  }
 },
 "nbformat": 4,
 "nbformat_minor": 4
}
