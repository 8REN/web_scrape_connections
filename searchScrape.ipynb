{
 "cells": [
  {
   "cell_type": "markdown",
   "metadata": {},
   "source": [
    "# linkedin search scraping tool"
   ]
  },
  {
   "cell_type": "code",
   "execution_count": 4,
   "metadata": {},
   "outputs": [],
   "source": [
    "from selenium import webdriver\n",
    "from selenium.webdriver.common.keys import Keys\n",
    "from selenium.webdriver.support.ui import Select\n",
    "from selenium.webdriver.support.ui import WebDriverWait\n",
    "from selenium.webdriver.support import expected_conditions as EC\n",
    "from selenium.webdriver.common.by import By\n",
    "from selenium.webdriver import ActionChains"
   ]
  },
  {
   "cell_type": "code",
   "execution_count": 5,
   "metadata": {},
   "outputs": [],
   "source": [
    "import time\n",
    "import csv\n",
    "import pandas as pd\n",
    "import re"
   ]
  },
  {
   "cell_type": "markdown",
   "metadata": {},
   "source": [
    "### create webdriver instance"
   ]
  },
  {
   "cell_type": "code",
   "execution_count": 29,
   "metadata": {},
   "outputs": [],
   "source": [
    "PATH = \"C:\\Program Files (x86)\\chromedriver.exe\"\n",
    "driver = webdriver.Chrome(PATH)"
   ]
  },
  {
   "cell_type": "markdown",
   "metadata": {},
   "source": [
    "###  login "
   ]
  },
  {
   "cell_type": "code",
   "execution_count": 30,
   "metadata": {},
   "outputs": [],
   "source": [
    "def link_log(email, password):\n",
    "    driver.get(\"https://www.linkedin.com/\")\n",
    "    time.sleep(3)\n",
    "    driver.find_element_by_id(\"session_key\").send_keys(email)\n",
    "    driver.find_element_by_id(\"session_password\").send_keys(password)\n",
    "    driver.find_element_by_class_name(\"sign-in-form__submit-button\").click()\n"
   ]
  },
  {
   "cell_type": "code",
   "execution_count": 31,
   "metadata": {},
   "outputs": [],
   "source": [
    "user = \"picklepropaganda@gmail.com\"\n",
    "pw = \"Shitballs!\""
   ]
  },
  {
   "cell_type": "code",
   "execution_count": 32,
   "metadata": {},
   "outputs": [],
   "source": [
    "link_log(user, pw)"
   ]
  },
  {
   "cell_type": "markdown",
   "metadata": {},
   "source": [
    "### search entry and results"
   ]
  },
  {
   "cell_type": "code",
   "execution_count": 10,
   "metadata": {},
   "outputs": [],
   "source": [
    "s_term = 'microsoft data scientist'\n",
    "s_type = 'people'"
   ]
  },
  {
   "cell_type": "code",
   "execution_count": null,
   "metadata": {},
   "outputs": [],
   "source": [
    "# create empty lists to hold data\n",
    "urls = []\n",
    "names = []\n",
    "p_details = []\n",
    "s_details = []"
   ]
  },
  {
   "cell_type": "code",
   "execution_count": 33,
   "metadata": {},
   "outputs": [],
   "source": [
    "def li_search(search_term, search_type):\n",
    "    \n",
    "                #function to automate search bar, search focus\n",
    "                #from your linkedin homepage, collecting data from\n",
    "                #search including name, location(secondary_deets), \n",
    "                #headline(primary_deets) from condensed profiles returned from\n",
    "                #search results. requires string entry for search term\n",
    "                #and string entry for search focus, ex. people, posts, jobs.\n",
    "\n",
    "    # activate search bar cursor with click\n",
    "    driver.find_element_by_id(\"global-nav-search\").click()\n",
    "    # send keyboard entry for search terms\n",
    "    driver.find_element_by_css_selector(\"input.search-global-typeahead__input\").send_keys(search_term)\n",
    "    # send enter key to activate search\n",
    "    driver.find_element_by_css_selector(\"input.search-global-typeahead__input\").send_keys(Keys.RETURN)\n",
    "    # wait for results to load\n",
    "    driver.implicitly_wait(10)\n",
    "    # scroll to bottom of dynamic webpage allowing load\n",
    "    driver.execute_script(\"window.scrollTo(0, document.body.scrollHeight);\")\n",
    "    # locate banner under search type results\n",
    "    button = driver.find_element_by_link_text(f\"See all {search_type} results\")\n",
    "    # js function to click banner/button to see additional results under jobs, people, or posts                      \n",
    "    driver.execute_script('arguments[0].click();',button)\n",
    "    # pause to allow page to load\n",
    "    driver.implicitly_wait(6)\n",
    "                          \n",
    "    # starting with pagination page 1                       \n",
    "    page_number = 1\n",
    "    # get current url for page\n",
    "    current_page_url = driver.current_url\n",
    "\n",
    "    # set while loop for pagination and data collection\n",
    "    while page_number < 5:\n",
    "        print(\"Processing page: \" + str(page_number))\n",
    "    # find all results\n",
    "        links = driver.find_elements_by_css_selector(\"span.entity-result__title a.app-aware-link\")\n",
    "   \n",
    "        time.sleep(2)\n",
    "    # iterate through results\n",
    "        for link in links:\n",
    "    # retrieve full name\n",
    "            name = str(link.get_attribute(\"innerText\")).split('\\n')\n",
    "    # add to names list\n",
    "            names.append(name[0])\n",
    "    # retrieve profile url\n",
    "            profile_path = (str(link.get_attribute(\"pathname\")))\n",
    "    # add to urls list\n",
    "            urls.append(profile_path)\n",
    "    # find all primary and secondary details \n",
    "        primary_deets = driver.find_elements_by_css_selector(\"div.entity-result__primary-subtitle.t-14.t-black\")\n",
    "        secondary_deets = driver.find_elements_by_css_selector('div.entity-result__secondary-subtitle.t-14')\n",
    "    # retrive text from primary, headline tends to be current occupation, depends on user  \n",
    "        for x in primary_deets:\n",
    "            desc = x.get_attribute(\"innerText\")\n",
    "            p_details.append(desc)\n",
    "    # retrive text from primary, tends to be geographical location\n",
    "        for x in secondary_deets:\n",
    "            loc = x.get_attribute(\"innerText\")\n",
    "            s_details.append(loc)\n",
    "    # use page_number to enter next page url \n",
    "        page_number+=1\n",
    "        next_page_url = current_page_url + \"&page=\" + str(page_number)\n",
    "        print(\"attempting to navigate to: \" + next_page_url)\n",
    "    # tell webdriver to get the next page in search results pages sequence \n",
    "        driver.get(next_page_url) \n",
    "        driver.implicitly_wait(5)\n",
    "    driver.quit()\n"
   ]
  },
  {
   "cell_type": "code",
   "execution_count": 34,
   "metadata": {},
   "outputs": [
    {
     "name": "stdout",
     "output_type": "stream",
     "text": [
      "Processing page: 1\n",
      "attempting to navigate to: https://www.linkedin.com/search/results/all/?keywords=microsoft%20data%20scientist&origin=GLOBAL_SEARCH_HEADER&page=2\n",
      "Processing page: 2\n",
      "attempting to navigate to: https://www.linkedin.com/search/results/all/?keywords=microsoft%20data%20scientist&origin=GLOBAL_SEARCH_HEADER&page=3\n",
      "Processing page: 3\n",
      "attempting to navigate to: https://www.linkedin.com/search/results/all/?keywords=microsoft%20data%20scientist&origin=GLOBAL_SEARCH_HEADER&page=4\n",
      "Processing page: 4\n",
      "attempting to navigate to: https://www.linkedin.com/search/results/all/?keywords=microsoft%20data%20scientist&origin=GLOBAL_SEARCH_HEADER&page=5\n"
     ]
    }
   ],
   "source": [
    "li_search(s_term, s_type)"
   ]
  },
  {
   "cell_type": "markdown",
   "metadata": {},
   "source": [
    "### save scrape results"
   ]
  },
  {
   "cell_type": "code",
   "execution_count": null,
   "metadata": {},
   "outputs": [],
   "source": [
    "    # create dataframe to organize and store results\n",
    "df = pd.DataFrame()                      \n",
    "df['name'] = names\n",
    "df['url'] = urls\n",
    "df['description'] = p_details\n",
    "df['location'] = s_details\n",
    "df.to_csv(f'{search_term}.csv')"
   ]
  },
  {
   "cell_type": "code",
   "execution_count": 941,
   "metadata": {},
   "outputs": [],
   "source": [
    "# create column that contains complete url for webdriver get use for deeper scraping\n",
    "for row in df:\n",
    "    df['fetch'] = 'https://www.linkedin.com' + name_link_df.url + '/'"
   ]
  },
  {
   "cell_type": "markdown",
   "metadata": {},
   "source": [
    "### export results to csv"
   ]
  },
  {
   "cell_type": "code",
   "execution_count": 942,
   "metadata": {},
   "outputs": [],
   "source": [
    "df.to_csv(f'{search_term}.csv')"
   ]
  }
 ],
 "metadata": {
  "kernelspec": {
   "display_name": "Python 3",
   "language": "python",
   "name": "python3"
  },
  "language_info": {
   "codemirror_mode": {
    "name": "ipython",
    "version": 3
   },
   "file_extension": ".py",
   "mimetype": "text/x-python",
   "name": "python",
   "nbconvert_exporter": "python",
   "pygments_lexer": "ipython3",
   "version": "3.8.5"
  }
 },
 "nbformat": 4,
 "nbformat_minor": 4
}
