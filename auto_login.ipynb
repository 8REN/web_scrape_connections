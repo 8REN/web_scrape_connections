{
 "cells": [
  {
   "cell_type": "markdown",
   "metadata": {},
   "source": [
    "# automate login \n",
    " \n",
    "assigning webdriver instance outside of automated login function "
   ]
  },
  {
   "cell_type": "code",
   "execution_count": 5,
   "metadata": {},
   "outputs": [],
   "source": [
    "from selenium import webdriver\n",
    "from selenium.webdriver.common.keys import Keys\n",
    "import time"
   ]
  },
  {
   "cell_type": "code",
   "execution_count": 2,
   "metadata": {},
   "outputs": [],
   "source": [
    "# create webdriver instance\n",
    "PATH = \"C:\\Program Files (x86)\\chromedriver.exe\"\n",
    "driver = webdriver.Chrome(PATH)"
   ]
  },
  {
   "cell_type": "code",
   "execution_count": 3,
   "metadata": {},
   "outputs": [],
   "source": [
    "def sign_in(email, password):\n",
    "#     this function automates login process on linkedin, \n",
    "#     provide email and password as strings\n",
    "    driver = webdriver.Chrome(PATH)\n",
    "    # webdriver gets page\n",
    "    driver.get(\"https://www.linkedin.com/\")\n",
    "    # pause for page to load\n",
    "    time.sleep(3)\n",
    "    # locate and send login email and password\n",
    "    driver.find_element_by_id(\"session_key\").send_keys(email)\n",
    "    driver.find_element_by_id(\"session_password\").send_keys(password)\n",
    "    driver.find_element_by_class_name(\"sign-in-form__submit-button\").click()"
   ]
  },
  {
   "cell_type": "code",
   "execution_count": 6,
   "metadata": {},
   "outputs": [],
   "source": [
    "# arguments input as strings for email and password for linkedin website\n",
    "sign_in('email@gmail.com', 'password')"
   ]
  },
  {
   "cell_type": "markdown",
   "metadata": {},
   "source": [
    "# automate login \n",
    "\n",
    "assigning webdriver instance inside automated login function"
   ]
  },
  {
   "cell_type": "code",
   "execution_count": null,
   "metadata": {},
   "outputs": [],
   "source": [
    "def get_driver_login(email, password, PATH):\n",
    "#     this function automates login process on linkedin, \n",
    "#     provide email and password as strings\n",
    "#     assign webdriver instance to driver variable using function\n",
    "    driver = webdriver.Chrome(PATH)\n",
    "    time.sleep(5)\n",
    "    # webdriver gets page\n",
    "    driver.get(\"https://www.linkedin.com/\")\n",
    "    # pause for page to load\n",
    "    time.sleep(3)\n",
    "    # locate and send login email and password\n",
    "    driver.find_element_by_id(\"session_key\").send_keys(email)\n",
    "    driver.find_element_by_id(\"session_password\").send_keys(password)\n",
    "    driver.find_element_by_class_name(\"sign-in-form__submit-button\").click()\n",
    "    return driver"
   ]
  },
  {
   "cell_type": "code",
   "execution_count": null,
   "metadata": {},
   "outputs": [],
   "source": [
    "driver = get_driver_login('email@gmail.com', 'password1!', PATH)"
   ]
  }
 ],
 "metadata": {
  "kernelspec": {
   "display_name": "Python 3",
   "language": "python",
   "name": "python3"
  },
  "language_info": {
   "codemirror_mode": {
    "name": "ipython",
    "version": 3
   },
   "file_extension": ".py",
   "mimetype": "text/x-python",
   "name": "python",
   "nbconvert_exporter": "python",
   "pygments_lexer": "ipython3",
   "version": "3.8.5"
  }
 },
 "nbformat": 4,
 "nbformat_minor": 4
}
