{
 "cells": [
  {
   "cell_type": "markdown",
   "metadata": {},
   "source": [
    "# linkedin search scraping tool"
   ]
  },
  {
   "cell_type": "code",
   "execution_count": 4,
   "metadata": {},
   "outputs": [],
   "source": [
    "from selenium import webdriver\n",
    "from selenium.webdriver.common.keys import Keys\n",
    "from selenium.webdriver.support.ui import Select\n",
    "from selenium.webdriver.support.ui import WebDriverWait\n",
    "from selenium.webdriver.support import expected_conditions as EC\n",
    "from selenium.webdriver.common.by import By\n",
    "from selenium.webdriver import ActionChains"
   ]
  },
  {
   "cell_type": "code",
   "execution_count": 5,
   "metadata": {},
   "outputs": [],
   "source": [
    "import time\n",
    "import csv\n",
    "import pandas as pd\n",
    "import re\n",
    "import import-ipynb"
   ]
  },
  {
   "cell_type": "code",
   "execution_count": 123,
   "metadata": {},
   "outputs": [
    {
     "ename": "ImportError",
     "evalue": "cannot import name 'sign_in' from 'auto_login' (C:\\Users\\root\\Projects\\linkscrape\\auto_login.py)",
     "output_type": "error",
     "traceback": [
      "\u001b[1;31m---------------------------------------------------------------------------\u001b[0m",
      "\u001b[1;31mImportError\u001b[0m                               Traceback (most recent call last)",
      "\u001b[1;32m<ipython-input-123-a11ed1a8c512>\u001b[0m in \u001b[0;36m<module>\u001b[1;34m\u001b[0m\n\u001b[0;32m      1\u001b[0m \u001b[1;32mimport\u001b[0m \u001b[0msys\u001b[0m\u001b[1;33m\u001b[0m\u001b[1;33m\u001b[0m\u001b[0m\n\u001b[0;32m      2\u001b[0m \u001b[1;32mimport\u001b[0m \u001b[0mos\u001b[0m\u001b[1;33m\u001b[0m\u001b[1;33m\u001b[0m\u001b[0m\n\u001b[1;32m----> 3\u001b[1;33m \u001b[1;32mfrom\u001b[0m \u001b[0mauto_login\u001b[0m \u001b[1;32mimport\u001b[0m \u001b[0msign_in\u001b[0m\u001b[1;33m\u001b[0m\u001b[1;33m\u001b[0m\u001b[0m\n\u001b[0m",
      "\u001b[1;31mImportError\u001b[0m: cannot import name 'sign_in' from 'auto_login' (C:\\Users\\root\\Projects\\linkscrape\\auto_login.py)"
     ]
    }
   ],
   "source": [
    "import sys\n",
    "import os\n",
    "from auto_login import sign_in\n"
   ]
  },
  {
   "cell_type": "markdown",
   "metadata": {},
   "source": [
    "### create webdriver instance"
   ]
  },
  {
   "cell_type": "code",
   "execution_count": 120,
   "metadata": {},
   "outputs": [],
   "source": [
    "PATH = \"C:\\Program Files (x86)\\chromedriver.exe\"\n",
    "driver = webdriver.Chrome(PATH)"
   ]
  },
  {
   "cell_type": "markdown",
   "metadata": {},
   "source": [
    "###  login "
   ]
  },
  {
   "cell_type": "code",
   "execution_count": 121,
   "metadata": {},
   "outputs": [
    {
     "ename": "AttributeError",
     "evalue": "module 'auto_login' has no attribute 'sign_in'",
     "output_type": "error",
     "traceback": [
      "\u001b[1;31m---------------------------------------------------------------------------\u001b[0m",
      "\u001b[1;31mAttributeError\u001b[0m                            Traceback (most recent call last)",
      "\u001b[1;32m<ipython-input-121-1c9810b0d25a>\u001b[0m in \u001b[0;36m<module>\u001b[1;34m\u001b[0m\n\u001b[1;32m----> 1\u001b[1;33m \u001b[0mauto_login\u001b[0m\u001b[1;33m.\u001b[0m\u001b[0msign_in\u001b[0m\u001b[1;33m(\u001b[0m\u001b[1;34m\"picklepropaganda@gmail.com\"\u001b[0m\u001b[1;33m,\u001b[0m \u001b[1;34m\"Shitballs!\"\u001b[0m\u001b[1;33m)\u001b[0m\u001b[1;33m\u001b[0m\u001b[1;33m\u001b[0m\u001b[0m\n\u001b[0m",
      "\u001b[1;31mAttributeError\u001b[0m: module 'auto_login' has no attribute 'sign_in'"
     ]
    }
   ],
   "source": [
    "auto_login.sign_in(\"picklepropaganda@gmail.com\", \"Shitballs!\")"
   ]
  },
  {
   "cell_type": "code",
   "execution_count": 30,
   "metadata": {},
   "outputs": [],
   "source": [
    "def link_log(email, password):\n",
    "    driver.get(\"https://www.linkedin.com/\")\n",
    "    time.sleep(3)\n",
    "    driver.find_element_by_id(\"session_key\").send_keys(email)\n",
    "    driver.find_element_by_id(\"session_password\").send_keys(password)\n",
    "    driver.find_element_by_class_name(\"sign-in-form__submit-button\").click()\n"
   ]
  },
  {
   "cell_type": "code",
   "execution_count": 76,
   "metadata": {},
   "outputs": [],
   "source": [
    "user = \"email@gmail.com\"\n",
    "pw = \"Shitballs1!\""
   ]
  },
  {
   "cell_type": "code",
   "execution_count": 78,
   "metadata": {},
   "outputs": [],
   "source": [
    "link_log(user, pw)"
   ]
  },
  {
   "cell_type": "markdown",
   "metadata": {},
   "source": [
    "### search entry and results"
   ]
  },
  {
   "cell_type": "code",
   "execution_count": 84,
   "metadata": {},
   "outputs": [],
   "source": [
    "search_term = 'microsoft data scientist'\n",
    "search_type = 'people'"
   ]
  },
  {
   "cell_type": "code",
   "execution_count": 94,
   "metadata": {},
   "outputs": [],
   "source": [
    "# create empty lists to hold data\n",
    "urls = []\n",
    "names = []\n",
    "p_details = []\n",
    "s_details = []"
   ]
  },
  {
   "cell_type": "code",
   "execution_count": 95,
   "metadata": {},
   "outputs": [],
   "source": [
    "def people_search(search_term, num_pages):\n",
    "    \n",
    "#                 function to automate search bar, search focus\n",
    "#                 from your linkedin homepage, collecting data from\n",
    "#                 search including name, location(secondary_deets), \n",
    "#                 headline(primary_deets) from condensed profiles returned from\n",
    "#                 search results. requires string entry for search term\n",
    "#                 and number of pages (num_pages) that you wish to scrape from results.\n",
    "\n",
    "    # activate search bar cursor with click\n",
    "    driver.find_element_by_id(\"global-nav-search\").click()\n",
    "    # send keyboard entry for search terms\n",
    "    driver.find_element_by_css_selector(\"input.search-global-typeahead__input\").send_keys(search_term)\n",
    "    # send enter key to activate search\n",
    "    driver.find_element_by_css_selector(\"input.search-global-typeahead__input\").send_keys(Keys.RETURN)\n",
    "    # wait for results to load\n",
    "    driver.implicitly_wait(10)\n",
    "    # scroll to bottom of dynamic webpage allowing load\n",
    "    driver.execute_script(\"window.scrollTo(0, document.body.scrollHeight);\")\n",
    "    # locate banner under search type results\n",
    "    button = driver.find_element_by_link_text(f\"See all people results\")\n",
    "    # js function to click banner/button to see additional results under jobs, people, or posts                      \n",
    "    driver.execute_script('arguments[0].click();',button)\n",
    "    # pause to allow page to load\n",
    "    driver.implicitly_wait(6)\n",
    "                          \n",
    "    # starting with pagination page 1                       \n",
    "    page_number = 1\n",
    "    # get current url for page\n",
    "    current_page_url = driver.current_url\n",
    "\n",
    "    # set while loop for pagination and data collection\n",
    "    while page_number < num_pages:\n",
    "        print(\"Processing page: \" + str(page_number))\n",
    "    # find all results\n",
    "        links = driver.find_elements_by_css_selector(\"span.entity-result__title a.app-aware-link\")\n",
    "   \n",
    "        time.sleep(2)\n",
    "    # iterate through results\n",
    "        for link in links:\n",
    "    # retrieve full name\n",
    "            name = str(link.get_attribute(\"innerText\")).split('\\n')\n",
    "    # add to names list\n",
    "            names.append(name[0])\n",
    "    # retrieve profile url\n",
    "            profile_path = (str(link.get_attribute(\"pathname\")))\n",
    "    # add to urls list\n",
    "            urls.append(profile_path)\n",
    "    # find all primary and secondary details \n",
    "            primary_deets = driver.find_element_by_css_selector(\"div.entity-result__primary-subtitle.t-14.t-black\")\n",
    "            secondary_deets = driver.find_element_by_css_selector('div.entity-result__secondary-subtitle.t-14')\n",
    "    # retrive text from primary, headline tends to be current occupation, depends on user  \n",
    "            desc = primary_deets.get_attribute(\"innerText\")\n",
    "            p_details.append(desc)\n",
    "    # retrive text from primary, tends to be geographical location\n",
    "            loc = secondary_deets.get_attribute(\"innerText\")\n",
    "            s_details.append(loc)\n",
    "    # use page_number to enter next page url \n",
    "        page_number+=1\n",
    "        next_page_url = current_page_url + \"&page=\" + str(page_number)\n",
    "        print(\"attempting to navigate to: \" + next_page_url)\n",
    "    # tell webdriver to get the next page in search results pages sequence \n",
    "        driver.get(next_page_url) \n",
    "        driver.implicitly_wait(5)\n",
    "    driver.quit()\n"
   ]
  },
  {
   "cell_type": "markdown",
   "metadata": {},
   "source": [
    "### save scrape results"
   ]
  },
  {
   "cell_type": "code",
   "execution_count": 96,
   "metadata": {},
   "outputs": [],
   "source": [
    "def save_people_results():\n",
    "    df = pd.DataFrame()                      \n",
    "    df['name'] = names\n",
    "    df['url'] = urls\n",
    "    df['description'] = p_details\n",
    "    df['location'] = s_details\n",
    "    for row in df:\n",
    "        df['fetch'] = 'https://www.linkedin.com' + df.url + '/'\n",
    "    df.to_csv(f'{search_term}.csv')\n",
    "    print('csv saved')\n",
    "    return df"
   ]
  },
  {
   "cell_type": "code",
   "execution_count": 97,
   "metadata": {},
   "outputs": [
    {
     "name": "stdout",
     "output_type": "stream",
     "text": [
      "Processing page: 1\n",
      "attempting to navigate to: https://www.linkedin.com/search/results/all/?keywords=machine%20learning&origin=GLOBAL_SEARCH_HEADER&page=2\n",
      "csv saved\n"
     ]
    },
    {
     "data": {
      "text/html": [
       "<div>\n",
       "<style scoped>\n",
       "    .dataframe tbody tr th:only-of-type {\n",
       "        vertical-align: middle;\n",
       "    }\n",
       "\n",
       "    .dataframe tbody tr th {\n",
       "        vertical-align: top;\n",
       "    }\n",
       "\n",
       "    .dataframe thead th {\n",
       "        text-align: right;\n",
       "    }\n",
       "</style>\n",
       "<table border=\"1\" class=\"dataframe\">\n",
       "  <thead>\n",
       "    <tr style=\"text-align: right;\">\n",
       "      <th></th>\n",
       "      <th>name</th>\n",
       "      <th>url</th>\n",
       "      <th>description</th>\n",
       "      <th>location</th>\n",
       "      <th>fetch</th>\n",
       "    </tr>\n",
       "  </thead>\n",
       "  <tbody>\n",
       "    <tr>\n",
       "      <th>0</th>\n",
       "      <td>Param P.</td>\n",
       "      <td>/in/parampopat</td>\n",
       "      <td>Machine Learning Software Engineer at Apple | ...</td>\n",
       "      <td>New York, NY</td>\n",
       "      <td>https://www.linkedin.com/in/parampopat/</td>\n",
       "    </tr>\n",
       "    <tr>\n",
       "      <th>1</th>\n",
       "      <td>Farshad Saberi Movahed, PhD</td>\n",
       "      <td>/in/farshad-movahed</td>\n",
       "      <td>Machine Learning Software Engineer at Apple | ...</td>\n",
       "      <td>New York, NY</td>\n",
       "      <td>https://www.linkedin.com/in/farshad-movahed/</td>\n",
       "    </tr>\n",
       "    <tr>\n",
       "      <th>2</th>\n",
       "      <td>Ben Silver</td>\n",
       "      <td>/in/ben-silver-377209132</td>\n",
       "      <td>Machine Learning Software Engineer at Apple | ...</td>\n",
       "      <td>New York, NY</td>\n",
       "      <td>https://www.linkedin.com/in/ben-silver-377209132/</td>\n",
       "    </tr>\n",
       "    <tr>\n",
       "      <th>3</th>\n",
       "      <td>Alex H. M.</td>\n",
       "      <td>/in/alexhmacy</td>\n",
       "      <td>Machine Learning Software Engineer at Apple | ...</td>\n",
       "      <td>New York, NY</td>\n",
       "      <td>https://www.linkedin.com/in/alexhmacy/</td>\n",
       "    </tr>\n",
       "  </tbody>\n",
       "</table>\n",
       "</div>"
      ],
      "text/plain": [
       "                          name                       url  \\\n",
       "0                     Param P.            /in/parampopat   \n",
       "1  Farshad Saberi Movahed, PhD       /in/farshad-movahed   \n",
       "2                   Ben Silver  /in/ben-silver-377209132   \n",
       "3                   Alex H. M.             /in/alexhmacy   \n",
       "\n",
       "                                         description      location  \\\n",
       "0  Machine Learning Software Engineer at Apple | ...  New York, NY   \n",
       "1  Machine Learning Software Engineer at Apple | ...  New York, NY   \n",
       "2  Machine Learning Software Engineer at Apple | ...  New York, NY   \n",
       "3  Machine Learning Software Engineer at Apple | ...  New York, NY   \n",
       "\n",
       "                                               fetch  \n",
       "0            https://www.linkedin.com/in/parampopat/  \n",
       "1       https://www.linkedin.com/in/farshad-movahed/  \n",
       "2  https://www.linkedin.com/in/ben-silver-377209132/  \n",
       "3             https://www.linkedin.com/in/alexhmacy/  "
      ]
     },
     "execution_count": 97,
     "metadata": {},
     "output_type": "execute_result"
    }
   ],
   "source": [
    "people_search('machine learning', 2)\n",
    "save_results()"
   ]
  },
  {
   "cell_type": "code",
   "execution_count": null,
   "metadata": {},
   "outputs": [],
   "source": [
    "    # create dataframe to organize and store results\n",
    "df = pd.DataFrame()                      \n",
    "df['name'] = names\n",
    "df['url'] = urls\n",
    "df['description'] = p_details\n",
    "df['location'] = s_details\n",
    "df.to_csv(f'{search_term}.csv')"
   ]
  },
  {
   "cell_type": "code",
   "execution_count": 941,
   "metadata": {},
   "outputs": [],
   "source": [
    "# create column that contains complete url for webdriver get use for deeper scraping\n",
    "for row in df:\n",
    "    df['fetch'] = 'https://www.linkedin.com' + name_link_df.url + '/'"
   ]
  },
  {
   "cell_type": "markdown",
   "metadata": {},
   "source": [
    "### export results to csv"
   ]
  },
  {
   "cell_type": "code",
   "execution_count": 942,
   "metadata": {},
   "outputs": [],
   "source": [
    "df.to_csv(f'{search_term}.csv')"
   ]
  },
  {
   "cell_type": "code",
   "execution_count": null,
   "metadata": {},
   "outputs": [],
   "source": []
  }
 ],
 "metadata": {
  "kernelspec": {
   "display_name": "Python 3",
   "language": "python",
   "name": "python3"
  },
  "language_info": {
   "codemirror_mode": {
    "name": "ipython",
    "version": 3
   },
   "file_extension": ".py",
   "mimetype": "text/x-python",
   "name": "python",
   "nbconvert_exporter": "python",
   "pygments_lexer": "ipython3",
   "version": "3.8.5"
  }
 },
 "nbformat": 4,
 "nbformat_minor": 4
}
